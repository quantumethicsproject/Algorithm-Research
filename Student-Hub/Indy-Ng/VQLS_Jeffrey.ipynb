{
 "cells": [
  {
   "cell_type": "code",
   "execution_count": 21,
   "metadata": {},
   "outputs": [],
   "source": [
    "import pennylane as qml\n",
    "from pennylane import numpy as np\n",
    "\n",
    "import matplotlib.pyplot as plt\n",
    "# from problems.ising_problem2 import IsingProblem2\n",
    "from problems.ising_problem import IsingProblem\n",
    "from problems.toy_benchmark_problem import ToyProblem\n",
    "from qiskit.providers.fake_provider import *\n",
    "from bin.cost_function import cost_loc, calc_err, cost_global, local_hadamard_test, hadamard_overlap_test\n",
    "from bin.hyperparameters import *\n",
    "from bin.error_mitigation import mitigate_node\n",
    "\n",
    "import time"
   ]
  },
  {
   "cell_type": "code",
   "execution_count": 22,
   "metadata": {},
   "outputs": [],
   "source": [
    "# # Import the library that you need in order to use your IBM account\n",
    "# from qiskit_ibm_provider import IBMProvider\n",
    "# from secrets import *\n",
    "\n",
    "\n",
    "# try:\n",
    "#     IBMProvider()\n",
    "# except:\n",
    "#     IBMProvider.save_account(token=IBM_token, overwrite=True)"
   ]
  },
  {
   "cell_type": "code",
   "execution_count": 23,
   "metadata": {},
   "outputs": [],
   "source": [
    "# provider = IBMProvider()\n",
    "# provider.backends()"
   ]
  },
  {
   "cell_type": "code",
   "execution_count": 24,
   "metadata": {},
   "outputs": [],
   "source": [
    "def configured_backend():\n",
    "    # backend = provider.get_backend(\"ibm_osaka\") # uncomment this line to use a real IBM device\n",
    "    backend = FakeManila()\n",
    "    # backend.options.update_options(...)\n",
    "    return backend"
   ]
  },
  {
   "cell_type": "code",
   "execution_count": 25,
   "metadata": {},
   "outputs": [
    {
     "name": "stdout",
     "output_type": "stream",
     "text": [
      "['IIIIII', 'XXXXXX']\n"
     ]
    }
   ],
   "source": [
    "# define the problem we want to perform our experiment on\n",
    "n_qubits = 6\n",
    "error = 1.6 * 10**-3\n",
    "cond_num = 2\n",
    "\n",
    "# problem = IsingProblem(n_qubits=n_qubits, J=0.1, cond_num=cond_num)\n",
    "problem = ToyProblem(n_qubits=n_qubits)"
   ]
  },
  {
   "cell_type": "code",
   "execution_count": 26,
   "metadata": {},
   "outputs": [],
   "source": [
    "# initialize weights\n",
    "w = q_delta * np.random.randn(problem.param_shape, requires_grad=True)\n",
    "w1 = w.copy()\n",
    "init_weights = list(w.copy().numpy())\n",
    "# w = q_delta * np.random.randn(batch_size, problem.param_shape, requires_grad=True)"
   ]
  },
  {
   "cell_type": "code",
   "execution_count": 27,
   "metadata": {},
   "outputs": [],
   "source": [
    "# create our devices to run our circuits on\n",
    "dev_mu = qml.device(\"default.qubit\", wires=n_qubits+1)\n",
    "dev_gamma = qml.device(\"default.qubit\", wires=n_qubits*2 + 1)\n",
    "# dev_mu = qml.device(\"qiskit.remote\", wires=n_qubits+1, backend=configured_backend()) # device for real IBM devices noisy simulators"
   ]
  },
  {
   "cell_type": "code",
   "execution_count": 28,
   "metadata": {},
   "outputs": [],
   "source": [
    "# in order to make the error mitigation work, we have to pull out the QNode definition outside of the cost function so I'm doing it here\n",
    "local_hadamard_test = qml.QNode(local_hadamard_test, dev_mu, interface=\"autograd\")\n",
    "# local_hadamard_test = mitigate_node(local_hadamard_test)"
   ]
  },
  {
   "cell_type": "code",
   "execution_count": 29,
   "metadata": {},
   "outputs": [],
   "source": [
    "# # # use non-ML optimization methods\n",
    "# from scipy.optimize import minimize\n",
    "\n",
    "# cost_history2 = []\n",
    "\n",
    "# def cost_fun(w):\n",
    "#     cost = cost_loc(problem, w, local_hadamard_test)\n",
    "#     cost_history2.append(cost)\n",
    "#     # w1s_nonML.append(w[0])\n",
    "#     # w2s_nonML.append(w[1])\n",
    "\n",
    "#     return cost\n",
    "\n",
    "# if OPTIMIZER == \"COBYLA\":\n",
    "#     start = time.time()\n",
    "#     res = minimize(cost_fun,\n",
    "#                     w1,\n",
    "#                     method='COBYLA',\n",
    "#                     tol=(error**2)/(n_qubits * cond_num**2)\n",
    "#                     )\n",
    "#     TTS = time.time() - start\n",
    "\n",
    "#     w1 = res.x\n",
    "#     calc_err(n_qubits, cost_history2[-1], cond_num)"
   ]
  },
  {
   "cell_type": "code",
   "execution_count": 30,
   "metadata": {},
   "outputs": [],
   "source": [
    "from IPython.display import clear_output\n",
    "\n",
    "opt = qml.GradientDescentOptimizer(eta)\n",
    "# opt = qml.AdagradOptimizer(eta)\n",
    "# opt = qml.AdamOptimizer(eta) # TODO: tune decay terms\n",
    "\n",
    "cost_history = []\n",
    "\n",
    "err = float(\"inf\")\n",
    "it = 1"
   ]
  },
  {
   "cell_type": "code",
   "execution_count": 31,
   "metadata": {},
   "outputs": [
    {
     "name": "stdout",
     "output_type": "stream",
     "text": [
      "Step 1006       Cost_L = 0.0000001 \t error = 0.0015952\n",
      "Training time: 2848.8330261707306s\n"
     ]
    }
   ],
   "source": [
    "# training loop\n",
    "\n",
    "best_err = 1000\n",
    "best_w = w\n",
    "# prev_w = w\n",
    "\n",
    "ERR_1000 = None\n",
    "TTS_1000 = None\n",
    "\n",
    "start = time.time()\n",
    "while err > error:\n",
    "# for it in range(steps):\n",
    "    # w, cost = opt.step_and_cost(cost_agg, w)\n",
    "    w, cost = opt.step_and_cost(lambda w: cost_loc(problem, w, local_hadamard_test), w)\n",
    "    # w, cost = opt.step_and_cost(lambda w: cost_global(problem, w, local_hadamard_test, hadamard_overlap_test), w)\n",
    "\n",
    "    err = calc_err(n_qubits, cost, cond_num)\n",
    "    if err < best_err:\n",
    "        best_err = err\n",
    "        best_w = w\n",
    "    \n",
    "    clear_output(wait=True)\n",
    "\n",
    "    # print(np.array_equal(best_w, w))\n",
    "\n",
    "    print(\"Step {:3d}       Cost_L = {:9.7f} \\t error = {:9.7f}\".format(it, cost, err), flush=True)\n",
    "    cost_history.append(cost)\n",
    "\n",
    "    prev_w = w\n",
    "\n",
    "    if it == 1000:\n",
    "        ERR_1000 = err\n",
    "        TTS_1000 = time.time() - start\n",
    "\n",
    "    it += 1\n",
    "\n",
    "TTS = time.time() - start\n",
    "print(f\"Training time: {TTS}s\")"
   ]
  },
  {
   "cell_type": "code",
   "execution_count": 32,
   "metadata": {},
   "outputs": [],
   "source": [
    "# best_err"
   ]
  },
  {
   "cell_type": "markdown",
   "metadata": {},
   "source": [
    "### Optimization studies:\n",
    "- each epoch is taking ~ 20s\n",
    "- Each $\\mu$ calculation takes ~0.05s but occasionally spikes to ~0.3s\n",
    "- Each $\\mu_{sum}$ has to loop over each combination of A_l for each qubit -> $c^2n$ operations -> ~15s\n",
    "- Each $|\\psi|$ also has to loop over each combination, but we're unable to recycle computation because these don't apply $CZ$ like the above -> ~4s\n",
    "- The ising problem has 8 C's\n",
    "    - Note that `len(c) = n_qubits * 2` by definition of H_ising\n",
    "- 8 * 8 * 4 * 2 = ~512 mu accumulations\n",
    "\n",
    "--> $8n^3 + 4n^2$ iterations\n",
    "\n",
    "It should be possible to multithread the calculation, but not sure if that's feasible when testing on an actual QC\n",
    "\n",
    "\n",
    "* n_qubits = 5: 1100 mu accumulations\n",
    "* n_qubits = 6: 1872 mu accumulations\n",
    "* n_qubits = 7: 2940 mu accumulations"
   ]
  },
  {
   "cell_type": "code",
   "execution_count": 38,
   "metadata": {},
   "outputs": [
    {
     "name": "stderr",
     "output_type": "stream",
     "text": [
      "/var/folders/46/x_y_zr5s2rj1v37fwfjmjh9r0000gn/T/ipykernel_91338/2721644008.py:1: MatplotlibDeprecationWarning: The seaborn styles shipped by Matplotlib are deprecated since 3.6, as they no longer correspond to the styles shipped by seaborn. However, they will remain available as 'seaborn-v0_8-<style>'. Alternatively, directly use the seaborn API instead.\n",
      "  plt.style.use(\"seaborn\")\n"
     ]
    },
    {
     "data": {
      "image/png": "[encoded data removed]",
      "text/plain": [
       "<Figure size 800x550 with 1 Axes>"
      ]
     },
     "metadata": {},
     "output_type": "display_data"
    }
   ],
   "source": [
    "plt.style.use(\"seaborn\")\n",
    "plt.plot(np.log(cost_history), \"g\")\n",
    "# plt.plot(cost_history, \"g\")\n",
    "# plt.plot(cost_history2, \"g\")\n",
    "plt.ylabel(\"Cost function\")\n",
    "plt.xlabel(\"Optimization steps\")\n",
    "plt.show()"
   ]
  },
  {
   "cell_type": "markdown",
   "metadata": {},
   "source": [
    "Qualitatively, it's converging slower than the toy problem, suggesting more iterations are needed"
   ]
  },
  {
   "cell_type": "code",
   "execution_count": 34,
   "metadata": {},
   "outputs": [
    {
     "name": "stderr",
     "output_type": "stream",
     "text": [
      "/Users/bigsad/Downloads/Algorithm-Research/Student-Hub/Indy-Ng/.venv/lib/python3.11/site-packages/pennylane/math/utils.py:227: UserWarning: Contains tensors of types {'problems', 'autograd'}; dispatch will prioritize TensorFlow, PyTorch, and  Jax over Autograd. Consider replacing Autograd with vanilla NumPy.\n",
      "  warnings.warn(\n"
     ]
    }
   ],
   "source": [
    "from bin.inference import get_cprobs, get_qprobs\n",
    "c_probs = get_cprobs(problem)\n",
    "\n",
    "# dev_x = qml.device(\"qiskit.remote\", wires=n_qubits, backend=configured_backend())\n",
    "dev_x = qml.device(\"default.qubit\", wires=n_qubits, shots=n_shots)\n",
    "\n",
    "def prepare_and_sample(problem, weights):\n",
    "\n",
    "    # Variational circuit generating a guess for the solution vector |x>\n",
    "    problem.variational_block(weights)\n",
    "\n",
    "    # We assume that the system is measured in the computational basis.\n",
    "    # then sampling the device will give us a value of 0 or 1 for each qubit (n_qubits)\n",
    "    # this will be repeated for the total number of shots provided (n_shots)\n",
    "    return qml.sample()\n",
    "\n",
    "def get_qprobs(problem, w, device):\n",
    "    sampler = qml.QNode(prepare_and_sample, device)\n",
    "\n",
    "    # sampler = mitigate_node(sampler)\n",
    "\n",
    "    raw_samples = sampler(problem, w)\n",
    "    # raw_samples = np.concatenate(raw_samples, axis=0)# FOR BATCHING\n",
    "\n",
    "    # convert the raw samples (bit strings) into integers and count them\n",
    "    samples = []\n",
    "    for sam in raw_samples:\n",
    "        samples.append(int(\"\".join(str(bs) for bs in sam), base=2))\n",
    "\n",
    "    q_probs = np.bincount(samples, minlength=2**problem.n_qubits) / len(raw_samples)\n",
    "    # q_probs = np.bincount(samples, minlength=2**problem.n_qubits) / n_shots\n",
    "\n",
    "    return q_probs\n",
    "\n",
    "\n",
    "q_probs = get_qprobs(problem, best_w, dev_x)\n",
    "# q_probs2 = get_qprobs(problem, w1, dev_x)"
   ]
  },
  {
   "cell_type": "code",
   "execution_count": 35,
   "metadata": {},
   "outputs": [
    {
     "name": "stderr",
     "output_type": "stream",
     "text": [
      "/Users/bigsad/Downloads/Algorithm-Research/Student-Hub/Indy-Ng/.venv/lib/python3.11/site-packages/matplotlib/transforms.py:762: ComplexWarning: Casting complex values to real discards the imaginary part\n",
      "  points = np.asarray(points, float)\n"
     ]
    },
    {
     "data": {
      "image/png": "[encoded data removed]",
      "text/plain": [
       "<Figure size 700x400 with 3 Axes>"
      ]
     },
     "metadata": {},
     "output_type": "display_data"
    }
   ],
   "source": [
    "fig, (ax1, ax2, ax3) = plt.subplots(1, 3, figsize=(7, 4))\n",
    "\n",
    "ax1.bar(np.arange(0, 2 ** n_qubits), c_probs, color=\"blue\")\n",
    "ax1.set_xlim(-0.5, 2 ** n_qubits - 0.5)\n",
    "ax1.set_xlabel(\"Vector space basis\")\n",
    "ax1.set_title(\"Classical probabilities\")\n",
    "\n",
    "ax2.bar(np.arange(0, 2 ** n_qubits), q_probs, color=\"green\")\n",
    "ax2.set_xlim(-0.5, 2 ** n_qubits - 0.5)\n",
    "ax2.set_xlabel(\"Hilbert space basis\")\n",
    "ax2.set_title(\"Quantum probabilities\")\n",
    "\n",
    "# ax3.bar(np.arange(0, 2 ** n_qubits), q_probs2, color=\"green\")\n",
    "# ax3.set_xlim(-0.5, 2 ** n_qubits - 0.5)\n",
    "# ax3.set_xlabel(\"Hilbert space basis\")\n",
    "# ax3.set_title(\"Quantum probabilities\")\n",
    "\n",
    "plt.show()"
   ]
  },
  {
   "cell_type": "code",
   "execution_count": 36,
   "metadata": {},
   "outputs": [],
   "source": [
    "result = {\n",
    "    \"problem\": str(problem),\n",
    "    \"n_qubits\": n_qubits,\n",
    "    # \"ansatz\": f\"{problem.n_layers}-layer HEA\",\n",
    "    \"cost\": \"local\",\n",
    "    \"optimizer\": OPTIMIZER,\n",
    "    \"cond_num\": cond_num,\n",
    "    \"error_threshold\": error,\n",
    "    \"noise_model\": NOISE_MODEL,\n",
    "    \"TTS\": TTS,\n",
    "    \"STS\": len(cost_history2) if OPTIMIZER == \"COBYLA\" else len(cost_history),\n",
    "    \"final_error\": calc_err(n_qubits, cost_history[-1], cond_num).item(),\n",
    "    \"cost_history\": list(cost_history) if OPTIMIZER != \"COBYLA\" else [tensor.item() for tensor in cost_history2],\n",
    "    \"model_weights\": list(w1) if OPTIMIZER == \"COBYLA\" else list(w.numpy()),\n",
    "    \"init_weights\": init_weights\n",
    "}"
   ]
  },
  {
   "cell_type": "code",
   "execution_count": 37,
   "metadata": {},
   "outputs": [],
   "source": [
    "# # serialize to JSON?\n",
    "import json\n",
    "\n",
    "with open('data/Toy_SGD_noiseless.json', 'a') as fp:\n",
    "    fp.write(\",\")\n",
    "    json.dump(result, fp)"
   ]
  },
  {
   "cell_type": "code",
   "execution_count": null,
   "metadata": {},
   "outputs": [],
   "source": []
  }
 ],
 "metadata": {
  "kernelspec": {
   "display_name": ".venv",
   "language": "python",
   "name": "python3"
  },
  "language_info": {
   "codemirror_mode": {
    "name": "ipython",
    "version": 3
   },
   "file_extension": ".py",
   "mimetype": "text/x-python",
   "name": "python",
   "nbconvert_exporter": "python",
   "pygments_lexer": "ipython3",
   "version": "3.11.6+"
  },
  "orig_nbformat": 4
 },
 "nbformat": 4,
 "nbformat_minor": 2
}
