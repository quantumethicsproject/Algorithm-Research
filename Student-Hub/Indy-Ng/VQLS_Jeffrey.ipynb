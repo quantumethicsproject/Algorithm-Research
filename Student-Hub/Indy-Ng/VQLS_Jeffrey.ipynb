{
 "cells": [
  {
   "cell_type": "code",
   "execution_count": 1,
   "metadata": {},
   "outputs": [],
   "source": [
    "import pennylane as qml\n",
    "from pennylane import numpy as np\n",
    "\n",
    "import matplotlib.pyplot as plt\n",
    "# from problems.ising_problem2 import IsingProblem2\n",
    "from problems.ising_problem import IsingProblem\n",
    "from problems.ising_problem3 import IsingProblem3\n",
    "from problems.toy_problem import ToyProblem\n",
    "from problems.baby_problem import BabyProblem1\n",
    "from problems.baby_problem2 import UFProblem\n",
    "from problems.benchmark_problem import BenchmarkProblem\n",
    "from qiskit.providers.fake_provider import *\n",
    "from bin.cost_function import cost_loc, calc_err, cost_global, local_hadamard_test, hadamard_overlap_test\n",
    "from bin.hyperparameters import *\n",
    "from bin.error_mitigation import mitigate_node\n",
    "\n",
    "import time"
   ]
  },
  {
   "cell_type": "code",
   "execution_count": 2,
   "metadata": {},
   "outputs": [],
   "source": [
    "# # Import the library that you need in order to use your IBM account\n",
    "# from qiskit_ibm_provider import IBMProvider\n",
    "# from secrets import *\n",
    "\n",
    "\n",
    "# try:\n",
    "#     IBMProvider()\n",
    "# except:\n",
    "#     IBMProvider.save_account(token=IBM_token, overwrite=True)"
   ]
  },
  {
   "cell_type": "code",
   "execution_count": 3,
   "metadata": {},
   "outputs": [],
   "source": [
    "# provider = IBMProvider()\n",
    "# provider.backends()"
   ]
  },
  {
   "cell_type": "code",
   "execution_count": 4,
   "metadata": {},
   "outputs": [],
   "source": [
    "def configured_backend():\n",
    "    # backend = provider.get_backend(\"ibm_osaka\") # uncomment this line to use a real IBM device\n",
    "    backend = FakeManila()\n",
    "    # backend.options.update_options(...)\n",
    "    return backend"
   ]
  },
  {
   "cell_type": "code",
   "execution_count": 5,
   "metadata": {},
   "outputs": [],
   "source": [
    "# # define the problem we want to perform our experiment on\n",
    "# n_qubits = 5\n",
    "# error = 0.01\n",
    "# cond_num = 50\n",
    "\n",
    "# problem = ToyProblem(\n",
    "#     n_qubits=n_qubits,\n",
    "# )"
   ]
  },
  {
   "cell_type": "code",
   "execution_count": 6,
   "metadata": {},
   "outputs": [
    {
     "name": "stdout",
     "output_type": "stream",
     "text": [
      "['XI', 'IX', 'ZZ', 'II']\n"
     ]
    }
   ],
   "source": [
    "n_qubits = 2\n",
    "cond_num = 10\n",
    "error = 0.1\n",
    "# error = 1.6 * 10**-3\n",
    "\n",
    "# problem = BenchmarkProblem(n_qubits)\n",
    "# problem = ToyProblem(n_qubits)\n",
    "problem = IsingProblem(n_qubits,J=0.1, cond_num=cond_num)"
   ]
  },
  {
   "cell_type": "code",
   "execution_count": 7,
   "metadata": {},
   "outputs": [],
   "source": [
    "# initialize weights\n",
    "w = q_delta * np.random.randn(problem.param_shape,requires_grad=True)\n",
    "w1 = w.copy()\n",
    "# w = q_delta * np.random.randn(2, requires_grad=True)\n",
    "init_weights = list(w.numpy())\n",
    "# w = q_delta * np.random.randn(batch_size, problem.param_shape, requires_grad=True)"
   ]
  },
  {
   "cell_type": "code",
   "execution_count": 8,
   "metadata": {},
   "outputs": [],
   "source": [
    "# create our devices to run our circuits on\n",
    "dev_mu = qml.device(\"default.qubit\", wires=n_qubits+1)\n",
    "# dev_mu = qml.device(\"default.qubit\", wires=n_qubits+3)\n",
    "dev_gamma = qml.device(\"default.qubit\", wires=n_qubits*2 + 1)\n",
    "# dev_mu = qml.device(\"qiskit.remote\", wires=n_qubits+1, backend=configured_backend()) # device for real IBM devices noisy simulators"
   ]
  },
  {
   "cell_type": "code",
   "execution_count": 9,
   "metadata": {},
   "outputs": [],
   "source": [
    "# in order to make the error mitigation work, we have to pull out the QNode definition outside of the cost function so I'm doing it here\n",
    "local_hadamard_test = qml.QNode(local_hadamard_test, dev_mu, interface=\"autograd\")\n",
    "# local_hadamard_test = mitigate_node(local_hadamard_test)"
   ]
  },
  {
   "cell_type": "code",
   "execution_count": 10,
   "metadata": {},
   "outputs": [],
   "source": [
    "# overlap test is used for the global cost function\n",
    "hadamard_overlap_test = qml.QNode(hadamard_overlap_test, dev_gamma, interface=\"autograd\")\n",
    "# hadamard_overlap_test = mitigate_node(hadamard_overlap_test)"
   ]
  },
  {
   "cell_type": "code",
   "execution_count": 11,
   "metadata": {},
   "outputs": [],
   "source": [
    "# w1s_nonML = []\n",
    "# w2s_nonML = []\n",
    "cost_history2 = []\n",
    "\n",
    "def cost_fun(w):\n",
    "    cost = cost_loc(problem, w, local_hadamard_test)\n",
    "    cost_history2.append(cost)\n",
    "    # w1s_nonML.append(w[0])\n",
    "    # w2s_nonML.append(w[1])\n",
    "\n",
    "    return cost"
   ]
  },
  {
   "cell_type": "code",
   "execution_count": 12,
   "metadata": {},
   "outputs": [],
   "source": [
    "# # use non-ML optimization methods\n",
    "from scipy.optimize import minimize\n",
    "if OPTIMIZER == \"COBYLA\":\n",
    "    start = time.time()\n",
    "    res = minimize(cost_fun,\n",
    "                    w1,\n",
    "                    method='COBYLA',\n",
    "                    tol=error\n",
    "                    )\n",
    "    TTS = time.time() - start\n",
    "\n",
    "    w1 = res.x\n",
    "    calc_err(n_qubits, cost_history2[-1], cond_num)\n",
    "\n"
   ]
  },
  {
   "cell_type": "code",
   "execution_count": 13,
   "metadata": {},
   "outputs": [
    {
     "name": "stdout",
     "output_type": "stream",
     "text": [
      "0: ──RY(-1.34)─╭●──────────RY(-2.02)─╭●──RY(0.10)─╭X──H──H─╭X────┤     \n",
      "1: ──RY(-2.25)─╰Z──────────RY(-1.61)─╰Z──RY(0.30)─│───H──H─│─────┤     \n",
      "2: ──H──────────Rϕ(-1.57)─────────────────────────╰●───────╰●──H─┤  <Z>\n"
     ]
    }
   ],
   "source": [
    "print(qml.draw(local_hadamard_test, expansion_strategy=\"device\")(w, problem, l=0, lp=0, j=-1, part=\"Im\"))"
   ]
  },
  {
   "cell_type": "code",
   "execution_count": 14,
   "metadata": {},
   "outputs": [],
   "source": [
    "from IPython.display import clear_output\n",
    "\n",
    "# opt = qml.GradientDescentOptimizer(eta)\n",
    "opt = qml.GradientDescentOptimizer(0.3)\n",
    "# opt = qml.AdagradOptimizer(eta)\n",
    "# opt = qml.AdamOptimizer(eta) # TODO: tune decay terms\n",
    "\n",
    "cost_history = []\n",
    "\n",
    "err = float(\"inf\")\n",
    "it = 1"
   ]
  },
  {
   "cell_type": "code",
   "execution_count": 33,
   "metadata": {},
   "outputs": [
    {
     "data": {
      "text/plain": [
       "tensor(0.03062369, requires_grad=True)"
      ]
     },
     "execution_count": 33,
     "metadata": {},
     "output_type": "execute_result"
    }
   ],
   "source": [
    "cost_loc(problem, w, local_hadamard_test)"
   ]
  },
  {
   "cell_type": "code",
   "execution_count": 16,
   "metadata": {},
   "outputs": [],
   "source": [
    "if OPTIMIZER == f\"SGD_lr={eta}\":\n",
    "    # training loop\n",
    "\n",
    "    best_err = 1000\n",
    "    best_w = w\n",
    "    # prev_w = w\n",
    "\n",
    "    w1s = []\n",
    "    w2s = []\n",
    "\n",
    "    start = time.time()\n",
    "    while err > error and it < 1000:\n",
    "    # for it in range(300):\n",
    "        w, cost = opt.step_and_cost(lambda w: cost_loc(problem, w, local_hadamard_test), w)\n",
    "        # w, cost = opt.step_and_cost(lambda w: cost_global(problem, w, local_hadamard_test, hadamard_overlap_test), w)\n",
    "\n",
    "        w1s.append(w[0])\n",
    "        w2s.append(w[1])\n",
    "\n",
    "        err = calc_err(n_qubits, cost, cond_num)\n",
    "        if err < best_err:\n",
    "            best_err = err\n",
    "            best_w = w\n",
    "        \n",
    "        clear_output(wait=True)\n",
    "\n",
    "        # print(np.array_equal(best_w, w))\n",
    "\n",
    "        print(\"Step {:3d}       Cost_L = {:9.7f} \\t error = {:9.7f}\".format(it, cost, err), flush=True)\n",
    "        cost_history.append(cost)\n",
    "\n",
    "        prev_w = w\n",
    "\n",
    "        it += 1\n",
    "\n",
    "    TTS = time.time() - start\n",
    "    STS = it\n",
    "\n",
    "    print(f\"Training time: {TTS}s\")"
   ]
  },
  {
   "cell_type": "code",
   "execution_count": 17,
   "metadata": {},
   "outputs": [],
   "source": [
    "# best_err"
   ]
  },
  {
   "cell_type": "markdown",
   "metadata": {},
   "source": [
    "### Optimization studies:\n",
    "- each epoch is taking ~ 20s\n",
    "- Each $\\mu$ calculation takes ~0.05s but occasionally spikes to ~0.3s\n",
    "- Each $\\mu_{sum}$ has to loop over each combination of A_l for each qubit -> $c^2n$ operations -> ~15s\n",
    "- Each $|\\psi|$ also has to loop over each combination, but we're unable to recycle computation because these don't apply $CZ$ like the above -> ~4s\n",
    "- The ising problem has 8 C's\n",
    "    - Note that `len(c) = n_qubits * 2` by definition of H_ising\n",
    "- 8 * 8 * 4 * 2 = ~512 mu accumulations\n",
    "\n",
    "--> $8n^3 + 4n^2$ iterations\n",
    "\n",
    "It should be possible to multithread the calculation, but not sure if that's feasible when testing on an actual QC\n",
    "\n",
    "\n",
    "* n_qubits = 5: 1100 mu accumulations\n",
    "* n_qubits = 6: 1872 mu accumulations\n",
    "* n_qubits = 7: 2940 mu accumulations"
   ]
  },
  {
   "cell_type": "code",
   "execution_count": 34,
   "metadata": {},
   "outputs": [
    {
     "name": "stderr",
     "output_type": "stream",
     "text": [
      "/var/folders/46/x_y_zr5s2rj1v37fwfjmjh9r0000gn/T/ipykernel_87442/1603760836.py:1: MatplotlibDeprecationWarning: The seaborn styles shipped by Matplotlib are deprecated since 3.6, as they no longer correspond to the styles shipped by seaborn. However, they will remain available as 'seaborn-v0_8-<style>'. Alternatively, directly use the seaborn API instead.\n",
      "  plt.style.use(\"seaborn\")\n"
     ]
    },
    {
     "data": {
      "image/png": "[encoded data removed]",
      "text/plain": [
       "<Figure size 800x550 with 1 Axes>"
      ]
     },
     "metadata": {},
     "output_type": "display_data"
    }
   ],
   "source": [
    "plt.style.use(\"seaborn\")\n",
    "# plt.plot(np.log(cost_history), \"g\")\n",
    "plt.plot(np.log(cost_history2), \"r\")\n",
    "plt.ylabel(\"Cost function\")\n",
    "plt.xlabel(\"Optimization steps\")\n",
    "plt.show()"
   ]
  },
  {
   "cell_type": "code",
   "execution_count": 19,
   "metadata": {},
   "outputs": [],
   "source": [
    "# xs = np.linspace(-np.pi, np.pi, 50)\n",
    "# ys = np.linspace(-np.pi, np.pi, 50)\n",
    "\n",
    "# costs = []\n",
    "\n",
    "# for x in xs:\n",
    "#     row = []\n",
    "#     for y in ys:\n",
    "#         row.append(cost_loc(problem, [x,y], local_hadamard_test))\n",
    "#     costs.append(row)\n",
    "\n",
    "# costs = np.array(costs)"
   ]
  },
  {
   "cell_type": "code",
   "execution_count": 20,
   "metadata": {},
   "outputs": [],
   "source": [
    "# w1s_norm = ((np.array(w1s) % (np.pi) + np.pi) / (2 * np.pi)) * 50\n",
    "# w2s_norm = ((np.array(w2s) % (np.pi) + np.pi) / (2 * np.pi)) * 50"
   ]
  },
  {
   "cell_type": "code",
   "execution_count": 21,
   "metadata": {},
   "outputs": [],
   "source": [
    "# w1s_nonML_norm = (((np.array(w1s_nonML) + np.pi) % (2 * np.pi)) / (2 * np.pi)) * 50\n",
    "# w2s_nonML_norm = (((np.array(w2s_nonML) + np.pi) % (2 * np.pi)) / (2 * np.pi)) * 50\n",
    "# w1s_nonML_norm"
   ]
  },
  {
   "cell_type": "code",
   "execution_count": 22,
   "metadata": {},
   "outputs": [],
   "source": [
    "# plt.plot(w1s_norm, w2s_norm, color='red')"
   ]
  },
  {
   "cell_type": "code",
   "execution_count": 23,
   "metadata": {},
   "outputs": [],
   "source": [
    "# plt.plot(w1s_nonML_norm, w2s_nonML_norm, color='red')"
   ]
  },
  {
   "cell_type": "code",
   "execution_count": 24,
   "metadata": {},
   "outputs": [],
   "source": [
    "# import seaborn as sns\n",
    "\n",
    "# num_boxes = 50\n",
    "# # rescale weights\n",
    "# # w1s_norm = ((np.array(w1s) % (np.pi) + np.pi) / (2 * np.pi)) * 50\n",
    "# # w2s_norm = ((np.array(w2s) % (np.pi) + np.pi) / (2 * np.pi)) * 50\n",
    "\n",
    "# num_ticks = 10\n",
    "# # the index of the position of yticks\n",
    "# yticks = np.linspace(0,num_boxes,num_ticks)\n",
    "# # the content of labels of these yticks\n",
    "# yticklabels = np.round(np.linspace(-np.pi, np.pi, num_ticks),2)\n",
    "# # the index of the position of xticks\n",
    "# xticks = np.linspace(0,num_boxes,num_ticks)\n",
    "# # the content of labels of these xticks\n",
    "# xticklabels = np.round(np.linspace(-np.pi, np.pi, num_ticks),2)\n",
    "\n",
    "# sns.heatmap(costs, yticklabels=yticklabels)\n",
    "# plt.yticks(yticks, yticklabels)\n",
    "# plt.xticks(xticks, xticklabels)\n",
    "\n",
    "# # Plot scatterplot on top\n",
    "# # plt.plot(w2s_norm, w1s_norm, color='blue')\n",
    "# plt.plot(w2s_nonML_norm, w1s_nonML_norm, color='green')\n",
    "# plt.show()"
   ]
  },
  {
   "cell_type": "code",
   "execution_count": 25,
   "metadata": {},
   "outputs": [],
   "source": [
    "# init_weights"
   ]
  },
  {
   "cell_type": "markdown",
   "metadata": {},
   "source": [
    "Qualitatively, it's converging slower than the toy problem, suggesting more iterations are needed"
   ]
  },
  {
   "cell_type": "code",
   "execution_count": 35,
   "metadata": {},
   "outputs": [],
   "source": [
    "from bin.inference import get_cprobs, get_qprobs\n",
    "c_probs = get_cprobs(problem)\n",
    "\n",
    "# dev_x = qml.device(\"qiskit.remote\", wires=n_qubits, backend=configured_backend())\n",
    "dev_x = qml.device(\"default.qubit\", wires=n_qubits, shots=n_shots)\n",
    "\n",
    "def prepare_and_sample(problem, weights):\n",
    "\n",
    "    # Variational circuit generating a guess for the solution vector |x>\n",
    "    problem.variational_block(weights)\n",
    "\n",
    "    # We assume that the system is measured in the computational basis.\n",
    "    # then sampling the device will give us a value of 0 or 1 for each qubit (n_qubits)\n",
    "    # this will be repeated for the total number of shots provided (n_shots)\n",
    "    return qml.sample()\n",
    "\n",
    "def get_qprobs(problem, w, device):\n",
    "    sampler = qml.QNode(prepare_and_sample, device)\n",
    "\n",
    "    # sampler = mitigate_node(sampler)\n",
    "\n",
    "    raw_samples = sampler(problem, w)\n",
    "    # raw_samples = np.concatenate(raw_samples, axis=0)# FOR BATCHING\n",
    "\n",
    "    print(raw_samples[:min(len(raw_samples), 10)])\n",
    "\n",
    "    # convert the raw samples (bit strings) into integers and count them\n",
    "    samples = []\n",
    "    for sam in raw_samples:\n",
    "        samples.append(int(\"\".join(str(bs) for bs in sam), base=2))\n",
    "\n",
    "    # q_probs = np.bincount(raw_samples, minlength=2**problem.n_qubits) / len(raw_samples)\n",
    "    q_probs = np.bincount(samples, minlength=2**problem.n_qubits) / len(raw_samples)\n",
    "    # q_probs = np.bincount(samples, minlength=2**problem.n_qubits) / n_shots\n",
    "\n",
    "    return q_probs"
   ]
  },
  {
   "cell_type": "code",
   "execution_count": 36,
   "metadata": {},
   "outputs": [
    {
     "name": "stdout",
     "output_type": "stream",
     "text": [
      "[[0 1]\n",
      " [0 0]\n",
      " [1 1]\n",
      " [1 0]\n",
      " [0 1]\n",
      " [1 0]\n",
      " [0 1]\n",
      " [0 0]\n",
      " [1 0]\n",
      " [1 1]]\n"
     ]
    }
   ],
   "source": [
    "if OPTIMIZER != \"COBYLA\":\n",
    "    q_probs = get_qprobs(problem, w, dev_x)\n",
    "else:\n",
    "    q_probs = get_qprobs(problem, w1, dev_x)"
   ]
  },
  {
   "cell_type": "code",
   "execution_count": 37,
   "metadata": {},
   "outputs": [
    {
     "name": "stdout",
     "output_type": "stream",
     "text": [
      "[[1 1]\n",
      " [0 1]\n",
      " [0 0]\n",
      " [0 0]\n",
      " [1 1]\n",
      " [0 0]\n",
      " [0 1]\n",
      " [0 1]\n",
      " [1 0]\n",
      " [1 0]]\n"
     ]
    }
   ],
   "source": [
    "q_probs = get_qprobs(problem, w1, dev_x)"
   ]
  },
  {
   "cell_type": "code",
   "execution_count": 38,
   "metadata": {},
   "outputs": [
    {
     "name": "stderr",
     "output_type": "stream",
     "text": [
      "/Users/bigsad/Downloads/Algorithm-Research/Student-Hub/Indy-Ng/.venv/lib/python3.11/site-packages/matplotlib/transforms.py:762: ComplexWarning: Casting complex values to real discards the imaginary part\n",
      "  points = np.asarray(points, float)\n"
     ]
    },
    {
     "data": {
      "image/png": "[encoded data removed]",
      "text/plain": [
       "<Figure size 700x400 with 2 Axes>"
      ]
     },
     "metadata": {},
     "output_type": "display_data"
    }
   ],
   "source": [
    "fig, (ax1, ax2) = plt.subplots(1, 2, figsize=(7, 4))\n",
    "\n",
    "ax1.bar(np.arange(0, 2 ** n_qubits), c_probs, color=\"blue\")\n",
    "ax1.set_xlim(-0.5, 2 ** n_qubits - 0.5)\n",
    "ax1.set_xlabel(\"Vector space basis\")\n",
    "ax1.set_title(\"Classical probabilities\")\n",
    "\n",
    "ax2.bar(np.arange(0, 2 ** n_qubits), q_probs, color=\"green\")\n",
    "ax2.set_xlim(-0.5, 2 ** n_qubits - 0.5)\n",
    "ax2.set_xlabel(\"Hilbert space basis\")\n",
    "ax2.set_title(\"Quantum probabilities\")\n",
    "\n",
    "plt.show()"
   ]
  },
  {
   "cell_type": "code",
   "execution_count": 30,
   "metadata": {},
   "outputs": [],
   "source": [
    "result = {\n",
    "    \"problem\": str(problem),\n",
    "    \"n_qubits\": n_qubits,\n",
    "    \"ansatz\": f\"{problem.n_layers}-layer HEA\",\n",
    "    \"cost\": \"local\",\n",
    "    \"optimizer\": OPTIMIZER,\n",
    "    \"cond_num\": cond_num,\n",
    "    \"error_threshold\": error,\n",
    "    \"noise_model\": NOISE_MODEL,\n",
    "    \"TTS\": TTS,\n",
    "    \"STS\": len(cost_history2) if OPTIMIZER == \"COBYLA\" else len(cost_history),\n",
    "    \"cost_history\": list(cost_history) if OPTIMIZER != \"COBYLA\" else [tensor.item() for tensor in cost_history2],\n",
    "    \"model_weights\": list(w1) if OPTIMIZER == \"COBYLA\" else list(w.numpy()),\n",
    "    \"init_weights\": init_weights\n",
    "}"
   ]
  },
  {
   "cell_type": "code",
   "execution_count": 31,
   "metadata": {},
   "outputs": [
    {
     "data": {
      "text/plain": [
       "{'problem': '<problems.ising_problem.IsingProblem object at 0x13e05b9d0>',\n",
       " 'n_qubits': 2,\n",
       " 'ansatz': '2-layer HEA',\n",
       " 'cost': 'local',\n",
       " 'optimizer': 'COBYLA',\n",
       " 'cond_num': 10,\n",
       " 'error_threshold': 0.1,\n",
       " 'noise_model': None,\n",
       " 'TTS': 93.93813014030457,\n",
       " 'STS': 121,\n",
       " 'cost_history': [0.030623688301175844,\n",
       "  0.13521191830696477,\n",
       "  0.017141283919414996,\n",
       "  0.026256443260089246,\n",
       "  0.018021891332109408,\n",
       "  0.09429048763331849,\n",
       "  0.0976817575941823,\n",
       "  0.017141283919414996,\n",
       "  0.017141283919414996,\n",
       "  0.017141283919414996,\n",
       "  0.017141283919414996,\n",
       "  0.017141283919414996,\n",
       "  0.017141283919414996,\n",
       "  0.017141283919414996,\n",
       "  0.017141283919414996,\n",
       "  0.017141283919414996,\n",
       "  0.017141283919414996,\n",
       "  0.017141283919414996,\n",
       "  0.017141283919414996,\n",
       "  0.017141283919414996,\n",
       "  0.017141283919414996,\n",
       "  0.019497283174145785,\n",
       "  0.021473796920628396,\n",
       "  0.006939347376479721,\n",
       "  0.004802877776352632,\n",
       "  0.006204317045688024,\n",
       "  0.0033528978791790842,\n",
       "  0.004698166027649442,\n",
       "  0.0036272812752295436,\n",
       "  0.0026919758629925794,\n",
       "  0.0026919758629925794,\n",
       "  0.002830808256284345,\n",
       "  0.0026919758629925794,\n",
       "  0.002844435429088299,\n",
       "  0.0026919758629925794,\n",
       "  0.00286100687703722,\n",
       "  0.0026919758629925794,\n",
       "  0.0028815845140301444,\n",
       "  0.0026919758629925794,\n",
       "  0.002907806467156382,\n",
       "  0.0026919758629925794,\n",
       "  0.0029423359521895676,\n",
       "  0.0026919758629925794,\n",
       "  0.002989803607768682,\n",
       "  0.00797297412093051,\n",
       "  0.002968908620583466,\n",
       "  0.0036120310766750152,\n",
       "  0.001666497020484381,\n",
       "  0.0016047425445391283,\n",
       "  0.0014952449214657992,\n",
       "  0.0015820560765595904,\n",
       "  0.00135019028342942,\n",
       "  0.0017322446437038064,\n",
       "  0.0013778350685099694,\n",
       "  0.0014435281041386139,\n",
       "  0.0013741859265987144,\n",
       "  0.0014132305289436542,\n",
       "  0.001350241125803231,\n",
       "  0.001291002402530328,\n",
       "  0.0012910202876109667,\n",
       "  0.001249445356356571,\n",
       "  0.00124944535635646,\n",
       "  0.0012264285893351934,\n",
       "  0.0012264285893351934,\n",
       "  0.0012578131100141055,\n",
       "  0.0012264285893351934,\n",
       "  0.0012471812122372694,\n",
       "  0.0012264285893351934,\n",
       "  0.0012992906434757256,\n",
       "  0.0015931187632307608,\n",
       "  0.0011273894209875568,\n",
       "  0.0009074834716714109,\n",
       "  0.0011298783473600027,\n",
       "  0.0010857716737374679,\n",
       "  0.0009227273917357115,\n",
       "  0.0009229342989123812,\n",
       "  0.0013029279392450799,\n",
       "  0.0009586489281768196,\n",
       "  0.0008206146052391894,\n",
       "  0.0008206790738177205,\n",
       "  0.0008083918977791482,\n",
       "  0.0008084196913101249,\n",
       "  0.0008052997637559289,\n",
       "  0.0008052997637558734,\n",
       "  0.0008340036548622476,\n",
       "  0.0008042284812743716,\n",
       "  0.0012106674807487172,\n",
       "  0.0008049738841238718,\n",
       "  0.0009336373461921177,\n",
       "  0.0008042284812743716,\n",
       "  0.0008969204122006857,\n",
       "  0.0008042284812743716,\n",
       "  0.0007867488978509085,\n",
       "  0.000786748897850853,\n",
       "  0.0013802381477779346,\n",
       "  0.0007522207663069325,\n",
       "  0.001260808521161949,\n",
       "  0.0007572409099985689,\n",
       "  0.0006169503988052161,\n",
       "  0.0006265116886188249,\n",
       "  0.0005967214492675343,\n",
       "  0.0005968550198401923,\n",
       "  0.0007002458624734142,\n",
       "  0.0005900888883867972,\n",
       "  0.0005317305496109759,\n",
       "  0.0005316738180964897,\n",
       "  0.0008292603814506472,\n",
       "  0.0005389132061937585,\n",
       "  0.0012811395472945852,\n",
       "  0.0005316738180965452,\n",
       "  0.0008900121583562126,\n",
       "  0.0005273276075509759,\n",
       "  0.0005744626321380619,\n",
       "  0.0005230944502476187,\n",
       "  0.000565605923478707,\n",
       "  0.0005230944502477852,\n",
       "  0.0005524788142946546,\n",
       "  0.0005230944502477297,\n",
       "  0.0006315332318618805,\n",
       "  0.0005902882528023845,\n",
       "  0.0004819722163612594],\n",
       " 'model_weights': [-1.719364755496769,\n",
       "  -1.3559656783887806,\n",
       "  -1.7171487603963385,\n",
       "  -1.3776950158524814,\n",
       "  -0.19898131089518528,\n",
       "  0.17831361367321716,\n",
       "  1.992334117049169,\n",
       "  4.1090811496041555,\n",
       "  2.5672026704940243,\n",
       "  1.9606235005605328,\n",
       "  -0.45853261294832526,\n",
       "  2.543455017663651,\n",
       "  4.567074545743619,\n",
       "  -0.3599146318092375,\n",
       "  -2.6772908753922566,\n",
       "  3.274114816121399,\n",
       "  3.6153816156878977,\n",
       "  1.2702995059565159,\n",
       "  3.5956094833037264,\n",
       "  -1.1729897089673185],\n",
       " 'init_weights': [-1.3408642821987522,\n",
       "  -2.246099060658384,\n",
       "  -2.018065306877104,\n",
       "  -1.6102981693438534,\n",
       "  0.10415937384715285,\n",
       "  0.2983763853965594,\n",
       "  1.8239548037405653,\n",
       "  3.9407018362955286,\n",
       "  2.61613071250799,\n",
       "  1.9842241366795603,\n",
       "  -0.52862428516514,\n",
       "  2.684049603162911,\n",
       "  4.622981919906564,\n",
       "  -0.3918965409789945,\n",
       "  -2.674219481416818,\n",
       "  3.2945211945494552,\n",
       "  3.629497046581957,\n",
       "  1.2590875309556586,\n",
       "  3.6790225382298076,\n",
       "  -1.2182298974568648]}"
      ]
     },
     "execution_count": 31,
     "metadata": {},
     "output_type": "execute_result"
    }
   ],
   "source": [
    "result"
   ]
  },
  {
   "cell_type": "code",
   "execution_count": 32,
   "metadata": {},
   "outputs": [],
   "source": [
    "# # serialize to JSON?\n",
    "# import json\n",
    "\n",
    "# with open('data/Ising.json', 'a') as fp:\n",
    "#     fp.write(\",\")\n",
    "#     json.dump(result, fp)"
   ]
  },
  {
   "cell_type": "code",
   "execution_count": null,
   "metadata": {},
   "outputs": [],
   "source": []
  }
 ],
 "metadata": {
  "kernelspec": {
   "display_name": ".venv",
   "language": "python",
   "name": "python3"
  },
  "language_info": {
   "codemirror_mode": {
    "name": "ipython",
    "version": 3
   },
   "file_extension": ".py",
   "mimetype": "text/x-python",
   "name": "python",
   "nbconvert_exporter": "python",
   "pygments_lexer": "ipython3",
   "version": "3.11.6+"
  },
  "orig_nbformat": 4
 },
 "nbformat": 4,
 "nbformat_minor": 2
}
