{
 "cells": [
  {
   "cell_type": "code",
   "execution_count": 17,
   "metadata": {},
   "outputs": [
    {
     "name": "stdout",
     "output_type": "stream",
     "text": [
      "it 0\n",
      "noiseless probs:  [5.00000000e-01 3.08148791e-33 5.00000000e-01 3.08148791e-33]\n",
      "noisy probs:  [0.58398438 0.00878906 0.40234375 0.00488281]\n",
      "mitiq probs:  (0.23144531249993736, 0.444335937500095, 0.05566406249994298, 0.2685546875000598)\n",
      "it 1\n",
      "noiseless probs:  [5.00000000e-01 3.08148791e-33 5.00000000e-01 3.08148791e-33]\n",
      "noisy probs:  [0.56152344 0.00292969 0.4296875  0.00585938]\n",
      "mitiq probs:  (0.2041015624999355, 0.38183593750008543, 0.15429687499995637, 0.25976562500005757)\n",
      "it 2\n",
      "noiseless probs:  [5.00000000e-01 3.08148791e-33 5.00000000e-01 3.08148791e-33]\n",
      "noisy probs:  [0.54003906 0.01269531 0.44042969 0.00683594]\n",
      "mitiq probs:  (0.04980468749991402, 0.45996093750009653, 0.21191406249996458, 0.2783203125000598)\n",
      "it 3\n",
      "noiseless probs:  [5.00000000e-01 3.08148791e-33 5.00000000e-01 3.08148791e-33]\n",
      "noisy probs:  [0.55859375 0.00976562 0.421875   0.00976562]\n",
      "mitiq probs:  (0.10253906249992563, 0.4511718750000964, 0.18945312499995606, 0.2568359375000568)\n",
      "it 4\n",
      "noiseless probs:  [5.00000000e-01 3.08148791e-33 5.00000000e-01 3.08148791e-33]\n",
      "noisy probs:  [0.58984375 0.01074219 0.39746094 0.00195312]\n",
      "mitiq probs:  (-0.010742187500092037, 0.4345703125000897, 0.2597656249999685, 0.31640625000006867)\n"
     ]
    }
   ],
   "source": [
    "import pennylane as qml\n",
    "from pennylane import numpy as np\n",
    "from qiskit.providers.fake_provider import *\n",
    "from pennylane.transforms import mitigate_with_zne, richardson_extrapolate, fold_global\n",
    "\n",
    "# the noisy simulator I'm using simulates the IBM Manila QC\n",
    "def configured_backend():\n",
    "    return FakeManila()\n",
    "\n",
    "def ansatz(params, wires):\n",
    "    qml.RY(params[0], wires=wires)\n",
    "\n",
    "# controlled application of unitary matrix A. In this specific example I'm setting A to be the identity\n",
    "def CA():\n",
    "    # qml.CZ(wires=(1, 0))\n",
    "    pass\n",
    "\n",
    "def U_b():\n",
    "    qml.Hadamard(wires=0)\n",
    "\n",
    "# define devices\n",
    "dev_noisy = qml.device(\"qiskit.remote\", wires = 2, backend=configured_backend())\n",
    "dev = qml.device(\"default.qubit\", wires = 2)\n",
    "\n",
    "# the main circuit (hadamard test)\n",
    "def circuit(params, part=None, j=-1):\n",
    "    # hadamard on the ancilla\n",
    "    qml.Hadamard(wires=1)\n",
    "\n",
    "    if part == \"Im\": # in this example we don't need this\n",
    "        qml.PhaseShift(-np.pi/2, wires=1)\n",
    "\n",
    "    ansatz(params, wires=0)\n",
    "    # CA()\n",
    "    U_b() # H\n",
    "\n",
    "    if j != -1: # j = 0, (when we call it below), so this should induce a π phase on the |11> component\n",
    "        qml.CZ(wires=[1, j])\n",
    "\n",
    "    U_b() # H\n",
    "    # CA()\n",
    "\n",
    "    qml.Hadamard(wires=1)\n",
    "\n",
    "    return qml.probs()\n",
    "\n",
    "    # return qml.expval(qml.PauliZ(wires=1))\n",
    "\n",
    "circuit_noiseless = qml.QNode(circuit, dev)\n",
    "circuit_noisy = qml.QNode(circuit, dev_noisy)\n",
    "circuit_mitiq = mitigate_with_zne(circuit_noisy, [1, 2, 3], fold_global, richardson_extrapolate)\n",
    "\n",
    "for i in range(5):\n",
    "    print(f\"it {i}\")\n",
    "    print(\"noiseless probs: \", circuit_noiseless([np.pi/2], part=\"Re\", j=0))\n",
    "    print(\"noisy probs: \", circuit_noisy([np.pi/2], part=\"Re\", j=0))\n",
    "    print(\"mitiq probs: \", circuit_mitiq([np.pi/2], part=\"Re\", j=0))"
   ]
  },
  {
   "cell_type": "code",
   "execution_count": null,
   "metadata": {},
   "outputs": [],
   "source": [
    "import pennylane as qml\n",
    "from pennylane import numpy as np\n",
    "from qiskit.providers.fake_provider import *\n",
    "from pennylane.transforms import mitigate_with_zne, richardson_extrapolate, fold_global\n",
    "\n",
    "# the noisy simulator I'm using simulates the IBM Manila QC\n",
    "def configured_backend():\n",
    "    return FakeManila()\n",
    "\n",
    "def ansatz(params, wires):\n",
    "    qml.RY(params[0], wires=wires)\n",
    "\n",
    "# controlled application of unitary matrix A. In this specific example I'm setting A to be the identity\n",
    "def CA():\n",
    "    # qml.CZ(wires=(1, 0))\n",
    "    pass\n",
    "\n",
    "def U_b():\n",
    "    qml.Hadamard(wires=0)\n",
    "\n",
    "# define devices\n",
    "dev_noisy = qml.device(\"qiskit.remote\", wires = 2, backend=configured_backend())\n",
    "dev = qml.device(\"default.qubit\", wires = 2)\n",
    "\n",
    "# the main circuit (hadamard test)\n",
    "def circuit(params, part=None, j=-1):\n",
    "    # hadamard on the ancilla\n",
    "    qml.Hadamard(wires=1)\n",
    "\n",
    "    if part == \"Im\":\n",
    "        qml.PhaseShift(-np.pi/2, wires=1)\n",
    "\n",
    "    ansatz(params, wires=0)\n",
    "    # CA()\n",
    "    U_b()\n",
    "\n",
    "    if j != -1:\n",
    "        qml.CZ(wires=[1, j])\n",
    "\n",
    "    U_b()\n",
    "    # CA()\n",
    "\n",
    "    qml.Hadamard(wires=1)\n",
    "\n",
    "    return qml.expval(qml.PauliZ(wires=1))\n",
    "\n",
    "circuit_noiseless = qml.QNode(circuit, dev)\n",
    "circuit_noisy = qml.QNode(circuit, dev_noisy)\n",
    "circuit_mitiq = mitigate_with_zne(circuit_noisy, [1, 2, 3], fold_global, richardson_extrapolate)\n",
    "\n",
    "\n",
    "def mu(params, j):\n",
    "    mu_real = circuit_mitiq(params, part=\"Re\", j=j)\n",
    "    mu_imag = circuit_mitiq(params, part=\"Im\", j=j)\n",
    "    \n",
    "    return mu_real + 1.0j * mu_imag\n",
    "\n",
    "def cost_fun(params):\n",
    "    mu_sum = abs(mu(params, 0))\n",
    "    norm = abs(mu(params, -1))\n",
    "\n",
    "    res = 0.5 - 0.5 * mu_sum / (1 * norm)\n",
    "\n",
    "    return res\n",
    "\n",
    "print(circuit_noiseless([np.pi/2], part=\"Re\", j=0))\n",
    "print(circuit_noisy([np.pi/2], part=\"Re\", j=0))\n",
    "print(circuit_mitiq([np.pi/2], part=\"Re\", j=0))"
   ]
  },
  {
   "cell_type": "code",
   "execution_count": 22,
   "metadata": {},
   "outputs": [
    {
     "name": "stdout",
     "output_type": "stream",
     "text": [
      "0.9999999999999992\n",
      "0.966796875\n",
      "-0.32226562500025696\n"
     ]
    }
   ],
   "source": []
  },
  {
   "cell_type": "markdown",
   "metadata": {},
   "source": [
    "I got paranoid so I want to test if the cost function even spits out the correct output. Let\n",
    "$$\n",
    "I\\ket{x} = \\ket{+}\n",
    "$$\n",
    "be the system I'm trying to solve. Then for $V(\\alpha) = R_y(\\pi/2)$, I should get $C_L = 0$ in a noiseless simulator."
   ]
  },
  {
   "cell_type": "code",
   "execution_count": 20,
   "metadata": {},
   "outputs": [
    {
     "name": "stdout",
     "output_type": "stream",
     "text": [
      "Step   1       Cost_L = 0.0418379\n"
     ]
    },
    {
     "ename": "KeyboardInterrupt",
     "evalue": "",
     "output_type": "error",
     "traceback": [
      "\u001b[0;31m---------------------------------------------------------------------------\u001b[0m",
      "\u001b[0;31mKeyboardInterrupt\u001b[0m                         Traceback (most recent call last)",
      "\u001b[1;32m/Users/bigsad/Downloads/Algorithm-Research/Student-Hub/Indy-Ng/tests/mitiq_3.ipynb セル 2\u001b[0m line \u001b[0;36m9\n\u001b[1;32m      <a href='vscode-notebook-cell:/Users/bigsad/Downloads/Algorithm-Research/Student-Hub/Indy-Ng/tests/mitiq_3.ipynb#X34sZmlsZQ%3D%3D?line=5'>6</a>\u001b[0m cost_history \u001b[39m=\u001b[39m []\n\u001b[1;32m      <a href='vscode-notebook-cell:/Users/bigsad/Downloads/Algorithm-Research/Student-Hub/Indy-Ng/tests/mitiq_3.ipynb#X34sZmlsZQ%3D%3D?line=7'>8</a>\u001b[0m \u001b[39mfor\u001b[39;00m it \u001b[39min\u001b[39;00m \u001b[39mrange\u001b[39m(\u001b[39m300\u001b[39m):\n\u001b[0;32m----> <a href='vscode-notebook-cell:/Users/bigsad/Downloads/Algorithm-Research/Student-Hub/Indy-Ng/tests/mitiq_3.ipynb#X34sZmlsZQ%3D%3D?line=8'>9</a>\u001b[0m     w, cost \u001b[39m=\u001b[39m opt\u001b[39m.\u001b[39;49mstep_and_cost(cost_fun, w)\n\u001b[1;32m     <a href='vscode-notebook-cell:/Users/bigsad/Downloads/Algorithm-Research/Student-Hub/Indy-Ng/tests/mitiq_3.ipynb#X34sZmlsZQ%3D%3D?line=9'>10</a>\u001b[0m     clear_output(wait\u001b[39m=\u001b[39m\u001b[39mTrue\u001b[39;00m)\n\u001b[1;32m     <a href='vscode-notebook-cell:/Users/bigsad/Downloads/Algorithm-Research/Student-Hub/Indy-Ng/tests/mitiq_3.ipynb#X34sZmlsZQ%3D%3D?line=10'>11</a>\u001b[0m     \u001b[39mprint\u001b[39m(\u001b[39m\"\u001b[39m\u001b[39mStep \u001b[39m\u001b[39m{:3d}\u001b[39;00m\u001b[39m       Cost_L = \u001b[39m\u001b[39m{:9.7f}\u001b[39;00m\u001b[39m\"\u001b[39m\u001b[39m.\u001b[39mformat(it, cost), flush\u001b[39m=\u001b[39m\u001b[39mTrue\u001b[39;00m)\n",
      "File \u001b[0;32m~/Downloads/Algorithm-Research/Student-Hub/Indy-Ng/.venv/lib/python3.11/site-packages/pennylane/optimize/gradient_descent.py:59\u001b[0m, in \u001b[0;36mGradientDescentOptimizer.step_and_cost\u001b[0;34m(self, objective_fn, grad_fn, *args, **kwargs)\u001b[0m\n\u001b[1;32m     39\u001b[0m \u001b[39mdef\u001b[39;00m \u001b[39mstep_and_cost\u001b[39m(\u001b[39mself\u001b[39m, objective_fn, \u001b[39m*\u001b[39margs, grad_fn\u001b[39m=\u001b[39m\u001b[39mNone\u001b[39;00m, \u001b[39m*\u001b[39m\u001b[39m*\u001b[39mkwargs):\n\u001b[1;32m     40\u001b[0m \u001b[39m    \u001b[39m\u001b[39m\"\"\"Update trainable arguments with one step of the optimizer and return the corresponding\u001b[39;00m\n\u001b[1;32m     41\u001b[0m \u001b[39m    objective function value prior to the step.\u001b[39;00m\n\u001b[1;32m     42\u001b[0m \n\u001b[0;32m   (...)\u001b[0m\n\u001b[1;32m     56\u001b[0m \u001b[39m        If single arg is provided, list [array] is replaced by array.\u001b[39;00m\n\u001b[1;32m     57\u001b[0m \u001b[39m    \"\"\"\u001b[39;00m\n\u001b[0;32m---> 59\u001b[0m     g, forward \u001b[39m=\u001b[39m \u001b[39mself\u001b[39;49m\u001b[39m.\u001b[39;49mcompute_grad(objective_fn, args, kwargs, grad_fn\u001b[39m=\u001b[39;49mgrad_fn)\n\u001b[1;32m     60\u001b[0m     new_args \u001b[39m=\u001b[39m \u001b[39mself\u001b[39m\u001b[39m.\u001b[39mapply_grad(g, args)\n\u001b[1;32m     62\u001b[0m     \u001b[39mif\u001b[39;00m forward \u001b[39mis\u001b[39;00m \u001b[39mNone\u001b[39;00m:\n",
      "File \u001b[0;32m~/Downloads/Algorithm-Research/Student-Hub/Indy-Ng/.venv/lib/python3.11/site-packages/pennylane/optimize/gradient_descent.py:117\u001b[0m, in \u001b[0;36mGradientDescentOptimizer.compute_grad\u001b[0;34m(objective_fn, args, kwargs, grad_fn)\u001b[0m\n\u001b[1;32m     99\u001b[0m \u001b[39m\u001b[39m\u001b[39mr\u001b[39m\u001b[39m\"\"\"Compute gradient of the objective function at the given point and return it along with\u001b[39;00m\n\u001b[1;32m    100\u001b[0m \u001b[39mthe objective function forward pass (if available).\u001b[39;00m\n\u001b[1;32m    101\u001b[0m \n\u001b[0;32m   (...)\u001b[0m\n\u001b[1;32m    114\u001b[0m \u001b[39m    will not be evaluted and instead ``None`` will be returned.\u001b[39;00m\n\u001b[1;32m    115\u001b[0m \u001b[39m\"\"\"\u001b[39;00m\n\u001b[1;32m    116\u001b[0m g \u001b[39m=\u001b[39m get_gradient(objective_fn) \u001b[39mif\u001b[39;00m grad_fn \u001b[39mis\u001b[39;00m \u001b[39mNone\u001b[39;00m \u001b[39melse\u001b[39;00m grad_fn\n\u001b[0;32m--> 117\u001b[0m grad \u001b[39m=\u001b[39m g(\u001b[39m*\u001b[39;49margs, \u001b[39m*\u001b[39;49m\u001b[39m*\u001b[39;49mkwargs)\n\u001b[1;32m    118\u001b[0m forward \u001b[39m=\u001b[39m \u001b[39mgetattr\u001b[39m(g, \u001b[39m\"\u001b[39m\u001b[39mforward\u001b[39m\u001b[39m\"\u001b[39m, \u001b[39mNone\u001b[39;00m)\n\u001b[1;32m    120\u001b[0m num_trainable_args \u001b[39m=\u001b[39m \u001b[39msum\u001b[39m(\u001b[39mgetattr\u001b[39m(arg, \u001b[39m\"\u001b[39m\u001b[39mrequires_grad\u001b[39m\u001b[39m\"\u001b[39m, \u001b[39mFalse\u001b[39;00m) \u001b[39mfor\u001b[39;00m arg \u001b[39min\u001b[39;00m args)\n",
      "File \u001b[0;32m~/Downloads/Algorithm-Research/Student-Hub/Indy-Ng/.venv/lib/python3.11/site-packages/pennylane/_grad.py:118\u001b[0m, in \u001b[0;36mgrad.__call__\u001b[0;34m(self, *args, **kwargs)\u001b[0m\n\u001b[1;32m    115\u001b[0m     \u001b[39mself\u001b[39m\u001b[39m.\u001b[39m_forward \u001b[39m=\u001b[39m \u001b[39mself\u001b[39m\u001b[39m.\u001b[39m_fun(\u001b[39m*\u001b[39margs, \u001b[39m*\u001b[39m\u001b[39m*\u001b[39mkwargs)\n\u001b[1;32m    116\u001b[0m     \u001b[39mreturn\u001b[39;00m ()\n\u001b[0;32m--> 118\u001b[0m grad_value, ans \u001b[39m=\u001b[39m grad_fn(\u001b[39m*\u001b[39;49margs, \u001b[39m*\u001b[39;49m\u001b[39m*\u001b[39;49mkwargs)  \u001b[39m# pylint: disable=not-callable\u001b[39;00m\n\u001b[1;32m    119\u001b[0m \u001b[39mself\u001b[39m\u001b[39m.\u001b[39m_forward \u001b[39m=\u001b[39m ans\n\u001b[1;32m    121\u001b[0m \u001b[39mreturn\u001b[39;00m grad_value\n",
      "File \u001b[0;32m~/Downloads/Algorithm-Research/Student-Hub/Indy-Ng/.venv/lib/python3.11/site-packages/autograd/wrap_util.py:20\u001b[0m, in \u001b[0;36munary_to_nary.<locals>.nary_operator.<locals>.nary_f\u001b[0;34m(*args, **kwargs)\u001b[0m\n\u001b[1;32m     18\u001b[0m \u001b[39melse\u001b[39;00m:\n\u001b[1;32m     19\u001b[0m     x \u001b[39m=\u001b[39m \u001b[39mtuple\u001b[39m(args[i] \u001b[39mfor\u001b[39;00m i \u001b[39min\u001b[39;00m argnum)\n\u001b[0;32m---> 20\u001b[0m \u001b[39mreturn\u001b[39;00m unary_operator(unary_f, x, \u001b[39m*\u001b[39;49mnary_op_args, \u001b[39m*\u001b[39;49m\u001b[39m*\u001b[39;49mnary_op_kwargs)\n",
      "File \u001b[0;32m~/Downloads/Algorithm-Research/Student-Hub/Indy-Ng/.venv/lib/python3.11/site-packages/pennylane/_grad.py:144\u001b[0m, in \u001b[0;36mgrad._grad_with_forward\u001b[0;34m(fun, x)\u001b[0m\n\u001b[1;32m    138\u001b[0m \u001b[39mif\u001b[39;00m \u001b[39mnot\u001b[39;00m vspace(ans)\u001b[39m.\u001b[39msize \u001b[39m==\u001b[39m \u001b[39m1\u001b[39m:\n\u001b[1;32m    139\u001b[0m     \u001b[39mraise\u001b[39;00m \u001b[39mTypeError\u001b[39;00m(\n\u001b[1;32m    140\u001b[0m         \u001b[39m\"\u001b[39m\u001b[39mGrad only applies to real scalar-output functions. \u001b[39m\u001b[39m\"\u001b[39m\n\u001b[1;32m    141\u001b[0m         \u001b[39m\"\u001b[39m\u001b[39mTry jacobian, elementwise_grad or holomorphic_grad.\u001b[39m\u001b[39m\"\u001b[39m\n\u001b[1;32m    142\u001b[0m     )\n\u001b[0;32m--> 144\u001b[0m grad_value \u001b[39m=\u001b[39m vjp(vspace(ans)\u001b[39m.\u001b[39;49mones())\n\u001b[1;32m    145\u001b[0m \u001b[39mreturn\u001b[39;00m grad_value, ans\n",
      "File \u001b[0;32m~/Downloads/Algorithm-Research/Student-Hub/Indy-Ng/.venv/lib/python3.11/site-packages/autograd/core.py:14\u001b[0m, in \u001b[0;36mmake_vjp.<locals>.vjp\u001b[0;34m(g)\u001b[0m\n\u001b[0;32m---> 14\u001b[0m \u001b[39mdef\u001b[39;00m \u001b[39mvjp\u001b[39m(g): \u001b[39mreturn\u001b[39;00m backward_pass(g, end_node)\n",
      "File \u001b[0;32m~/Downloads/Algorithm-Research/Student-Hub/Indy-Ng/.venv/lib/python3.11/site-packages/autograd/core.py:21\u001b[0m, in \u001b[0;36mbackward_pass\u001b[0;34m(g, end_node)\u001b[0m\n\u001b[1;32m     19\u001b[0m \u001b[39mfor\u001b[39;00m node \u001b[39min\u001b[39;00m toposort(end_node):\n\u001b[1;32m     20\u001b[0m     outgrad \u001b[39m=\u001b[39m outgrads\u001b[39m.\u001b[39mpop(node)\n\u001b[0;32m---> 21\u001b[0m     ingrads \u001b[39m=\u001b[39m node\u001b[39m.\u001b[39;49mvjp(outgrad[\u001b[39m0\u001b[39;49m])\n\u001b[1;32m     22\u001b[0m     \u001b[39mfor\u001b[39;00m parent, ingrad \u001b[39min\u001b[39;00m \u001b[39mzip\u001b[39m(node\u001b[39m.\u001b[39mparents, ingrads):\n\u001b[1;32m     23\u001b[0m         outgrads[parent] \u001b[39m=\u001b[39m add_outgrads(outgrads\u001b[39m.\u001b[39mget(parent), ingrad)\n",
      "File \u001b[0;32m~/Downloads/Algorithm-Research/Student-Hub/Indy-Ng/.venv/lib/python3.11/site-packages/autograd/core.py:67\u001b[0m, in \u001b[0;36mdefvjp.<locals>.vjp_argnums.<locals>.<lambda>\u001b[0;34m(g)\u001b[0m\n\u001b[1;32m     64\u001b[0m         \u001b[39mraise\u001b[39;00m \u001b[39mNotImplementedError\u001b[39;00m(\n\u001b[1;32m     65\u001b[0m             \u001b[39m\"\u001b[39m\u001b[39mVJP of \u001b[39m\u001b[39m{}\u001b[39;00m\u001b[39m wrt argnum 0 not defined\u001b[39m\u001b[39m\"\u001b[39m\u001b[39m.\u001b[39mformat(fun\u001b[39m.\u001b[39m\u001b[39m__name__\u001b[39m))\n\u001b[1;32m     66\u001b[0m     vjp \u001b[39m=\u001b[39m vjpfun(ans, \u001b[39m*\u001b[39margs, \u001b[39m*\u001b[39m\u001b[39m*\u001b[39mkwargs)\n\u001b[0;32m---> 67\u001b[0m     \u001b[39mreturn\u001b[39;00m \u001b[39mlambda\u001b[39;00m g: (vjp(g),)\n\u001b[1;32m     68\u001b[0m \u001b[39melif\u001b[39;00m L \u001b[39m==\u001b[39m \u001b[39m2\u001b[39m:\n\u001b[1;32m     69\u001b[0m     argnum_0, argnum_1 \u001b[39m=\u001b[39m argnums\n",
      "File \u001b[0;32m~/Downloads/Algorithm-Research/Student-Hub/Indy-Ng/.venv/lib/python3.11/site-packages/pennylane/interfaces/autograd.py:233\u001b[0m, in \u001b[0;36mvjp.<locals>.grad_fn\u001b[0;34m(dy)\u001b[0m\n\u001b[1;32m    230\u001b[0m has_partitioned_shots \u001b[39m=\u001b[39m tapes[\u001b[39m0\u001b[39m]\u001b[39m.\u001b[39mshots\u001b[39m.\u001b[39mhas_partitioned_shots\n\u001b[1;32m    232\u001b[0m \u001b[39mif\u001b[39;00m gradient_fn \u001b[39mand\u001b[39;00m gradient_fn\u001b[39m.\u001b[39m\u001b[39m__name__\u001b[39m \u001b[39m==\u001b[39m \u001b[39m\"\u001b[39m\u001b[39mparam_shift\u001b[39m\u001b[39m\"\u001b[39m \u001b[39mand\u001b[39;00m computing_jacobian:\n\u001b[0;32m--> 233\u001b[0m     jacs \u001b[39m=\u001b[39m _get_jac_with_caching()\n\u001b[1;32m    234\u001b[0m \u001b[39melse\u001b[39;00m:\n\u001b[1;32m    235\u001b[0m     jacs \u001b[39m=\u001b[39m ans[\u001b[39m1\u001b[39m]\n",
      "File \u001b[0;32m~/Downloads/Algorithm-Research/Student-Hub/Indy-Ng/.venv/lib/python3.11/site-packages/pennylane/interfaces/autograd.py:205\u001b[0m, in \u001b[0;36mvjp.<locals>._get_jac_with_caching\u001b[0;34m()\u001b[0m\n\u001b[1;32m    202\u001b[0m     \u001b[39mreturn\u001b[39;00m gradient_fn(tape, \u001b[39m*\u001b[39m\u001b[39m*\u001b[39mgradient_kwargs)\n\u001b[1;32m    204\u001b[0m g_tapes, fn \u001b[39m=\u001b[39m qml\u001b[39m.\u001b[39mtransforms\u001b[39m.\u001b[39mmap_batch_transform(partial_gradient_fn, tapes)\n\u001b[0;32m--> 205\u001b[0m res, _ \u001b[39m=\u001b[39m execute_fn(g_tapes, \u001b[39m*\u001b[39;49m\u001b[39m*\u001b[39;49mgradient_kwargs)\n\u001b[1;32m    207\u001b[0m jacs \u001b[39m=\u001b[39m fn(res)\n\u001b[1;32m    208\u001b[0m cached_jac[\u001b[39m\"\u001b[39m\u001b[39mjacobian\u001b[39m\u001b[39m\"\u001b[39m] \u001b[39m=\u001b[39m jacs\n",
      "File \u001b[0;32m~/Downloads/Algorithm-Research/Student-Hub/Indy-Ng/.venv/lib/python3.11/site-packages/pennylane/interfaces/execution.py:588\u001b[0m, in \u001b[0;36mexecute.<locals>.inner_execute_with_empty_jac\u001b[0;34m(tapes, **_)\u001b[0m\n\u001b[1;32m    587\u001b[0m \u001b[39mdef\u001b[39;00m \u001b[39minner_execute_with_empty_jac\u001b[39m(tapes, \u001b[39m*\u001b[39m\u001b[39m*\u001b[39m_):\n\u001b[0;32m--> 588\u001b[0m     \u001b[39mreturn\u001b[39;00m (inner_execute(tapes), [])\n",
      "File \u001b[0;32m~/Downloads/Algorithm-Research/Student-Hub/Indy-Ng/.venv/lib/python3.11/site-packages/pennylane/interfaces/execution.py:249\u001b[0m, in \u001b[0;36m_make_inner_execute.<locals>.inner_execute\u001b[0;34m(tapes, **_)\u001b[0m\n\u001b[1;32m    247\u001b[0m \u001b[39mif\u001b[39;00m numpy_only:\n\u001b[1;32m    248\u001b[0m     tapes \u001b[39m=\u001b[39m \u001b[39mtuple\u001b[39m(qml\u001b[39m.\u001b[39mtransforms\u001b[39m.\u001b[39mconvert_to_numpy_parameters(t) \u001b[39mfor\u001b[39;00m t \u001b[39min\u001b[39;00m tapes)\n\u001b[0;32m--> 249\u001b[0m \u001b[39mreturn\u001b[39;00m cached_device_execution(tapes)\n",
      "File \u001b[0;32m~/Downloads/Algorithm-Research/Student-Hub/Indy-Ng/.venv/lib/python3.11/site-packages/pennylane/interfaces/execution.py:371\u001b[0m, in \u001b[0;36mcache_execute.<locals>.wrapper\u001b[0;34m(tapes, **kwargs)\u001b[0m\n\u001b[1;32m    366\u001b[0m         \u001b[39mreturn\u001b[39;00m (res, []) \u001b[39mif\u001b[39;00m return_tuple \u001b[39melse\u001b[39;00m res\n\u001b[1;32m    368\u001b[0m \u001b[39melse\u001b[39;00m:\n\u001b[1;32m    369\u001b[0m     \u001b[39m# execute all unique tapes that do not exist in the cache\u001b[39;00m\n\u001b[1;32m    370\u001b[0m     \u001b[39m# convert to list as new device interface returns a tuple\u001b[39;00m\n\u001b[0;32m--> 371\u001b[0m     res \u001b[39m=\u001b[39m \u001b[39mlist\u001b[39m(fn(\u001b[39mtuple\u001b[39;49m(execution_tapes\u001b[39m.\u001b[39;49mvalues()), \u001b[39m*\u001b[39;49m\u001b[39m*\u001b[39;49mkwargs))\n\u001b[1;32m    373\u001b[0m final_res \u001b[39m=\u001b[39m []\n\u001b[1;32m    375\u001b[0m \u001b[39mfor\u001b[39;00m i, tape \u001b[39min\u001b[39;00m \u001b[39menumerate\u001b[39m(tapes):\n",
      "File \u001b[0;32m~/.pyenv/versions/3.11-dev/lib/python3.11/contextlib.py:81\u001b[0m, in \u001b[0;36mContextDecorator.__call__.<locals>.inner\u001b[0;34m(*args, **kwds)\u001b[0m\n\u001b[1;32m     78\u001b[0m \u001b[39m@wraps\u001b[39m(func)\n\u001b[1;32m     79\u001b[0m \u001b[39mdef\u001b[39;00m \u001b[39minner\u001b[39m(\u001b[39m*\u001b[39margs, \u001b[39m*\u001b[39m\u001b[39m*\u001b[39mkwds):\n\u001b[1;32m     80\u001b[0m     \u001b[39mwith\u001b[39;00m \u001b[39mself\u001b[39m\u001b[39m.\u001b[39m_recreate_cm():\n\u001b[0;32m---> 81\u001b[0m         \u001b[39mreturn\u001b[39;00m func(\u001b[39m*\u001b[39;49margs, \u001b[39m*\u001b[39;49m\u001b[39m*\u001b[39;49mkwds)\n",
      "File \u001b[0;32m~/Downloads/Algorithm-Research/Student-Hub/Indy-Ng/.venv/lib/python3.11/site-packages/pennylane_qiskit/qiskit_device.py:524\u001b[0m, in \u001b[0;36mQiskitDevice.batch_execute\u001b[0;34m(self, circuits, timeout)\u001b[0m\n\u001b[1;32m    520\u001b[0m \u001b[39m# generate computational basis samples\u001b[39;00m\n\u001b[1;32m    521\u001b[0m \u001b[39mif\u001b[39;00m \u001b[39mself\u001b[39m\u001b[39m.\u001b[39mshots \u001b[39mis\u001b[39;00m \u001b[39mnot\u001b[39;00m \u001b[39mNone\u001b[39;00m \u001b[39mor\u001b[39;00m \u001b[39many\u001b[39m(\n\u001b[1;32m    522\u001b[0m     \u001b[39misinstance\u001b[39m(m, SAMPLE_TYPES) \u001b[39mfor\u001b[39;00m m \u001b[39min\u001b[39;00m circuit\u001b[39m.\u001b[39mmeasurements\n\u001b[1;32m    523\u001b[0m ):\n\u001b[0;32m--> 524\u001b[0m     \u001b[39mself\u001b[39m\u001b[39m.\u001b[39m_samples \u001b[39m=\u001b[39m \u001b[39mself\u001b[39;49m\u001b[39m.\u001b[39;49mgenerate_samples(circuit_obj)\n\u001b[1;32m    526\u001b[0m res \u001b[39m=\u001b[39m \u001b[39mself\u001b[39m\u001b[39m.\u001b[39mstatistics(circuit)\n\u001b[1;32m    527\u001b[0m single_measurement \u001b[39m=\u001b[39m \u001b[39mlen\u001b[39m(circuit\u001b[39m.\u001b[39mmeasurements) \u001b[39m==\u001b[39m \u001b[39m1\u001b[39m\n",
      "File \u001b[0;32m~/Downloads/Algorithm-Research/Student-Hub/Indy-Ng/.venv/lib/python3.11/site-packages/pennylane_qiskit/qiskit_device.py:453\u001b[0m, in \u001b[0;36mQiskitDevice.generate_samples\u001b[0;34m(self, circuit)\u001b[0m\n\u001b[1;32m    450\u001b[0m     \u001b[39mreturn\u001b[39;00m \u001b[39msuper\u001b[39m()\u001b[39m.\u001b[39mgenerate_samples()\n\u001b[1;32m    452\u001b[0m \u001b[39m# hardware or hardware simulator\u001b[39;00m\n\u001b[0;32m--> 453\u001b[0m samples \u001b[39m=\u001b[39m \u001b[39mself\u001b[39;49m\u001b[39m.\u001b[39;49m_current_job\u001b[39m.\u001b[39;49mresult()\u001b[39m.\u001b[39;49mget_memory(circuit)\n\u001b[1;32m    454\u001b[0m \u001b[39m# reverse qubit order to match PennyLane convention\u001b[39;00m\n\u001b[1;32m    455\u001b[0m \u001b[39mreturn\u001b[39;00m np\u001b[39m.\u001b[39mvstack([np\u001b[39m.\u001b[39marray([\u001b[39mint\u001b[39m(i) \u001b[39mfor\u001b[39;00m i \u001b[39min\u001b[39;00m s[::\u001b[39m-\u001b[39m\u001b[39m1\u001b[39m]]) \u001b[39mfor\u001b[39;00m s \u001b[39min\u001b[39;00m samples])\n",
      "File \u001b[0;32m~/Downloads/Algorithm-Research/Student-Hub/Indy-Ng/.venv/lib/python3.11/site-packages/qiskit/result/result.py:229\u001b[0m, in \u001b[0;36mResult.get_memory\u001b[0;34m(self, experiment)\u001b[0m\n\u001b[1;32m    226\u001b[0m memory \u001b[39m=\u001b[39m \u001b[39mself\u001b[39m\u001b[39m.\u001b[39mdata(experiment)[\u001b[39m\"\u001b[39m\u001b[39mmemory\u001b[39m\u001b[39m\"\u001b[39m]\n\u001b[1;32m    228\u001b[0m \u001b[39mif\u001b[39;00m meas_level \u001b[39m==\u001b[39m MeasLevel\u001b[39m.\u001b[39mCLASSIFIED:\n\u001b[0;32m--> 229\u001b[0m     \u001b[39mreturn\u001b[39;00m postprocess\u001b[39m.\u001b[39;49mformat_level_2_memory(memory, header)\n\u001b[1;32m    230\u001b[0m \u001b[39melif\u001b[39;00m meas_level \u001b[39m==\u001b[39m MeasLevel\u001b[39m.\u001b[39mKERNELED:\n\u001b[1;32m    231\u001b[0m     \u001b[39mreturn\u001b[39;00m postprocess\u001b[39m.\u001b[39mformat_level_1_memory(memory)\n",
      "File \u001b[0;32m~/Downloads/Algorithm-Research/Student-Hub/Indy-Ng/.venv/lib/python3.11/site-packages/qiskit/result/postprocess.py:151\u001b[0m, in \u001b[0;36mformat_level_2_memory\u001b[0;34m(memory, header)\u001b[0m\n\u001b[1;32m    149\u001b[0m memory_list \u001b[39m=\u001b[39m []\n\u001b[1;32m    150\u001b[0m \u001b[39mfor\u001b[39;00m shot_memory \u001b[39min\u001b[39;00m memory:\n\u001b[0;32m--> 151\u001b[0m     memory_list\u001b[39m.\u001b[39mappend(format_counts_memory(shot_memory, header))\n\u001b[1;32m    152\u001b[0m \u001b[39mreturn\u001b[39;00m memory_list\n",
      "File \u001b[0;32m~/Downloads/Algorithm-Research/Student-Hub/Indy-Ng/.venv/lib/python3.11/site-packages/qiskit/result/postprocess.py:73\u001b[0m, in \u001b[0;36mformat_counts_memory\u001b[0;34m(shot_memory, header)\u001b[0m\n\u001b[1;32m     71\u001b[0m         shot_memory \u001b[39m=\u001b[39m _pad_zeros(shot_memory, memory_slots)\n\u001b[1;32m     72\u001b[0m     \u001b[39mif\u001b[39;00m creg_sizes \u001b[39mand\u001b[39;00m memory_slots:\n\u001b[0;32m---> 73\u001b[0m         shot_memory \u001b[39m=\u001b[39m _separate_bitstring(shot_memory, creg_sizes)\n\u001b[1;32m     74\u001b[0m \u001b[39mreturn\u001b[39;00m shot_memory\n",
      "File \u001b[0;32m~/Downloads/Algorithm-Research/Student-Hub/Indy-Ng/.venv/lib/python3.11/site-packages/qiskit/result/postprocess.py:42\u001b[0m, in \u001b[0;36m_separate_bitstring\u001b[0;34m(bitstring, creg_sizes)\u001b[0m\n\u001b[1;32m     40\u001b[0m \u001b[39mfor\u001b[39;00m _, size \u001b[39min\u001b[39;00m \u001b[39mreversed\u001b[39m(creg_sizes):\n\u001b[1;32m     41\u001b[0m     substrings\u001b[39m.\u001b[39mappend(bitstring[running_index : running_index \u001b[39m+\u001b[39m size])\n\u001b[0;32m---> 42\u001b[0m     running_index \u001b[39m+\u001b[39m\u001b[39m=\u001b[39m size\n\u001b[1;32m     43\u001b[0m \u001b[39mreturn\u001b[39;00m \u001b[39m\"\u001b[39m\u001b[39m \u001b[39m\u001b[39m\"\u001b[39m\u001b[39m.\u001b[39mjoin(substrings)\n",
      "\u001b[0;31mKeyboardInterrupt\u001b[0m: "
     ]
    }
   ],
   "source": [
    "lr = 0.01\n",
    "opt = qml.GradientDescentOptimizer(lr)\n",
    "from IPython.display import clear_output\n",
    "w = np.random.randn(2, \n",
    "requires_grad=True)\n",
    "cost_history = []\n",
    "\n",
    "for it in range(300):\n",
    "    w, cost = opt.step_and_cost(cost_fun, w)\n",
    "    clear_output(wait=True)\n",
    "    print(\"Step {:3d}       Cost_L = {:9.7f}\".format(it, cost), flush=True)\n",
    "    cost_history.append(cost)\n",
    "\n",
    "import matplotlib.pyplot as plt\n",
    "plt.style.use(\"seaborn\")\n",
    "# plt.plot(np.log(cost_history), \"g\")\n",
    "plt.plot(cost_history, \"g\")\n",
    "plt.ylabel(\"Cost function\")\n",
    "plt.xlabel(\"Optimization steps\")\n",
    "plt.show()"
   ]
  },
  {
   "cell_type": "code",
   "execution_count": 14,
   "metadata": {},
   "outputs": [
    {
     "name": "stdout",
     "output_type": "stream",
     "text": [
      "Name: PennyLane\n",
      "Version: 0.33.1\n",
      "Summary: PennyLane is a Python quantum machine learning library by Xanadu Inc.\n",
      "Home-page: https://github.com/PennyLaneAI/pennylane\n",
      "Author: \n",
      "Author-email: \n",
      "License: Apache License 2.0\n",
      "Location: /Users/bigsad/Downloads/Algorithm-Research/Student-Hub/Indy-Ng/.venv/lib/python3.11/site-packages\n",
      "Requires: appdirs, autograd, autoray, cachetools, networkx, numpy, pennylane-lightning, requests, rustworkx, scipy, semantic-version, toml, typing-extensions\n",
      "Required-by: PennyLane-Lightning, PennyLane-qiskit\n",
      "\n",
      "Platform info:           macOS-12.6-x86_64-i386-64bit\n",
      "Python version:          3.11.6\n",
      "Numpy version:           1.23.5\n",
      "Scipy version:           1.10.1\n",
      "Installed devices:\n",
      "- default.gaussian (PennyLane-0.33.1)\n",
      "- default.mixed (PennyLane-0.33.1)\n",
      "- default.qubit (PennyLane-0.33.1)\n",
      "- default.qubit.autograd (PennyLane-0.33.1)\n",
      "- default.qubit.jax (PennyLane-0.33.1)\n",
      "- default.qubit.legacy (PennyLane-0.33.1)\n",
      "- default.qubit.tf (PennyLane-0.33.1)\n",
      "- default.qubit.torch (PennyLane-0.33.1)\n",
      "- default.qutrit (PennyLane-0.33.1)\n",
      "- null.qubit (PennyLane-0.33.1)\n",
      "- lightning.qubit (PennyLane-Lightning-0.33.1)\n",
      "- qiskit.aer (PennyLane-qiskit-0.33.1)\n",
      "- qiskit.basicaer (PennyLane-qiskit-0.33.1)\n",
      "- qiskit.ibmq (PennyLane-qiskit-0.33.1)\n",
      "- qiskit.ibmq.circuit_runner (PennyLane-qiskit-0.33.1)\n",
      "- qiskit.ibmq.sampler (PennyLane-qiskit-0.33.1)\n",
      "- qiskit.remote (PennyLane-qiskit-0.33.1)\n"
     ]
    }
   ],
   "source": [
    "qml.about()"
   ]
  },
  {
   "cell_type": "code",
   "execution_count": 2,
   "metadata": {},
   "outputs": [],
   "source": [
    "dev3 = qml.device(\"default.qubit\", wires = 2)\n",
    "dev_noisy = qml.device(\"qiskit.remote\", wires = 2, backend=configured_backend())\n",
    "\n",
    "def ansatz(params, wires):\n",
    "    qml.RY(params[0], wires=wires)\n",
    "\n",
    "def U_b(wires):\n",
    "    qml.Hadamard(wires=wires)\n",
    "\n",
    "def test_hadamard(params, part=\"Re\", j=-1):\n",
    "    qml.Hadamard(wires=1)\n",
    "\n",
    "    # qml.RY(params[0], 0)\n",
    "    ansatz(params, wires=0)\n",
    "\n",
    "    if part == \"Im\":\n",
    "        qml.PhaseShift(-np.pi/2, wires=1)\n",
    "\n",
    "    # qml.Hadamard(wires=0)\n",
    "    U_b(wires=0)\n",
    "\n",
    "    if j != -1:\n",
    "        qml.CZ(wires=(1,j))\n",
    "\n",
    "\n",
    "    # qml.Hadamard(wires=0)\n",
    "    U_b(wires=0)\n",
    "\n",
    "    qml.Hadamard(wires=1)\n",
    "\n",
    "    # return qml.state()\n",
    "    return qml.expval(qml.PauliZ(1))"
   ]
  },
  {
   "cell_type": "code",
   "execution_count": 4,
   "metadata": {},
   "outputs": [],
   "source": [
    "test_hadamard_noiseless = qml.QNode(test_hadamard, dev3)\n",
    "test_hadamard_noisy = qml.QNode(test_hadamard, dev_noisy)\n",
    "test_hadamard_mitiq = mitigate_with_zne(test_hadamard, [1, 2, 3], fold_global, richardson_extrapolate)"
   ]
  },
  {
   "cell_type": "code",
   "execution_count": 5,
   "metadata": {},
   "outputs": [
    {
     "name": "stdout",
     "output_type": "stream",
     "text": [
      "0.9999999999999992\n",
      "0.0\n",
      "0.9999999999999993\n",
      "0.0\n"
     ]
    }
   ],
   "source": [
    "# mu\n",
    "print(test_hadamard_noiseless([np.pi/2], part=\"Re\", j=0))\n",
    "print(test_hadamard_noiseless([np.pi/2], part=\"Im\", j=0))\n",
    "\n",
    "#beta \n",
    "print(test_hadamard_noiseless([np.pi/2], part=\"Re\", j=-1))\n",
    "print(test_hadamard_noiseless([np.pi/2], part=\"Im\", j=-1))"
   ]
  },
  {
   "cell_type": "markdown",
   "metadata": {},
   "source": [
    "#### Try now with noise"
   ]
  },
  {
   "cell_type": "code",
   "execution_count": 6,
   "metadata": {},
   "outputs": [
    {
     "name": "stdout",
     "output_type": "stream",
     "text": [
      "0.9609375\n",
      "0.05859375\n",
      "0.978515625\n",
      "0.013671875\n"
     ]
    }
   ],
   "source": [
    "# mu\n",
    "print(test_hadamard_noisy([np.pi/2], part=\"Re\", j=0))\n",
    "print(test_hadamard_noisy([np.pi/2], part=\"Im\", j=0))\n",
    "#beta \n",
    "print(test_hadamard_noisy([np.pi/2], part=\"Re\", j=-1))\n",
    "print(test_hadamard_noisy([np.pi/2], part=\"Im\", j=-1))"
   ]
  },
  {
   "cell_type": "markdown",
   "metadata": {},
   "source": [
    "#### With Mitiq"
   ]
  },
  {
   "cell_type": "code",
   "execution_count": 8,
   "metadata": {},
   "outputs": [
    {
     "ename": "TransformError",
     "evalue": "Impossible to dispatch your transform on quantum function, because more than one tape is returned",
     "output_type": "error",
     "traceback": [
      "\u001b[0;31m---------------------------------------------------------------------------\u001b[0m",
      "\u001b[0;31mTransformError\u001b[0m                            Traceback (most recent call last)",
      "\u001b[1;32m/Users/bigsad/Downloads/Algorithm-Research/Student-Hub/Indy-Ng/tests/mitiq_3.ipynb セル 16\u001b[0m line \u001b[0;36m2\n\u001b[1;32m      <a href='vscode-notebook-cell:/Users/bigsad/Downloads/Algorithm-Research/Student-Hub/Indy-Ng/tests/mitiq_3.ipynb#X26sZmlsZQ%3D%3D?line=0'>1</a>\u001b[0m \u001b[39m# mu\u001b[39;00m\n\u001b[0;32m----> <a href='vscode-notebook-cell:/Users/bigsad/Downloads/Algorithm-Research/Student-Hub/Indy-Ng/tests/mitiq_3.ipynb#X26sZmlsZQ%3D%3D?line=1'>2</a>\u001b[0m \u001b[39mprint\u001b[39m(test_hadamard_mitiq([np\u001b[39m.\u001b[39;49mpi\u001b[39m/\u001b[39;49m\u001b[39m2\u001b[39;49m], part\u001b[39m=\u001b[39;49m\u001b[39m\"\u001b[39;49m\u001b[39mRe\u001b[39;49m\u001b[39m\"\u001b[39;49m, j\u001b[39m=\u001b[39;49m\u001b[39m0\u001b[39;49m))\n\u001b[1;32m      <a href='vscode-notebook-cell:/Users/bigsad/Downloads/Algorithm-Research/Student-Hub/Indy-Ng/tests/mitiq_3.ipynb#X26sZmlsZQ%3D%3D?line=2'>3</a>\u001b[0m \u001b[39m# print(test_hadamard_mitiq([np.pi/2], part=\"Im\", j=0))\u001b[39;00m\n\u001b[1;32m      <a href='vscode-notebook-cell:/Users/bigsad/Downloads/Algorithm-Research/Student-Hub/Indy-Ng/tests/mitiq_3.ipynb#X26sZmlsZQ%3D%3D?line=3'>4</a>\u001b[0m \u001b[39m# #beta \u001b[39;00m\n\u001b[1;32m      <a href='vscode-notebook-cell:/Users/bigsad/Downloads/Algorithm-Research/Student-Hub/Indy-Ng/tests/mitiq_3.ipynb#X26sZmlsZQ%3D%3D?line=4'>5</a>\u001b[0m \u001b[39m# print(test_hadamard_mitiq([np.pi/2], part=\"Re\", j=-1))\u001b[39;00m\n\u001b[1;32m      <a href='vscode-notebook-cell:/Users/bigsad/Downloads/Algorithm-Research/Student-Hub/Indy-Ng/tests/mitiq_3.ipynb#X26sZmlsZQ%3D%3D?line=5'>6</a>\u001b[0m \u001b[39m# print(test_hadamard_mitiq([np.pi/2], part=\"Im\", j=-1))\u001b[39;00m\n",
      "File \u001b[0;32m~/Downloads/Algorithm-Research/Student-Hub/Indy-Ng/.venv/lib/python3.11/site-packages/pennylane/transforms/core/transform_dispatcher.py:244\u001b[0m, in \u001b[0;36mTransformDispatcher._qfunc_transform.<locals>.qfunc_transformed\u001b[0;34m(*args, **kwargs)\u001b[0m\n\u001b[1;32m    241\u001b[0m transformed_tapes, processing_fn \u001b[39m=\u001b[39m \u001b[39mself\u001b[39m\u001b[39m.\u001b[39m_transform(tape, \u001b[39m*\u001b[39mtargs, \u001b[39m*\u001b[39m\u001b[39m*\u001b[39mtkwargs)\n\u001b[1;32m    243\u001b[0m \u001b[39mif\u001b[39;00m \u001b[39mlen\u001b[39m(transformed_tapes) \u001b[39m!=\u001b[39m \u001b[39m1\u001b[39m:\n\u001b[0;32m--> 244\u001b[0m     \u001b[39mraise\u001b[39;00m TransformError(\n\u001b[1;32m    245\u001b[0m         \u001b[39m\"\u001b[39m\u001b[39mImpossible to dispatch your transform on quantum function, because more than \u001b[39m\u001b[39m\"\u001b[39m\n\u001b[1;32m    246\u001b[0m         \u001b[39m\"\u001b[39m\u001b[39mone tape is returned\u001b[39m\u001b[39m\"\u001b[39m\n\u001b[1;32m    247\u001b[0m     )\n\u001b[1;32m    249\u001b[0m transformed_tape \u001b[39m=\u001b[39m transformed_tapes[\u001b[39m0\u001b[39m]\n\u001b[1;32m    251\u001b[0m \u001b[39mif\u001b[39;00m \u001b[39mself\u001b[39m\u001b[39m.\u001b[39mis_informative:\n",
      "\u001b[0;31mTransformError\u001b[0m: Impossible to dispatch your transform on quantum function, because more than one tape is returned"
     ]
    }
   ],
   "source": [
    "# mu\n",
    "print(test_hadamard_mitiq([np.pi/2], part=\"Re\", j=0))\n",
    "print(test_hadamard_mitiq([np.pi/2], part=\"Im\", j=0))\n",
    "#beta \n",
    "print(test_hadamard_mitiq([np.pi/2], part=\"Re\", j=-1))\n",
    "print(test_hadamard_mitiq([np.pi/2], part=\"Im\", j=-1))"
   ]
  },
  {
   "cell_type": "code",
   "execution_count": null,
   "metadata": {},
   "outputs": [],
   "source": []
  }
 ],
 "metadata": {
  "kernelspec": {
   "display_name": ".venv",
   "language": "python",
   "name": "python3"
  },
  "language_info": {
   "codemirror_mode": {
    "name": "ipython",
    "version": 3
   },
   "file_extension": ".py",
   "mimetype": "text/x-python",
   "name": "python",
   "nbconvert_exporter": "python",
   "pygments_lexer": "ipython3",
   "version": "3.11.6"
  }
 },
 "nbformat": 4,
 "nbformat_minor": 2
}
