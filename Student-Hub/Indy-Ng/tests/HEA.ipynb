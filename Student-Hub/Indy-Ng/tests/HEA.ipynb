{
 "cells": [
  {
   "cell_type": "code",
   "execution_count": 15,
   "metadata": {},
   "outputs": [],
   "source": [
    "import pennylane as qml"
   ]
  },
  {
   "cell_type": "code",
   "execution_count": 57,
   "metadata": {},
   "outputs": [],
   "source": [
    "n_qubits = 3\n",
    "n_layers = 4\n",
    "offset = 0"
   ]
  },
  {
   "cell_type": "code",
   "execution_count": 58,
   "metadata": {},
   "outputs": [],
   "source": [
    "dev = qml.device(\"default.qubit\", wires=n_qubits)"
   ]
  },
  {
   "cell_type": "code",
   "execution_count": 59,
   "metadata": {},
   "outputs": [],
   "source": [
    "w = [i for i in range(5*n_layers*n_qubits)]"
   ]
  },
  {
   "cell_type": "code",
   "execution_count": 60,
   "metadata": {},
   "outputs": [
    {
     "name": "stdout",
     "output_type": "stream",
     "text": [
      "0: ──RY(0.00)─╭●──RY(3.00)──────────────╭●──RY(7.00)───────────────╭●──RY(11.00)───────────────╭●\n",
      "1: ──RY(1.00)─╰Z──RY(4.00)─╭●──RY(5.00)─╰Z──RY(8.00)─╭●──RY(9.00)──╰Z──RY(12.00)─╭●──RY(13.00)─╰Z\n",
      "2: ──RY(2.00)──────────────╰Z──RY(6.00)──────────────╰Z──RY(10.00)───────────────╰Z──RY(14.00)───\n",
      "\n",
      "───RY(15.00)───────────────┤ ╭State\n",
      "───RY(16.00)─╭●──RY(17.00)─┤ ├State\n",
      "─────────────╰Z──RY(18.00)─┤ ╰State\n"
     ]
    }
   ],
   "source": [
    "@qml.qnode(dev)\n",
    "def circuit(weights):\n",
    "    weights_used = 0\n",
    "    [qml.RY(phi=weights[i + weights_used], wires=i+offset) for i in range(n_qubits)]\n",
    "    weights_used += n_qubits\n",
    "\n",
    "    for _ in range(n_layers):\n",
    "        # # 1 layer\n",
    "        [qml.CZ(wires=(j, j+1)) for j in range(0, n_qubits-1, 2)]\n",
    "        [qml.RY(phi=weights[i + weights_used], wires=i+offset) for i in range(n_qubits//2 * 2)]\n",
    "        weights_used += n_qubits // 2 * 2 - 1\n",
    "        [qml.CZ(wires=(j, j+1)) for j in range(1, n_qubits-1, 2)]\n",
    "        [qml.RY(phi=weights[i + weights_used], wires=i+offset) for i in range(1,(n_qubits + 1) // 2 * 2 -1)]\n",
    "        weights_used += (n_qubits + 1) // 2 * 2 -1\n",
    "\n",
    "    return qml.state()\n",
    "\n",
    "print(qml.draw(circuit, expansion_strategy=\"device\")(w))"
   ]
  },
  {
   "cell_type": "code",
   "execution_count": null,
   "metadata": {},
   "outputs": [],
   "source": []
  }
 ],
 "metadata": {
  "kernelspec": {
   "display_name": ".venv",
   "language": "python",
   "name": "python3"
  },
  "language_info": {
   "codemirror_mode": {
    "name": "ipython",
    "version": 3
   },
   "file_extension": ".py",
   "mimetype": "text/x-python",
   "name": "python",
   "nbconvert_exporter": "python",
   "pygments_lexer": "ipython3",
   "version": "3.11.6+"
  }
 },
 "nbformat": 4,
 "nbformat_minor": 2
}
