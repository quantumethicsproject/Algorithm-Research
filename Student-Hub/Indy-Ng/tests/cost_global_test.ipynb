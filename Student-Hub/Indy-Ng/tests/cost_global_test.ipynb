{
 "cells": [
  {
   "cell_type": "code",
   "execution_count": 27,
   "metadata": {},
   "outputs": [],
   "source": [
    "import pennylane as qml\n",
    "from pennylane import numpy as np"
   ]
  },
  {
   "cell_type": "markdown",
   "metadata": {},
   "source": [
    "### Overview\n",
    "In this notebook I manually work through the global cost function. We start with this simple problem:\n",
    "\n",
    "$$\n",
    "X\\ket{x} = \\ket{0}\n",
    "$$\n",
    "\n",
    "We look at a specific instance of the problem where:\n",
    "$$V(\\alpha) = R_y(\\pi/2) = \\frac{1}{\\sqrt{2}}\\begin{bmatrix}1 & -1 \\\\ 1 & 1\\end{bmatrix}$$\n",
    "So \n",
    "$$\n",
    "\\ket{\\psi} = V(\\alpha)\\ket{0} = \\ket{+}\n",
    "$$\n",
    "We have \n",
    "$$\n",
    "C_G = 1 - |\\braket{b|\\Psi}|^2\n",
    "$$\n",
    "Where\n",
    "$$\n",
    "|\\braket{b|\\Psi}|^2 = \\frac{|\\braket{b|\\psi}|^2}{\\braket{\\psi|\\psi}}\n",
    "$$\n",
    "Focusing on the top term, we get:\n",
    "$$\n",
    "|\\braket{b|\\psi}|^2 = \\sum_{ll'}c_lc_{l'}* \\gamma_{ll'}\n",
    "$$\n",
    "In our case, $l = l' = 1$ and $c_l = 1$, so \n",
    "$$\n",
    "= \\gamma_{11}\n",
    "$$\n",
    "\n",
    "Now, \n",
    "$$\n",
    "\\gamma_{ll'} = \\braket{0|U^\\dag A_l V|0}\\braket{0|V^\\dag A_{l'}^\\dag U|0} \\\\\n",
    "= \\braket{0|I X R_y(\\pi/2)|0}\\braket{0|R_y(\\pi/2)^\\dag X I|0} \\\\\n",
    "= |\\braket{0|+}|^2 \\\\\n",
    "= \\frac{1}{\\sqrt{2}}\n",
    "$$\n",
    "\n",
    "So we should expect to see $\\frac{1}{\\sqrt{2}}$ as the output of the overlap test."
   ]
  },
  {
   "cell_type": "code",
   "execution_count": 28,
   "metadata": {},
   "outputs": [],
   "source": [
    "n_qubits = 1\n",
    "ancilla_idx = n_qubits*2"
   ]
  },
  {
   "cell_type": "code",
   "execution_count": 29,
   "metadata": {},
   "outputs": [],
   "source": [
    "dev_mu = qml.device(\"default.qubit\", wires=n_qubits+1)\n",
    "dev_gamma = qml.device(\"default.qubit\", wires=n_qubits*2+1)"
   ]
  },
  {
   "cell_type": "code",
   "execution_count": 30,
   "metadata": {},
   "outputs": [],
   "source": [
    "def variational_block(offset=0):\n",
    "    # gives |x> = |0+>\n",
    "    qml.RY(np.pi/2, wires=offset)\n",
    "\n",
    "def U_b(offset=0):\n",
    "    # gives |b> = |00>\n",
    "    pass\n",
    "\n",
    "def CA(offset=0):\n",
    "    qml.CNOT(wires=(ancilla_idx, offset))"
   ]
  },
  {
   "cell_type": "code",
   "execution_count": 31,
   "metadata": {},
   "outputs": [],
   "source": [
    "@qml.qnode(dev_gamma)\n",
    "def hadamard_overlap_test(weights, l=None, lp=None, part=None):\n",
    "    \"\"\"implements the overlap test for C_G\"\"\"\n",
    "\n",
    "    # H on ancilla index\n",
    "    qml.Hadamard(ancilla_idx)\n",
    "\n",
    "    # Variational circuit generating a guess for the solution vector |x> applied to the top half\n",
    "    variational_block(offset=n_qubits)\n",
    "\n",
    "    # unitary U_b associated to the problem vector |b> applied to the bottom half\n",
    "    # In this specific example Adjoint(U_b) = U_b.\n",
    "    U_b()\n",
    "\n",
    "    # Controlled application of the unitary component A_l of the problem matrix A on the top half.\n",
    "    CA(offset=n_qubits)\n",
    "\n",
    "    # Controlled application of Adjoint(A_lp) applied to the bottom half\n",
    "    # In this specific example Adjoint(A_lp) = A_lp. #TODO: is it really?\n",
    "    CA()\n",
    "\n",
    "    if part == \"Im\":\n",
    "        qml.RZ(phi=-np.pi/2, wires=ancilla_idx)\n",
    "\n",
    "    # bell basis observable\n",
    "    [qml.CNOT(wires=(i+n_qubits, i)) for i in range(n_qubits)]\n",
    "    [qml.Hadamard(wires=i) for i in range(n_qubits, n_qubits*2 + 1)]\n",
    "\n",
    "    # to get P(0) - P(1) we need to perform linear classical post-processing which involves using the probabilities\n",
    "    return qml.probs(wires=range(n_qubits*2 + 1))\n",
    "\n",
    "def cost_global(problem, weights, local_hadamard_test, hadamard_overlap_test):\n",
    "    \"\"\"Global version of the cost function. Tends to zero when A|x> is proportional to |b>.\"\"\"\n",
    "\n",
    "    c, _ = problem.get_coeffs()\n",
    "\n",
    "    norm = 0.0\n",
    "    overlap = 0.0\n",
    "\n",
    "    for l in range(0, len(c)):\n",
    "        for lp in range(0, len(c)):\n",
    "            # start = time.time()\n",
    "            norm = norm + c[l] * np.conj(c[lp]) * mu(weights, local_hadamard_test, problem, l, lp, -1)\n",
    "            # print(f\"norm accum ({l*len(c) + lp})\")\n",
    "\n",
    "            overlap = overlap + c[l] * np.conj(c[lp]) * gamma(weights, hadamard_overlap_test, problem, l, lp)\n",
    "\n",
    "    norm = abs(norm)\n",
    "    overlap = abs(overlap)\n",
    "\n",
    "    return 1 - overlap / norm # TODO: double check this expression\n",
    "\n",
    "@qml.qnode(dev_mu)\n",
    "def local_hadamard_test(weights, l=None, lp=None, j=None, part=None):\n",
    "    \"\"\"this function implements the local hadamard test for calculating mu and the norm\"\"\"\n",
    "    ancilla_idx = n_qubits\n",
    "\n",
    "    # First Hadamard gate applied to the ancillary qubit.\n",
    "    qml.Hadamard(wires=ancilla_idx)\n",
    "\n",
    "    # For estimating the imaginary part of the coefficient \"mu\", we must add a \"-i\"\n",
    "    # phase gate.\n",
    "    if part == \"Im\" or part == \"im\":\n",
    "        qml.PhaseShift(-np.pi / 2, wires=ancilla_idx)\n",
    "\n",
    "    # Variational circuit generating a guess for the solution vector |x>\n",
    "    variational_block()\n",
    "\n",
    "    # Controlled application of the unitary component A_l of the problem matrix A.\n",
    "    CA()\n",
    "\n",
    "    # Adjoint of the unitary U_b associated to the problem vector |b>.\n",
    "    # In this specific example Adjoint(U_b) = U_b.\n",
    "    U_b()\n",
    "\n",
    "    # Controlled Z operator at position j. If j = -1, apply the identity.\n",
    "    if j != -1:\n",
    "        qml.CZ(wires=[ancilla_idx, j])\n",
    "\n",
    "    # Unitary U_b associated to the problem vector |b>.\n",
    "    U_b()\n",
    "\n",
    "    # Controlled application of Adjoint(A_lp).\n",
    "    # In this specific example Adjoint(A_lp) = A_lp.\n",
    "    CA()\n",
    "\n",
    "    # Second Hadamard gate applied to the ancillary qubit.\n",
    "    qml.Hadamard(wires=ancilla_idx)\n",
    "\n",
    "    # Expectation value of Z for the ancillary qubit.\n",
    "    return qml.expval(qml.PauliZ(wires=ancilla_idx))\n",
    "\n",
    "\n",
    "def get_bin(state: int, n_qubits):\n",
    "    \"\"\"\n",
    "    Helper function that identifies the correct bin for the overlap test. Details can be found in Cincio et. al\n",
    "\n",
    "    @param\n",
    "    state: a measurement outcome as an int \n",
    "    return: (-1 or 1, corresponding to whether the prob on the bitstring should be added or subtracted)\n",
    "    \"\"\"\n",
    "    acc = 1\n",
    "\n",
    "    # if aux qubit is 1\n",
    "    if state & 2**(n_qubits*2):\n",
    "        acc *= -1\n",
    "\n",
    "    for i in range(n_qubits):\n",
    "        if state & 2**i and state & 2**(i + n_qubits):\n",
    "            acc *= -1\n",
    "\n",
    "    return acc\n",
    "\n",
    "# Computes the mu coefficients\n",
    "def mu(weights, problem, l=None, lp=None, j=None):\n",
    "    \"\"\"Generates the coefficients to compute the \"local\" cost function C_L.\"\"\"\n",
    "\n",
    "    # start = time.time()\n",
    "    mu_real = local_hadamard_test(weights, problem, l=l, lp=lp, j=j, part=\"Re\")\n",
    "    mu_imag = local_hadamard_test(weights, problem, l=l, lp=lp, j=j, part=\"Im\")\n",
    "    # print(f\"mu: {time.time() - start:.2f}\")\n",
    "\n",
    "    return mu_real + 1.0j * mu_imag\n",
    "\n",
    "def gamma(weights, l=None, lp=None):\n",
    "    \"\"\"calculates the gamma coefficients for C_G\"\"\"\n",
    "\n",
    "    probs_real = hadamard_overlap_test(weights, l=l, lp=lp, part=\"Re\")\n",
    "    probs_imag = hadamard_overlap_test(weights, l=l, lp=lp, part=\"Im\")\n",
    "\n",
    "    gamma_real = 0\n",
    "    gamma_imag = 0\n",
    "\n",
    "    # I have a feeling a lot of these are cancelling each other out resulting in a very low output value\n",
    "    for state, prob in enumerate(probs_real):\n",
    "        gamma_real += get_bin(state, n_qubits) * prob\n",
    "    \n",
    "    for state, prob in enumerate(probs_imag):\n",
    "        gamma_imag += get_bin(state, n_qubits) * prob\n",
    "\n",
    "    # print(f\"gamma: {time.time() - start:.2f}\")\n",
    "\n",
    "    return 2 * (gamma_real + 1.0j * gamma_imag) # see appendix C for the 2x coeff"
   ]
  },
  {
   "cell_type": "code",
   "execution_count": 32,
   "metadata": {},
   "outputs": [
    {
     "data": {
      "text/plain": [
       "tensor([0.25, 0.  , 0.  , 0.25, 0.25, 0.  , 0.  , 0.25], requires_grad=True)"
      ]
     },
     "execution_count": 32,
     "metadata": {},
     "output_type": "execute_result"
    }
   ],
   "source": [
    "hadamard_overlap_test([], 0, 0, \"Re\")"
   ]
  },
  {
   "cell_type": "code",
   "execution_count": 34,
   "metadata": {},
   "outputs": [
    {
     "data": {
      "text/plain": [
       "tensor([0.125, 0.125, 0.125, 0.125, 0.125, 0.125, 0.125, 0.125], requires_grad=True)"
      ]
     },
     "execution_count": 34,
     "metadata": {},
     "output_type": "execute_result"
    }
   ],
   "source": [
    "hadamard_overlap_test([], 0, 0, \"Im\")"
   ]
  },
  {
   "cell_type": "markdown",
   "metadata": {},
   "source": [
    "Doing the classical post-processing by hand, we get:\n",
    "\n",
    "$$C(0) = P(000) + P(001) P(010) - P(011) = 0.25 + 0 + 0 - 0.25 = 0 \\\\\n",
    "C(1) = P(100) + P(101) P(110) - P(111) = 0.25 + 0 + 0 - 0.25 = 0 \\\\\n",
    "Re[\\gamma_{11}] = 2(C(0) - C(1)) = 0\n",
    "$$\n",
    "Imaginary:\n",
    "$$C(0) = P(000) + P(001) P(010) - P(011) = 0.125 + 0.125 + 0.125 - 0.125 = 0.25 \\\\\n",
    "C(1) = P(100) + P(101) P(110) - P(111) = 0.125 + 0.125 + 0.125 - 0.125 = 0.25 \\\\\n",
    "Re[\\gamma_{11}] = 2(C(0) - C(1)) = 0\n",
    "$$\n",
    "\n",
    "Actually I'm not sure if the imaginary part has the exact same post-processing; it's not completely obvious from the paper.\n",
    "\n",
    "Nevertheless, that's not $\\frac{1}{\\sqrt{2}}$"
   ]
  },
  {
   "cell_type": "code",
   "execution_count": 33,
   "metadata": {},
   "outputs": [
    {
     "data": {
      "text/plain": [
       "tensor(0.+2.22044605e-16j, requires_grad=True)"
      ]
     },
     "execution_count": 33,
     "metadata": {},
     "output_type": "execute_result"
    }
   ],
   "source": [
    "gamma([], 0, 0)"
   ]
  },
  {
   "cell_type": "markdown",
   "metadata": {},
   "source": [
    "This should have outputted $\\frac{1}{\\sqrt{2}}$."
   ]
  },
  {
   "cell_type": "code",
   "execution_count": null,
   "metadata": {},
   "outputs": [],
   "source": []
  }
 ],
 "metadata": {
  "kernelspec": {
   "display_name": ".venv",
   "language": "python",
   "name": "python3"
  },
  "language_info": {
   "codemirror_mode": {
    "name": "ipython",
    "version": 3
   },
   "file_extension": ".py",
   "mimetype": "text/x-python",
   "name": "python",
   "nbconvert_exporter": "python",
   "pygments_lexer": "ipython3",
   "version": "3.11.6"
  }
 },
 "nbformat": 4,
 "nbformat_minor": 2
}
