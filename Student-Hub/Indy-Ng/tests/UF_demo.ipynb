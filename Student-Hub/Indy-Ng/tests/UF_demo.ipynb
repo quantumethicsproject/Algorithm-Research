{
 "cells": [
  {
   "cell_type": "code",
   "execution_count": 1,
   "metadata": {},
   "outputs": [],
   "source": [
    "import pennylane as qml\n",
    "from pennylane import numpy as np\n",
    "from qiskit.providers.fake_provider import *\n",
    "from pennylane.transforms import mitigate_with_zne, richardson_extrapolate, fold_global\n",
    "\n",
    "def ansatz(params, wires):\n",
    "    qml.RY(params[0], wires=wires)\n",
    "def CA():\n",
    "    # qml.CZ(wires=(1, 0))\n",
    "    pass\n",
    "def U_b():\n",
    "    qml.Hadamard(wires=0)\n",
    "\n",
    "dev = qml.device(\"default.qubit\", wires = 2)\n",
    "\n",
    "def circuit(params, part=None, j=-1):\n",
    "    qml.Hadamard(1)\n",
    "    if part == \"Im\":\n",
    "        qml.PhaseShift(-np.pi/2, wires=1)\n",
    "\n",
    "    ansatz(params, wires=0)\n",
    "    # CA()\n",
    "    U_b()\n",
    "\n",
    "    if j != -1:\n",
    "        qml.CZ(wires=[1, j])\n",
    "\n",
    "    U_b()\n",
    "    # CA()\n",
    "\n",
    "    qml.Hadamard(wires=1)\n",
    "\n",
    "    return qml.expval(qml.PauliZ(wires=1))\n",
    "\n",
    "circuit_noiseless = qml.QNode(circuit, dev)\n",
    "\n",
    "\n",
    "def mu(params, j):\n",
    "    mu_real = circuit_noiseless(params, part=\"Re\", j=j)\n",
    "    mu_imag = circuit_noiseless(params, part=\"Im\", j=j)\n",
    "    \n",
    "    return mu_real + 1.0j * mu_imag\n",
    "def cost_fun(params):\n",
    "    mu_sum = abs(mu(params, 0))\n",
    "    norm = abs(mu(params, -1))\n",
    "\n",
    "    res = 0.5 - 0.5 * mu_sum / (1 * norm)\n",
    "\n",
    "    return res"
   ]
  },
  {
   "cell_type": "code",
   "execution_count": 5,
   "metadata": {},
   "outputs": [
    {
     "name": "stdout",
     "output_type": "stream",
     "text": [
      "Step 299       Cost_L = 0.0000000\n"
     ]
    },
    {
     "name": "stderr",
     "output_type": "stream",
     "text": [
      "/var/folders/46/x_y_zr5s2rj1v37fwfjmjh9r0000gn/T/ipykernel_22724/2136831664.py:15: MatplotlibDeprecationWarning: The seaborn styles shipped by Matplotlib are deprecated since 3.6, as they no longer correspond to the styles shipped by seaborn. However, they will remain available as 'seaborn-v0_8-<style>'. Alternatively, directly use the seaborn API instead.\n",
      "  plt.style.use(\"seaborn\")\n"
     ]
    },
    {
     "data": {
      "image/png": "[encoded data removed]",
      "text/plain": [
       "<Figure size 800x550 with 1 Axes>"
      ]
     },
     "metadata": {},
     "output_type": "display_data"
    }
   ],
   "source": [
    "lr = 0.1\n",
    "opt = qml.GradientDescentOptimizer(lr)\n",
    "from IPython.display import clear_output\n",
    "w = np.random.randn(2, \n",
    "requires_grad=True)\n",
    "cost_history = []\n",
    "\n",
    "for it in range(300):\n",
    "    w, cost = opt.step_and_cost(cost_fun, w)\n",
    "    clear_output(wait=True)\n",
    "    print(\"Step {:3d}       Cost_L = {:9.7f}\".format(it, cost), flush=True)\n",
    "    cost_history.append(cost)\n",
    "\n",
    "import matplotlib.pyplot as plt\n",
    "plt.style.use(\"seaborn\")\n",
    "# plt.plot(np.log(cost_history), \"g\")\n",
    "plt.plot(cost_history, \"g\")\n",
    "plt.ylabel(\"Cost function\")\n",
    "plt.xlabel(\"Optimization steps\")\n",
    "plt.show()"
   ]
  },
  {
   "cell_type": "code",
   "execution_count": 3,
   "metadata": {},
   "outputs": [
    {
     "name": "stdout",
     "output_type": "stream",
     "text": [
      "Name: PennyLane\n",
      "Version: 0.33.1\n",
      "Summary: PennyLane is a Python quantum machine learning library by Xanadu Inc.\n",
      "Home-page: https://github.com/PennyLaneAI/pennylane\n",
      "Author: \n",
      "Author-email: \n",
      "License: Apache License 2.0\n",
      "Location: /Users/bigsad/Downloads/Algorithm-Research/Student-Hub/Indy-Ng/.venv/lib/python3.11/site-packages\n",
      "Requires: appdirs, autograd, autoray, cachetools, networkx, numpy, pennylane-lightning, requests, rustworkx, scipy, semantic-version, toml, typing-extensions\n",
      "Required-by: PennyLane-Lightning, PennyLane-qiskit\n",
      "\n",
      "Platform info:           macOS-12.6-x86_64-i386-64bit\n",
      "Python version:          3.11.6\n",
      "Numpy version:           1.23.5\n",
      "Scipy version:           1.10.1\n",
      "Installed devices:\n",
      "- default.gaussian (PennyLane-0.33.1)\n",
      "- default.mixed (PennyLane-0.33.1)\n",
      "- default.qubit (PennyLane-0.33.1)\n",
      "- default.qubit.autograd (PennyLane-0.33.1)\n",
      "- default.qubit.jax (PennyLane-0.33.1)\n",
      "- default.qubit.legacy (PennyLane-0.33.1)\n",
      "- default.qubit.tf (PennyLane-0.33.1)\n",
      "- default.qubit.torch (PennyLane-0.33.1)\n",
      "- default.qutrit (PennyLane-0.33.1)\n",
      "- null.qubit (PennyLane-0.33.1)\n",
      "- lightning.qubit (PennyLane-Lightning-0.33.1)\n",
      "- qiskit.aer (PennyLane-qiskit-0.33.1)\n",
      "- qiskit.basicaer (PennyLane-qiskit-0.33.1)\n",
      "- qiskit.ibmq (PennyLane-qiskit-0.33.1)\n",
      "- qiskit.ibmq.circuit_runner (PennyLane-qiskit-0.33.1)\n",
      "- qiskit.ibmq.sampler (PennyLane-qiskit-0.33.1)\n",
      "- qiskit.remote (PennyLane-qiskit-0.33.1)\n"
     ]
    }
   ],
   "source": [
    "qml.about()"
   ]
  },
  {
   "cell_type": "code",
   "execution_count": 4,
   "metadata": {},
   "outputs": [
    {
     "ename": "NameError",
     "evalue": "name 'configured_backend' is not defined",
     "output_type": "error",
     "traceback": [
      "\u001b[0;31m---------------------------------------------------------------------------\u001b[0m",
      "\u001b[0;31mNameError\u001b[0m                                 Traceback (most recent call last)",
      "\u001b[1;32m/Users/bigsad/Downloads/Algorithm-Research/Student-Hub/Indy-Ng/tests/UF_demo.ipynb セル 4\u001b[0m line \u001b[0;36m2\n\u001b[1;32m      <a href='vscode-notebook-cell:/Users/bigsad/Downloads/Algorithm-Research/Student-Hub/Indy-Ng/tests/UF_demo.ipynb#W5sZmlsZQ%3D%3D?line=0'>1</a>\u001b[0m dev3 \u001b[39m=\u001b[39m qml\u001b[39m.\u001b[39mdevice(\u001b[39m\"\u001b[39m\u001b[39mdefault.qubit\u001b[39m\u001b[39m\"\u001b[39m, wires \u001b[39m=\u001b[39m \u001b[39m2\u001b[39m)\n\u001b[0;32m----> <a href='vscode-notebook-cell:/Users/bigsad/Downloads/Algorithm-Research/Student-Hub/Indy-Ng/tests/UF_demo.ipynb#W5sZmlsZQ%3D%3D?line=1'>2</a>\u001b[0m dev_noisy \u001b[39m=\u001b[39m qml\u001b[39m.\u001b[39mdevice(\u001b[39m\"\u001b[39m\u001b[39mqiskit.remote\u001b[39m\u001b[39m\"\u001b[39m, wires \u001b[39m=\u001b[39m \u001b[39m2\u001b[39m, backend\u001b[39m=\u001b[39mconfigured_backend())\n\u001b[1;32m      <a href='vscode-notebook-cell:/Users/bigsad/Downloads/Algorithm-Research/Student-Hub/Indy-Ng/tests/UF_demo.ipynb#W5sZmlsZQ%3D%3D?line=3'>4</a>\u001b[0m \u001b[39mdef\u001b[39;00m \u001b[39mansatz\u001b[39m(params, wires):\n\u001b[1;32m      <a href='vscode-notebook-cell:/Users/bigsad/Downloads/Algorithm-Research/Student-Hub/Indy-Ng/tests/UF_demo.ipynb#W5sZmlsZQ%3D%3D?line=4'>5</a>\u001b[0m     qml\u001b[39m.\u001b[39mRY(params[\u001b[39m0\u001b[39m], wires\u001b[39m=\u001b[39mwires)\n",
      "\u001b[0;31mNameError\u001b[0m: name 'configured_backend' is not defined"
     ]
    }
   ],
   "source": [
    "dev3 = qml.device(\"default.qubit\", wires = 2)\n",
    "dev_noisy = qml.device(\"qiskit.remote\", wires = 2, backend=configured_backend())\n",
    "\n",
    "def ansatz(params, wires):\n",
    "    qml.RY(params[0], wires=wires)\n",
    "\n",
    "def U_b(wires):\n",
    "    qml.Hadamard(wires=wires)\n",
    "\n",
    "def test_hadamard(params, part=\"Re\", j=-1):\n",
    "    qml.Hadamard(wires=1)\n",
    "\n",
    "    # qml.RY(params[0], 0)\n",
    "    ansatz(params, wires=0)\n",
    "\n",
    "    if part == \"Im\":\n",
    "        qml.PhaseShift(-np.pi/2, wires=1)\n",
    "\n",
    "    # qml.Hadamard(wires=0)\n",
    "    U_b(wires=0)\n",
    "\n",
    "    if j != -1:\n",
    "        qml.CZ(wires=(1,j))\n",
    "\n",
    "\n",
    "    # qml.Hadamard(wires=0)\n",
    "    U_b(wires=0)\n",
    "\n",
    "    qml.Hadamard(wires=1)\n",
    "\n",
    "    # return qml.state()\n",
    "    return qml.expval(qml.PauliZ(1))"
   ]
  },
  {
   "cell_type": "code",
   "execution_count": null,
   "metadata": {},
   "outputs": [],
   "source": [
    "test_hadamard_noiseless = qml.QNode(test_hadamard, dev3)\n",
    "test_hadamard_noisy = qml.QNode(test_hadamard, dev_noisy)\n",
    "test_hadamard_mitiq = mitigate_with_zne(test_hadamard, [1, 2, 3], fold_global, richardson_extrapolate)"
   ]
  },
  {
   "cell_type": "code",
   "execution_count": null,
   "metadata": {},
   "outputs": [
    {
     "name": "stdout",
     "output_type": "stream",
     "text": [
      "0.9999999999999992\n",
      "0.0\n",
      "0.9999999999999993\n",
      "0.0\n"
     ]
    }
   ],
   "source": [
    "# mu\n",
    "print(test_hadamard_noiseless([np.pi/2], part=\"Re\", j=0))\n",
    "print(test_hadamard_noiseless([np.pi/2], part=\"Im\", j=0))\n",
    "\n",
    "#beta \n",
    "print(test_hadamard_noiseless([np.pi/2], part=\"Re\", j=-1))\n",
    "print(test_hadamard_noiseless([np.pi/2], part=\"Im\", j=-1))"
   ]
  },
  {
   "cell_type": "markdown",
   "metadata": {},
   "source": [
    "#### Try now with noise"
   ]
  },
  {
   "cell_type": "code",
   "execution_count": null,
   "metadata": {},
   "outputs": [
    {
     "name": "stdout",
     "output_type": "stream",
     "text": [
      "0.9609375\n",
      "0.05859375\n",
      "0.978515625\n",
      "0.013671875\n"
     ]
    }
   ],
   "source": [
    "# mu\n",
    "print(test_hadamard_noisy([np.pi/2], part=\"Re\", j=0))\n",
    "print(test_hadamard_noisy([np.pi/2], part=\"Im\", j=0))\n",
    "#beta \n",
    "print(test_hadamard_noisy([np.pi/2], part=\"Re\", j=-1))\n",
    "print(test_hadamard_noisy([np.pi/2], part=\"Im\", j=-1))"
   ]
  },
  {
   "cell_type": "markdown",
   "metadata": {},
   "source": [
    "#### With Mitiq"
   ]
  },
  {
   "cell_type": "code",
   "execution_count": null,
   "metadata": {},
   "outputs": [
    {
     "ename": "TransformError",
     "evalue": "Impossible to dispatch your transform on quantum function, because more than one tape is returned",
     "output_type": "error",
     "traceback": [
      "\u001b[0;31m---------------------------------------------------------------------------\u001b[0m",
      "\u001b[0;31mTransformError\u001b[0m                            Traceback (most recent call last)",
      "\u001b[1;32m/Users/bigsad/Downloads/Algorithm-Research/Student-Hub/Indy-Ng/tests/mitiq_3.ipynb セル 16\u001b[0m line \u001b[0;36m2\n\u001b[1;32m      <a href='vscode-notebook-cell:/Users/bigsad/Downloads/Algorithm-Research/Student-Hub/Indy-Ng/tests/mitiq_3.ipynb#X26sZmlsZQ%3D%3D?line=0'>1</a>\u001b[0m \u001b[39m# mu\u001b[39;00m\n\u001b[0;32m----> <a href='vscode-notebook-cell:/Users/bigsad/Downloads/Algorithm-Research/Student-Hub/Indy-Ng/tests/mitiq_3.ipynb#X26sZmlsZQ%3D%3D?line=1'>2</a>\u001b[0m \u001b[39mprint\u001b[39m(test_hadamard_mitiq([np\u001b[39m.\u001b[39;49mpi\u001b[39m/\u001b[39;49m\u001b[39m2\u001b[39;49m], part\u001b[39m=\u001b[39;49m\u001b[39m\"\u001b[39;49m\u001b[39mRe\u001b[39;49m\u001b[39m\"\u001b[39;49m, j\u001b[39m=\u001b[39;49m\u001b[39m0\u001b[39;49m))\n\u001b[1;32m      <a href='vscode-notebook-cell:/Users/bigsad/Downloads/Algorithm-Research/Student-Hub/Indy-Ng/tests/mitiq_3.ipynb#X26sZmlsZQ%3D%3D?line=2'>3</a>\u001b[0m \u001b[39m# print(test_hadamard_mitiq([np.pi/2], part=\"Im\", j=0))\u001b[39;00m\n\u001b[1;32m      <a href='vscode-notebook-cell:/Users/bigsad/Downloads/Algorithm-Research/Student-Hub/Indy-Ng/tests/mitiq_3.ipynb#X26sZmlsZQ%3D%3D?line=3'>4</a>\u001b[0m \u001b[39m# #beta \u001b[39;00m\n\u001b[1;32m      <a href='vscode-notebook-cell:/Users/bigsad/Downloads/Algorithm-Research/Student-Hub/Indy-Ng/tests/mitiq_3.ipynb#X26sZmlsZQ%3D%3D?line=4'>5</a>\u001b[0m \u001b[39m# print(test_hadamard_mitiq([np.pi/2], part=\"Re\", j=-1))\u001b[39;00m\n\u001b[1;32m      <a href='vscode-notebook-cell:/Users/bigsad/Downloads/Algorithm-Research/Student-Hub/Indy-Ng/tests/mitiq_3.ipynb#X26sZmlsZQ%3D%3D?line=5'>6</a>\u001b[0m \u001b[39m# print(test_hadamard_mitiq([np.pi/2], part=\"Im\", j=-1))\u001b[39;00m\n",
      "File \u001b[0;32m~/Downloads/Algorithm-Research/Student-Hub/Indy-Ng/.venv/lib/python3.11/site-packages/pennylane/transforms/core/transform_dispatcher.py:244\u001b[0m, in \u001b[0;36mTransformDispatcher._qfunc_transform.<locals>.qfunc_transformed\u001b[0;34m(*args, **kwargs)\u001b[0m\n\u001b[1;32m    241\u001b[0m transformed_tapes, processing_fn \u001b[39m=\u001b[39m \u001b[39mself\u001b[39m\u001b[39m.\u001b[39m_transform(tape, \u001b[39m*\u001b[39mtargs, \u001b[39m*\u001b[39m\u001b[39m*\u001b[39mtkwargs)\n\u001b[1;32m    243\u001b[0m \u001b[39mif\u001b[39;00m \u001b[39mlen\u001b[39m(transformed_tapes) \u001b[39m!=\u001b[39m \u001b[39m1\u001b[39m:\n\u001b[0;32m--> 244\u001b[0m     \u001b[39mraise\u001b[39;00m TransformError(\n\u001b[1;32m    245\u001b[0m         \u001b[39m\"\u001b[39m\u001b[39mImpossible to dispatch your transform on quantum function, because more than \u001b[39m\u001b[39m\"\u001b[39m\n\u001b[1;32m    246\u001b[0m         \u001b[39m\"\u001b[39m\u001b[39mone tape is returned\u001b[39m\u001b[39m\"\u001b[39m\n\u001b[1;32m    247\u001b[0m     )\n\u001b[1;32m    249\u001b[0m transformed_tape \u001b[39m=\u001b[39m transformed_tapes[\u001b[39m0\u001b[39m]\n\u001b[1;32m    251\u001b[0m \u001b[39mif\u001b[39;00m \u001b[39mself\u001b[39m\u001b[39m.\u001b[39mis_informative:\n",
      "\u001b[0;31mTransformError\u001b[0m: Impossible to dispatch your transform on quantum function, because more than one tape is returned"
     ]
    }
   ],
   "source": [
    "# mu\n",
    "print(test_hadamard_mitiq([np.pi/2], part=\"Re\", j=0))\n",
    "print(test_hadamard_mitiq([np.pi/2], part=\"Im\", j=0))\n",
    "#beta \n",
    "print(test_hadamard_mitiq([np.pi/2], part=\"Re\", j=-1))\n",
    "print(test_hadamard_mitiq([np.pi/2], part=\"Im\", j=-1))"
   ]
  },
  {
   "cell_type": "code",
   "execution_count": null,
   "metadata": {},
   "outputs": [],
   "source": []
  }
 ],
 "metadata": {
  "kernelspec": {
   "display_name": ".venv",
   "language": "python",
   "name": "python3"
  },
  "language_info": {
   "codemirror_mode": {
    "name": "ipython",
    "version": 3
   },
   "file_extension": ".py",
   "mimetype": "text/x-python",
   "name": "python",
   "nbconvert_exporter": "python",
   "pygments_lexer": "ipython3",
   "version": "3.11.6"
  }
 },
 "nbformat": 4,
 "nbformat_minor": 2
}
