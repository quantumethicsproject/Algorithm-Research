{
 "cells": [
  {
   "cell_type": "code",
   "execution_count": 2,
   "metadata": {},
   "outputs": [
    {
     "name": "stdout",
     "output_type": "stream",
     "text": [
      "16 OperationRepresentation objects produced, assuming 1.0% depolarizing noise.\n",
      "1.0000000000000002\n",
      "0.671875\n",
      "1.0023101039831277\n"
     ]
    }
   ],
   "source": [
    "import pennylane as qml\n",
    "from pennylane import numpy as np\n",
    "from mitiq import pec, Executor\n",
    "from mitiq.pec.representations.depolarizing import represent_operations_in_circuit_with_local_depolarizing_noise\n",
    "from qiskit.providers.fake_provider import *\n",
    "\n",
    "n_wires = 3\n",
    "n_layers = 1\n",
    "template = qml.SimplifiedTwoDesign\n",
    "weights_shape = template.shape(n_layers, n_wires)\n",
    "w1, w2 = [2 * np.pi * np.random.random(s) for s in weights_shape]\n",
    "\n",
    "# Describe noise\n",
    "noise_strength = 0.01\n",
    "\n",
    "def configured_backend():\n",
    "    # backend = provider.get_backend(\"ibm_osaka\") # uncomment this line to use a real IBM device\n",
    "    backend = FakeManila()\n",
    "    # backend.options.update_options(...)\n",
    "    return backend\n",
    "\n",
    "#Ideal device\n",
    "dev_ideal = qml.device('default.mixed', wires=n_wires)\n",
    "#noisy device\n",
    "# dev_noisy = qml.transforms.insert(\n",
    "#     dev_ideal,\n",
    "#     qml.DepolarizingChannel,\n",
    "#     noise_strength\n",
    "# )\n",
    "dev_noisy = qml.device(\"qiskit.remote\", wires=n_wires, backend=configured_backend())\n",
    "\n",
    "# The above circuit cannot be directly plugged into the mitiq thing, so we use this quantumTape version instead\n",
    "ops = [\n",
    "    template(w1, w2, wires=range(n_wires)),\n",
    "    qml.adjoint(template(w1, w2, wires=range(n_wires))),\n",
    "]\n",
    "measurements = [qml.expval(qml.PauliZ(0))]\n",
    "circuit = qml.tape.QuantumTape(ops)\n",
    "\n",
    "# run mitiq PEC\n",
    "def executor(tape, dev):\n",
    "    new_tape = qml.tape.QuantumTape(\n",
    "        tape.operations,\n",
    "        tape.measurements + measurements,\n",
    "        shots=tape.shots,\n",
    "    )\n",
    "    return qml.execute([new_tape], dev)[0]\n",
    "\n",
    "executable = Executor(lambda tape: executor(tape, dev_noisy))\n",
    "\n",
    "noise_level = 0.01\n",
    "reps = represent_operations_in_circuit_with_local_depolarizing_noise(circuit, noise_level)\n",
    "print(f\"{len(reps)} OperationRepresentation objects produced, assuming {100 * noise_level}% depolarizing noise.\")\n",
    "\n",
    "# compare the circuits performance\n",
    "ideal_value = executor(circuit, dev_ideal)\n",
    "print(ideal_value)\n",
    "\n",
    "noisy_value = executor(circuit, dev_noisy)\n",
    "print(noisy_value)\n",
    "\n",
    "pec_value = pec.execute_with_pec(circuit, executable, representations=reps)\n",
    "print(pec_value)"
   ]
  },
  {
   "cell_type": "code",
   "execution_count": 37,
   "metadata": {},
   "outputs": [
    {
     "name": "stdout",
     "output_type": "stream",
     "text": [
      "Name: PennyLane\n",
      "Version: 0.33.1\n",
      "Summary: PennyLane is a Python quantum machine learning library by Xanadu Inc.\n",
      "Home-page: https://github.com/PennyLaneAI/pennylane\n",
      "Author: \n",
      "Author-email: \n",
      "License: Apache License 2.0\n",
      "Location: /Users/bigsad/Downloads/Algorithm-Research/Student-Hub/Indy-Ng/.venv/lib/python3.11/site-packages\n",
      "Requires: appdirs, autograd, autoray, cachetools, networkx, numpy, pennylane-lightning, requests, rustworkx, scipy, semantic-version, toml, typing-extensions\n",
      "Required-by: PennyLane-Lightning, PennyLane-qiskit\n",
      "\n",
      "Platform info:           macOS-12.6-x86_64-i386-64bit\n",
      "Python version:          3.11.6\n",
      "Numpy version:           1.23.5\n",
      "Scipy version:           1.10.1\n",
      "Installed devices:\n",
      "- default.gaussian (PennyLane-0.33.1)\n",
      "- default.mixed (PennyLane-0.33.1)\n",
      "- default.qubit (PennyLane-0.33.1)\n",
      "- default.qubit.autograd (PennyLane-0.33.1)\n",
      "- default.qubit.jax (PennyLane-0.33.1)\n",
      "- default.qubit.legacy (PennyLane-0.33.1)\n",
      "- default.qubit.tf (PennyLane-0.33.1)\n",
      "- default.qubit.torch (PennyLane-0.33.1)\n",
      "- default.qutrit (PennyLane-0.33.1)\n",
      "- null.qubit (PennyLane-0.33.1)\n",
      "- lightning.qubit (PennyLane-Lightning-0.33.1)\n",
      "- qiskit.aer (PennyLane-qiskit-0.33.1)\n",
      "- qiskit.basicaer (PennyLane-qiskit-0.33.1)\n",
      "- qiskit.ibmq (PennyLane-qiskit-0.33.1)\n",
      "- qiskit.ibmq.circuit_runner (PennyLane-qiskit-0.33.1)\n",
      "- qiskit.ibmq.sampler (PennyLane-qiskit-0.33.1)\n",
      "- qiskit.remote (PennyLane-qiskit-0.33.1)\n"
     ]
    }
   ],
   "source": [
    "qml.about()"
   ]
  },
  {
   "cell_type": "code",
   "execution_count": null,
   "metadata": {},
   "outputs": [],
   "source": []
  }
 ],
 "metadata": {
  "kernelspec": {
   "display_name": ".venv",
   "language": "python",
   "name": "python3"
  },
  "language_info": {
   "codemirror_mode": {
    "name": "ipython",
    "version": 3
   },
   "file_extension": ".py",
   "mimetype": "text/x-python",
   "name": "python",
   "nbconvert_exporter": "python",
   "pygments_lexer": "ipython3",
   "version": "3.11.6+"
  }
 },
 "nbformat": 4,
 "nbformat_minor": 2
}
