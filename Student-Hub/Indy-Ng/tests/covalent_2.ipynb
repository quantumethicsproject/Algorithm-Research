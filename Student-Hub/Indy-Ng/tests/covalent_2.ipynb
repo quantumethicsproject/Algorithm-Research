{
 "cells": [
  {
   "cell_type": "code",
   "execution_count": 9,
   "metadata": {},
   "outputs": [
    {
     "name": "stdout",
     "output_type": "stream",
     "text": [
      "023a6d1f-058a-46cf-b0d3-a0bdf45bd8cb\n"
     ]
    }
   ],
   "source": [
    "import random\n",
    "import covalent as ct\n",
    "import pennylane as qml\n",
    "\n",
    "# Define a Qiskit Runtime executor.\n",
    "# qiskit_sampler = ct.executor.QiskitExecutor(\n",
    "#         device=\"sampler\",\n",
    "#         backend=\"ibmq_qasm_simulator\",\n",
    "#         single_job=False,\n",
    "# )\n",
    "qiskit_qasm = ct.executor.QiskitExecutor(\n",
    "    device=\"sampler\",\n",
    "    backend=\"ibmq_qasm_simulator\",\n",
    "    ibmqx_token=\"b6719d7786262f6ae9e16a28a67c5484a2541c988f1912d755185f840c2dcbce938a1ca695dc87f0dc0dd943529919dc003ca93fae479e741540e3277d3904b4\",  # required if not in config file\n",
    "    single_job=False,\n",
    ")\n",
    "\n",
    "\n",
    "# Create a QElectron that executes on Qiskit Runtime.\n",
    "@ct.qelectron(executors=qiskit_qasm)\n",
    "@qml.qnode(qml.device(\"default.qubit\", wires=2, shots=1024))\n",
    "def circuit(x):\n",
    "    qml.RX(x, wires=0)\n",
    "    qml.Hadamard(wires=1)\n",
    "    qml.CNOT(wires=[0, 1])\n",
    "    return qml.expval(qml.PauliY(0))\n",
    "\n",
    "\n",
    "# Create Electrons for a simple workflow.\n",
    "@ct.electron\n",
    "def generate_rand_input():\n",
    "    return random.uniform(0, 3.14159)\n",
    "\n",
    "@ct.electron\n",
    "def run_qiskit_experiment(x):\n",
    "    # Workflow task that uses the `circuit` QElectron.\n",
    "    return circuit(x)\n",
    "\n",
    "@ct.lattice\n",
    "def workflow():\n",
    "    results = []\n",
    "        \n",
    "    # Six independent experiments.\n",
    "    for _ in range(6):\n",
    "        x = generate_rand_input()\n",
    "        results.append(run_qiskit_experiment(x))\n",
    "\n",
    "    return results\n",
    "\n",
    "# Dispatch workflow.\n",
    "dispatch_id = ct.dispatch(workflow)()\n",
    "print(dispatch_id)\n",
    "results = ct.get_result(dispatch_id, wait=True).result"
   ]
  },
  {
   "cell_type": "code",
   "execution_count": 8,
   "metadata": {},
   "outputs": [],
   "source": [
    "results"
   ]
  },
  {
   "cell_type": "code",
   "execution_count": null,
   "metadata": {},
   "outputs": [],
   "source": []
  }
 ],
 "metadata": {
  "kernelspec": {
   "display_name": "venv-3.11",
   "language": "python",
   "name": "python3"
  },
  "language_info": {
   "codemirror_mode": {
    "name": "ipython",
    "version": 3
   },
   "file_extension": ".py",
   "mimetype": "text/x-python",
   "name": "python",
   "nbconvert_exporter": "python",
   "pygments_lexer": "ipython3",
   "version": "3.11.6+"
  }
 },
 "nbformat": 4,
 "nbformat_minor": 2
}
