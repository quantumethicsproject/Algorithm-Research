{
 "cells": [
  {
   "cell_type": "code",
   "execution_count": null,
   "metadata": {},
   "outputs": [],
   "source": [
    "import random\n",
    "import covalent as ct\n",
    "import pennylane as qml\n",
    "import os\n",
    "\n",
    "import dotenv\n",
    "dotenv.load_dotenv()\n",
    "IBQM_token = os.getenv('IBMQ_token')\n",
    "\n",
    "# Define a Qiskit Runtime executor.\n",
    "qiskit_sampler = ct.executor.QiskitExecutor(\n",
    "        device=\"sampler\",\n",
    "        backend=\"ibmq_qasm_simulator\",\n",
    "        single_job=False,\n",
    ")\n",
    "qiskit_executor = ct.executor.QiskitExecutor(\n",
    "    device=\"sampler\",\n",
    "    backend=\"ibmq_qasm_simulator\",\n",
    "    ibmqx_token=IBQM_token,  # required if not in config file\n",
    "    single_job=False,\n",
    ")\n",
    "\n",
    "\n",
    "# Create a QElectron that executes on Qiskit Runtime.\n",
    "@ct.qelectron(executors=qiskit_executor)\n",
    "@qml.qnode(qml.device(\"default.qubit\", wires=2, shots=1024))\n",
    "def circuit(x):\n",
    "    qml.RX(x, wires=0)\n",
    "    qml.Hadamard(wires=1)\n",
    "    qml.CNOT(wires=[0, 1])\n",
    "    return qml.expval(qml.PauliY(0))\n",
    "\n",
    "\n",
    "# Create Electrons for a simple workflow.\n",
    "@ct.electron\n",
    "def generate_rand_input():\n",
    "    return random.uniform(0, 3.14159)\n",
    "\n",
    "@ct.electron\n",
    "def run_qiskit_experiment(x):\n",
    "    # Workflow task that uses the `circuit` QElectron.\n",
    "    return circuit(x)\n",
    "\n",
    "@ct.lattice\n",
    "def workflow():\n",
    "    results = []\n",
    "    \n",
    "    # Six independent experiments.\n",
    "    for _ in range(6):\n",
    "        x = generate_rand_input()\n",
    "        results.append(run_qiskit_experiment(x))\n",
    "\n",
    "    return results\n",
    "\n",
    "# Dispatch workflow.\n",
    "dispatch_id = ct.dispatch(workflow)()\n",
    "print(dispatch_id)\n",
    "results = ct.get_result(dispatch_id, wait=True).result"
   ]
  },
  {
   "cell_type": "code",
   "execution_count": 3,
   "metadata": {},
   "outputs": [
    {
     "data": {
      "text/plain": [
       "[tensor(-0.63671875, requires_grad=True),\n",
       " tensor(-0.82421875, requires_grad=True),\n",
       " tensor(-0.65625, requires_grad=True),\n",
       " tensor(-0.97265625, requires_grad=True),\n",
       " tensor(-0.97460938, requires_grad=True),\n",
       " tensor(-1., requires_grad=True)]"
      ]
     },
     "execution_count": 3,
     "metadata": {},
     "output_type": "execute_result"
    }
   ],
   "source": [
    "results"
   ]
  },
  {
   "cell_type": "code",
   "execution_count": null,
   "metadata": {},
   "outputs": [],
   "source": []
  }
 ],
 "metadata": {
  "kernelspec": {
   "display_name": "venv-3.11",
   "language": "python",
   "name": "python3"
  },
  "language_info": {
   "codemirror_mode": {
    "name": "ipython",
    "version": 3
   },
   "file_extension": ".py",
   "mimetype": "text/x-python",
   "name": "python",
   "nbconvert_exporter": "python",
   "pygments_lexer": "ipython3",
   "version": "3.11.6+"
  }
 },
 "nbformat": 4,
 "nbformat_minor": 2
}
