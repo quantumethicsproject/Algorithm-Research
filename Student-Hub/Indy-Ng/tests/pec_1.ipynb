{
 "cells": [
  {
   "cell_type": "code",
   "execution_count": 26,
   "metadata": {},
   "outputs": [],
   "source": [
    "import numpy as np\n",
    "from matplotlib import pyplot as plt\n",
    "import pennylane as qml\n",
    "from mitiq import Executor, Observable, PauliString\n",
    "from mitiq.interface.mitiq_cirq import compute_density_matrix\n",
    "from mitiq.cdr import generate_training_circuits\n",
    "from mitiq.cdr._testing import random_x_z_cnot_circuit\n",
    "from mitiq.pec import execute_with_pec\n",
    "from mitiq.pec.representations.depolarizing import (\n",
    "    represent_operation_with_local_depolarizing_noise,\n",
    ")\n",
    "from mitiq.pec.representations.learning import (\n",
    "    depolarizing_noise_loss_function,\n",
    "    learn_depolarizing_noise_parameter,\n",
    ")"
   ]
  },
  {
   "cell_type": "code",
   "execution_count": 27,
   "metadata": {},
   "outputs": [],
   "source": [
    "n_wires = 4"
   ]
  },
  {
   "cell_type": "code",
   "execution_count": 28,
   "metadata": {},
   "outputs": [],
   "source": [
    "# Describe noise\n",
    "noise_strength = 0.04\n",
    "\n",
    "#Ideal device\n",
    "dev_ideal = qml.device('default.mixed', wires=n_wires)\n",
    "#noisy device\n",
    "dev_noisy = qml.transforms.insert(\n",
    "    dev_ideal,\n",
    "    qml.DepolarizingChannel,\n",
    "    noise_strength\n",
    ")"
   ]
  },
  {
   "cell_type": "code",
   "execution_count": 42,
   "metadata": {},
   "outputs": [],
   "source": [
    "n_layers = 1\n",
    "template = qml.SimplifiedTwoDesign\n",
    "weights_shape = template.shape(n_layers, n_wires)\n",
    "w1, w2 = [2 * np.pi * np.random.random(s) for s in weights_shape]\n",
    "\n",
    "\n",
    "def circuit(w1, w2):\n",
    "    \"\"\"This circuit runs an identity transformation, so our expectation value should be 1 in a noiseless setting\"\"\"\n",
    "    template(w1, w2, wires=range(n_wires))\n",
    "    qml.adjoint(template)(w1, w2, wires=range(n_wires))\n",
    "    return qml.expval(qml.PauliZ(0))\n"
   ]
  },
  {
   "cell_type": "code",
   "execution_count": 30,
   "metadata": {},
   "outputs": [],
   "source": [
    "ideal_qnode = qml.QNode(circuit, dev_ideal)\n",
    "noisy_qnode = qml.QNode(circuit, dev_noisy)"
   ]
  },
  {
   "cell_type": "code",
   "execution_count": 31,
   "metadata": {},
   "outputs": [
    {
     "name": "stdout",
     "output_type": "stream",
     "text": [
      "0: ──RY(6.24)─╭●──RY(0.56)──RY(-0.56)────────────────────────────────────╭●──RY(-6.24)─┤  <Z>\n",
      "1: ──RY(2.90)─╰Z──RY(1.93)─╭●──────────RY(4.72)──RY(-4.72)─╭●──RY(-1.93)─╰Z──RY(-2.90)─┤     \n",
      "2: ──RY(0.93)─╭●──RY(0.28)─╰Z──────────RY(5.32)──RY(-5.32)─╰Z──RY(-0.28)─╭●──RY(-0.93)─┤     \n",
      "3: ──RY(2.81)─╰Z──RY(0.30)──RY(-0.30)────────────────────────────────────╰Z──RY(-2.81)─┤     \n"
     ]
    }
   ],
   "source": [
    "print(qml.draw(ideal_qnode, expansion_strategy=\"device\")(w1, w2))"
   ]
  },
  {
   "cell_type": "code",
   "execution_count": 32,
   "metadata": {},
   "outputs": [
    {
     "name": "stdout",
     "output_type": "stream",
     "text": [
      "0.9999999999999994\n"
     ]
    }
   ],
   "source": [
    "ideal_value = ideal_qnode(w1, w2)\n",
    "print(ideal_value)"
   ]
  },
  {
   "cell_type": "code",
   "execution_count": 33,
   "metadata": {},
   "outputs": [
    {
     "name": "stdout",
     "output_type": "stream",
     "text": [
      "0.7192687725433475\n"
     ]
    }
   ],
   "source": [
    "noisy_value = noisy_qnode(w1, w2)\n",
    "print(noisy_value)"
   ]
  },
  {
   "cell_type": "code",
   "execution_count": 48,
   "metadata": {},
   "outputs": [],
   "source": [
    "circuit = qml.tape.QuantumTape([\n",
    "    template(w1, w2, wires=range(n_wires)),\n",
    "    qml.adjoint(template(w1, w2, wires=range(n_wires)))\n",
    "])"
   ]
  },
  {
   "cell_type": "code",
   "execution_count": 35,
   "metadata": {},
   "outputs": [
    {
     "name": "stdout",
     "output_type": "stream",
     "text": [
      "23 OperationRepresentation objects produced, assuming 1.0% depolarizing noise.\n"
     ]
    }
   ],
   "source": [
    "from mitiq.pec.representations.depolarizing import represent_operations_in_circuit_with_local_depolarizing_noise\n",
    "\n",
    "noise_level = 0.01\n",
    "reps = represent_operations_in_circuit_with_local_depolarizing_noise(circuit, noise_level)\n",
    "print(f\"{len(reps)} OperationRepresentation objects produced, assuming {100 * noise_level}% depolarizing noise.\")"
   ]
  },
  {
   "cell_type": "code",
   "execution_count": 36,
   "metadata": {},
   "outputs": [
    {
     "name": "stdout",
     "output_type": "stream",
     "text": [
      "q_2: ───Ry(-0.089π)─── = 1.010*(q_2: ───Ry(-0.089π)───)-0.003*(q_2: ───Ry(-0.089π)───X───)-0.003*(q_2: ───Ry(-0.089π)───Y───)-0.003*(q_2: ───Ry(-0.089π)───Z───)\n"
     ]
    }
   ],
   "source": [
    "print(reps[0])"
   ]
  },
  {
   "cell_type": "code",
   "execution_count": 46,
   "metadata": {},
   "outputs": [
    {
     "name": "stdout",
     "output_type": "stream",
     "text": [
      "typing.Union[cirq.circuits.circuit.Circuit, pyquil.quil.Program, qiskit.circuit.quantumcircuit.QuantumCircuit, pennylane.tape.tape.QuantumTape]\n",
      "<class 'pennylane.qnode.QNode'>\n",
      "~Result\n"
     ]
    }
   ],
   "source": [
    "from mitiq import Executor, QPROGRAM, QuantumResult\n",
    "import inspect\n",
    "\n",
    "print(QPROGRAM)\n",
    "print(type(ideal_qnode))\n",
    "print(inspect.getfullargspec(ideal_qnode).annotations[\"return\"])\n",
    "executable = Executor(ideal_qnode)"
   ]
  },
  {
   "cell_type": "code",
   "execution_count": 49,
   "metadata": {},
   "outputs": [
    {
     "name": "stderr",
     "output_type": "stream",
     "text": [
      "/Users/bigsad/Downloads/Algorithm-Research/Student-Hub/Indy-Ng/.venv/lib/python3.11/site-packages/mitiq/pec/sampling.py:75: UserWarning: No representation found for \n",
      "\n",
      "q_0: ───Ry(0.92π)───.\n",
      "  warnings.warn(\n",
      "/Users/bigsad/Downloads/Algorithm-Research/Student-Hub/Indy-Ng/.venv/lib/python3.11/site-packages/mitiq/pec/sampling.py:75: UserWarning: No representation found for \n",
      "\n",
      "q_1: ───Ry(0.733π)───.\n",
      "  warnings.warn(\n",
      "/Users/bigsad/Downloads/Algorithm-Research/Student-Hub/Indy-Ng/.venv/lib/python3.11/site-packages/mitiq/pec/sampling.py:75: UserWarning: No representation found for \n",
      "\n",
      "q_2: ───Ry(0.374π)───.\n",
      "  warnings.warn(\n",
      "/Users/bigsad/Downloads/Algorithm-Research/Student-Hub/Indy-Ng/.venv/lib/python3.11/site-packages/mitiq/pec/sampling.py:75: UserWarning: No representation found for \n",
      "\n",
      "q_3: ───Ry(0.332π)───.\n",
      "  warnings.warn(\n",
      "/Users/bigsad/Downloads/Algorithm-Research/Student-Hub/Indy-Ng/.venv/lib/python3.11/site-packages/mitiq/pec/sampling.py:75: UserWarning: No representation found for \n",
      "\n",
      "q_0: ───Ry(1.79π)───.\n",
      "  warnings.warn(\n",
      "/Users/bigsad/Downloads/Algorithm-Research/Student-Hub/Indy-Ng/.venv/lib/python3.11/site-packages/mitiq/pec/sampling.py:75: UserWarning: No representation found for \n",
      "\n",
      "q_1: ───Ry(1.01π)───.\n",
      "  warnings.warn(\n",
      "/Users/bigsad/Downloads/Algorithm-Research/Student-Hub/Indy-Ng/.venv/lib/python3.11/site-packages/mitiq/pec/sampling.py:75: UserWarning: No representation found for \n",
      "\n",
      "q_2: ───Ry(1.48π)───.\n",
      "  warnings.warn(\n",
      "/Users/bigsad/Downloads/Algorithm-Research/Student-Hub/Indy-Ng/.venv/lib/python3.11/site-packages/mitiq/pec/sampling.py:75: UserWarning: No representation found for \n",
      "\n",
      "q_3: ───Ry(0.399π)───.\n",
      "  warnings.warn(\n",
      "/Users/bigsad/Downloads/Algorithm-Research/Student-Hub/Indy-Ng/.venv/lib/python3.11/site-packages/mitiq/pec/sampling.py:75: UserWarning: No representation found for \n",
      "\n",
      "q_3: ───Ry(-0.399π)───.\n",
      "  warnings.warn(\n",
      "/Users/bigsad/Downloads/Algorithm-Research/Student-Hub/Indy-Ng/.venv/lib/python3.11/site-packages/mitiq/pec/sampling.py:75: UserWarning: No representation found for \n",
      "\n",
      "q_0: ───Ry(-1.79π)───.\n",
      "  warnings.warn(\n",
      "/Users/bigsad/Downloads/Algorithm-Research/Student-Hub/Indy-Ng/.venv/lib/python3.11/site-packages/mitiq/pec/sampling.py:75: UserWarning: No representation found for \n",
      "\n",
      "q_1: ───Ry(0.64π)───.\n",
      "  warnings.warn(\n",
      "/Users/bigsad/Downloads/Algorithm-Research/Student-Hub/Indy-Ng/.venv/lib/python3.11/site-packages/mitiq/pec/sampling.py:75: UserWarning: No representation found for \n",
      "\n",
      "q_2: ───Ry(1.07π)───.\n",
      "  warnings.warn(\n",
      "/Users/bigsad/Downloads/Algorithm-Research/Student-Hub/Indy-Ng/.venv/lib/python3.11/site-packages/mitiq/pec/sampling.py:75: UserWarning: No representation found for \n",
      "\n",
      "q_2: ───Ry(-1.07π)───.\n",
      "  warnings.warn(\n",
      "/Users/bigsad/Downloads/Algorithm-Research/Student-Hub/Indy-Ng/.venv/lib/python3.11/site-packages/mitiq/pec/sampling.py:75: UserWarning: No representation found for \n",
      "\n",
      "q_1: ───Ry(-0.64π)───.\n",
      "  warnings.warn(\n",
      "/Users/bigsad/Downloads/Algorithm-Research/Student-Hub/Indy-Ng/.venv/lib/python3.11/site-packages/mitiq/pec/sampling.py:75: UserWarning: No representation found for \n",
      "\n",
      "q_2: ───Ry(-1.48π)───.\n",
      "  warnings.warn(\n",
      "/Users/bigsad/Downloads/Algorithm-Research/Student-Hub/Indy-Ng/.venv/lib/python3.11/site-packages/mitiq/pec/sampling.py:75: UserWarning: No representation found for \n",
      "\n",
      "q_1: ───Ry(-1.01π)───.\n",
      "  warnings.warn(\n",
      "/Users/bigsad/Downloads/Algorithm-Research/Student-Hub/Indy-Ng/.venv/lib/python3.11/site-packages/mitiq/pec/sampling.py:75: UserWarning: No representation found for \n",
      "\n",
      "q_3: ───Ry(-0.332π)───.\n",
      "  warnings.warn(\n",
      "/Users/bigsad/Downloads/Algorithm-Research/Student-Hub/Indy-Ng/.venv/lib/python3.11/site-packages/mitiq/pec/sampling.py:75: UserWarning: No representation found for \n",
      "\n",
      "q_2: ───Ry(-0.374π)───.\n",
      "  warnings.warn(\n",
      "/Users/bigsad/Downloads/Algorithm-Research/Student-Hub/Indy-Ng/.venv/lib/python3.11/site-packages/mitiq/pec/sampling.py:75: UserWarning: No representation found for \n",
      "\n",
      "q_1: ───Ry(-0.733π)───.\n",
      "  warnings.warn(\n",
      "/Users/bigsad/Downloads/Algorithm-Research/Student-Hub/Indy-Ng/.venv/lib/python3.11/site-packages/mitiq/pec/sampling.py:75: UserWarning: No representation found for \n",
      "\n",
      "q_0: ───Ry(-0.92π)───.\n",
      "  warnings.warn(\n",
      "/Users/bigsad/Downloads/Algorithm-Research/Student-Hub/Indy-Ng/.venv/lib/python3.11/site-packages/mitiq/pec/sampling.py:75: UserWarning: No representation found for \n",
      "\n",
      "q_0: ───Ry(0.92π)───.\n",
      "  warnings.warn(\n",
      "/Users/bigsad/Downloads/Algorithm-Research/Student-Hub/Indy-Ng/.venv/lib/python3.11/site-packages/mitiq/pec/sampling.py:75: UserWarning: No representation found for \n",
      "\n",
      "q_1: ───Ry(0.733π)───.\n",
      "  warnings.warn(\n",
      "/Users/bigsad/Downloads/Algorithm-Research/Student-Hub/Indy-Ng/.venv/lib/python3.11/site-packages/mitiq/pec/sampling.py:75: UserWarning: No representation found for \n",
      "\n",
      "q_2: ───Ry(0.374π)───.\n",
      "  warnings.warn(\n",
      "/Users/bigsad/Downloads/Algorithm-Research/Student-Hub/Indy-Ng/.venv/lib/python3.11/site-packages/mitiq/pec/sampling.py:75: UserWarning: No representation found for \n",
      "\n",
      "q_3: ───Ry(0.332π)───.\n",
      "  warnings.warn(\n",
      "/Users/bigsad/Downloads/Algorithm-Research/Student-Hub/Indy-Ng/.venv/lib/python3.11/site-packages/mitiq/pec/sampling.py:75: UserWarning: No representation found for \n",
      "\n",
      "q_0: ───Ry(1.79π)───.\n",
      "  warnings.warn(\n",
      "/Users/bigsad/Downloads/Algorithm-Research/Student-Hub/Indy-Ng/.venv/lib/python3.11/site-packages/mitiq/pec/sampling.py:75: UserWarning: No representation found for \n",
      "\n",
      "q_1: ───Ry(1.01π)───.\n",
      "  warnings.warn(\n",
      "/Users/bigsad/Downloads/Algorithm-Research/Student-Hub/Indy-Ng/.venv/lib/python3.11/site-packages/mitiq/pec/sampling.py:75: UserWarning: No representation found for \n",
      "\n",
      "q_2: ───Ry(1.48π)───.\n",
      "  warnings.warn(\n",
      "/Users/bigsad/Downloads/Algorithm-Research/Student-Hub/Indy-Ng/.venv/lib/python3.11/site-packages/mitiq/pec/sampling.py:75: UserWarning: No representation found for \n",
      "\n",
      "q_3: ───Ry(0.399π)───.\n",
      "  warnings.warn(\n",
      "/Users/bigsad/Downloads/Algorithm-Research/Student-Hub/Indy-Ng/.venv/lib/python3.11/site-packages/mitiq/pec/sampling.py:75: UserWarning: No representation found for \n",
      "\n",
      "q_3: ───Ry(-0.399π)───.\n",
      "  warnings.warn(\n",
      "/Users/bigsad/Downloads/Algorithm-Research/Student-Hub/Indy-Ng/.venv/lib/python3.11/site-packages/mitiq/pec/sampling.py:75: UserWarning: No representation found for \n",
      "\n",
      "q_0: ───Ry(-1.79π)───.\n",
      "  warnings.warn(\n",
      "/Users/bigsad/Downloads/Algorithm-Research/Student-Hub/Indy-Ng/.venv/lib/python3.11/site-packages/mitiq/pec/sampling.py:75: UserWarning: No representation found for \n",
      "\n",
      "q_1: ───Ry(0.64π)───.\n",
      "  warnings.warn(\n",
      "/Users/bigsad/Downloads/Algorithm-Research/Student-Hub/Indy-Ng/.venv/lib/python3.11/site-packages/mitiq/pec/sampling.py:75: UserWarning: No representation found for \n",
      "\n",
      "q_2: ───Ry(1.07π)───.\n",
      "  warnings.warn(\n",
      "/Users/bigsad/Downloads/Algorithm-Research/Student-Hub/Indy-Ng/.venv/lib/python3.11/site-packages/mitiq/pec/sampling.py:75: UserWarning: No representation found for \n",
      "\n",
      "q_2: ───Ry(-1.07π)───.\n",
      "  warnings.warn(\n",
      "/Users/bigsad/Downloads/Algorithm-Research/Student-Hub/Indy-Ng/.venv/lib/python3.11/site-packages/mitiq/pec/sampling.py:75: UserWarning: No representation found for \n",
      "\n",
      "q_1: ───Ry(-0.64π)───.\n",
      "  warnings.warn(\n",
      "/Users/bigsad/Downloads/Algorithm-Research/Student-Hub/Indy-Ng/.venv/lib/python3.11/site-packages/mitiq/pec/sampling.py:75: UserWarning: No representation found for \n",
      "\n",
      "q_2: ───Ry(-1.48π)───.\n",
      "  warnings.warn(\n",
      "/Users/bigsad/Downloads/Algorithm-Research/Student-Hub/Indy-Ng/.venv/lib/python3.11/site-packages/mitiq/pec/sampling.py:75: UserWarning: No representation found for \n",
      "\n",
      "q_1: ───Ry(-1.01π)───.\n",
      "  warnings.warn(\n",
      "/Users/bigsad/Downloads/Algorithm-Research/Student-Hub/Indy-Ng/.venv/lib/python3.11/site-packages/mitiq/pec/sampling.py:75: UserWarning: No representation found for \n",
      "\n",
      "q_3: ───Ry(-0.332π)───.\n",
      "  warnings.warn(\n",
      "/Users/bigsad/Downloads/Algorithm-Research/Student-Hub/Indy-Ng/.venv/lib/python3.11/site-packages/mitiq/pec/sampling.py:75: UserWarning: No representation found for \n",
      "\n",
      "q_2: ───Ry(-0.374π)───.\n",
      "  warnings.warn(\n",
      "/Users/bigsad/Downloads/Algorithm-Research/Student-Hub/Indy-Ng/.venv/lib/python3.11/site-packages/mitiq/pec/sampling.py:75: UserWarning: No representation found for \n",
      "\n",
      "q_1: ───Ry(-0.733π)───.\n",
      "  warnings.warn(\n",
      "/Users/bigsad/Downloads/Algorithm-Research/Student-Hub/Indy-Ng/.venv/lib/python3.11/site-packages/mitiq/pec/sampling.py:75: UserWarning: No representation found for \n",
      "\n",
      "q_0: ───Ry(-0.92π)───.\n",
      "  warnings.warn(\n"
     ]
    },
    {
     "ename": "TypeError",
     "evalue": "circuit() missing 1 required positional argument: 'w2'",
     "output_type": "error",
     "traceback": [
      "\u001b[0;31m---------------------------------------------------------------------------\u001b[0m",
      "\u001b[0;31mTypeError\u001b[0m                                 Traceback (most recent call last)",
      "\u001b[1;32m/Users/bigsad/Downloads/Algorithm-Research/Student-Hub/Indy-Ng/tests/pec_1.ipynb セル 13\u001b[0m line \u001b[0;36m3\n\u001b[1;32m      <a href='vscode-notebook-cell:/Users/bigsad/Downloads/Algorithm-Research/Student-Hub/Indy-Ng/tests/pec_1.ipynb#X15sZmlsZQ%3D%3D?line=0'>1</a>\u001b[0m \u001b[39mfrom\u001b[39;00m \u001b[39mmitiq\u001b[39;00m \u001b[39mimport\u001b[39;00m pec\n\u001b[0;32m----> <a href='vscode-notebook-cell:/Users/bigsad/Downloads/Algorithm-Research/Student-Hub/Indy-Ng/tests/pec_1.ipynb#X15sZmlsZQ%3D%3D?line=2'>3</a>\u001b[0m pec_value \u001b[39m=\u001b[39m pec\u001b[39m.\u001b[39;49mexecute_with_pec(circuit, executable, representations\u001b[39m=\u001b[39;49mreps)\n\u001b[1;32m      <a href='vscode-notebook-cell:/Users/bigsad/Downloads/Algorithm-Research/Student-Hub/Indy-Ng/tests/pec_1.ipynb#X15sZmlsZQ%3D%3D?line=4'>5</a>\u001b[0m \u001b[39mprint\u001b[39m(\u001b[39mf\u001b[39m\u001b[39m\"\u001b[39m\u001b[39mError without PEC: \u001b[39m\u001b[39m{\u001b[39;00m\u001b[39mabs\u001b[39m(ideal_value\u001b[39m \u001b[39m\u001b[39m-\u001b[39m\u001b[39m \u001b[39mnoisy_value)\u001b[39m \u001b[39m\u001b[39m:\u001b[39;00m\u001b[39m.5f\u001b[39m\u001b[39m}\u001b[39;00m\u001b[39m\"\u001b[39m)\n\u001b[1;32m      <a href='vscode-notebook-cell:/Users/bigsad/Downloads/Algorithm-Research/Student-Hub/Indy-Ng/tests/pec_1.ipynb#X15sZmlsZQ%3D%3D?line=5'>6</a>\u001b[0m \u001b[39mprint\u001b[39m(\u001b[39mf\u001b[39m\u001b[39m\"\u001b[39m\u001b[39mError with PEC:    \u001b[39m\u001b[39m{\u001b[39;00m\u001b[39mabs\u001b[39m(ideal_value\u001b[39m \u001b[39m\u001b[39m-\u001b[39m\u001b[39m \u001b[39mpec_value)\u001b[39m \u001b[39m\u001b[39m:\u001b[39;00m\u001b[39m.5f\u001b[39m\u001b[39m}\u001b[39;00m\u001b[39m\"\u001b[39m)\n",
      "File \u001b[0;32m~/Downloads/Algorithm-Research/Student-Hub/Indy-Ng/.venv/lib/python3.11/site-packages/mitiq/pec/pec.py:137\u001b[0m, in \u001b[0;36mexecute_with_pec\u001b[0;34m(circuit, executor, observable, representations, precision, num_samples, force_run_all, random_state, full_output)\u001b[0m\n\u001b[1;32m    134\u001b[0m \u001b[39mif\u001b[39;00m \u001b[39mnot\u001b[39;00m \u001b[39misinstance\u001b[39m(executor, Executor):\n\u001b[1;32m    135\u001b[0m     executor \u001b[39m=\u001b[39m Executor(executor)\n\u001b[0;32m--> 137\u001b[0m results \u001b[39m=\u001b[39m executor\u001b[39m.\u001b[39;49mevaluate(sampled_circuits, observable, force_run_all)\n\u001b[1;32m    139\u001b[0m \u001b[39m# Evaluate unbiased estimators [Temme2017] [Endo2018] [Takagi2020]\u001b[39;00m\n\u001b[1;32m    140\u001b[0m unbiased_estimators \u001b[39m=\u001b[39m [norm \u001b[39m*\u001b[39m s \u001b[39m*\u001b[39m val \u001b[39mfor\u001b[39;00m s, val \u001b[39min\u001b[39;00m \u001b[39mzip\u001b[39m(signs, results)]\n",
      "File \u001b[0;32m~/Downloads/Algorithm-Research/Student-Hub/Indy-Ng/.venv/lib/python3.11/site-packages/mitiq/executor/executor.py:178\u001b[0m, in \u001b[0;36mExecutor.evaluate\u001b[0;34m(self, circuits, observable, force_run_all, **kwargs)\u001b[0m\n\u001b[1;32m    175\u001b[0m     result_step \u001b[39m=\u001b[39m \u001b[39m1\u001b[39m\n\u001b[1;32m    177\u001b[0m \u001b[39m# Run all required circuits.\u001b[39;00m\n\u001b[0;32m--> 178\u001b[0m all_results \u001b[39m=\u001b[39m \u001b[39mself\u001b[39;49m\u001b[39m.\u001b[39;49mrun(all_circuits, force_run_all, \u001b[39m*\u001b[39;49m\u001b[39m*\u001b[39;49mkwargs)\n\u001b[1;32m    180\u001b[0m \u001b[39m# Parse the results.\u001b[39;00m\n\u001b[1;32m    181\u001b[0m \u001b[39mif\u001b[39;00m \u001b[39mself\u001b[39m\u001b[39m.\u001b[39m_executor_return_type \u001b[39min\u001b[39;00m FloatLike:\n",
      "File \u001b[0;32m~/Downloads/Algorithm-Research/Student-Hub/Indy-Ng/.venv/lib/python3.11/site-packages/mitiq/executor/executor.py:253\u001b[0m, in \u001b[0;36mExecutor.run\u001b[0;34m(self, circuits, force_run_all, **kwargs)\u001b[0m\n\u001b[1;32m    251\u001b[0m \u001b[39mif\u001b[39;00m \u001b[39mnot\u001b[39;00m \u001b[39mself\u001b[39m\u001b[39m.\u001b[39mcan_batch:\n\u001b[1;32m    252\u001b[0m     \u001b[39mfor\u001b[39;00m circuit \u001b[39min\u001b[39;00m to_run:\n\u001b[0;32m--> 253\u001b[0m         \u001b[39mself\u001b[39;49m\u001b[39m.\u001b[39;49m_call_executor(circuit, \u001b[39m*\u001b[39;49m\u001b[39m*\u001b[39;49mkwargs)\n\u001b[1;32m    255\u001b[0m \u001b[39melse\u001b[39;00m:\n\u001b[1;32m    256\u001b[0m     stop \u001b[39m=\u001b[39m \u001b[39mlen\u001b[39m(to_run)\n",
      "File \u001b[0;32m~/Downloads/Algorithm-Research/Student-Hub/Indy-Ng/.venv/lib/python3.11/site-packages/mitiq/executor/executor.py:290\u001b[0m, in \u001b[0;36mExecutor._call_executor\u001b[0;34m(self, to_run, **kwargs)\u001b[0m\n\u001b[1;32m    280\u001b[0m \u001b[39mdef\u001b[39;00m \u001b[39m_call_executor\u001b[39m(\n\u001b[1;32m    281\u001b[0m     \u001b[39mself\u001b[39m, to_run: Union[QPROGRAM, Sequence[QPROGRAM]], \u001b[39m*\u001b[39m\u001b[39m*\u001b[39mkwargs: Any\n\u001b[1;32m    282\u001b[0m ) \u001b[39m-\u001b[39m\u001b[39m>\u001b[39m \u001b[39mNone\u001b[39;00m:\n\u001b[1;32m    283\u001b[0m \u001b[39m    \u001b[39m\u001b[39m\"\"\"Calls the executor on the input circuit(s) to run. Stores the\u001b[39;00m\n\u001b[1;32m    284\u001b[0m \u001b[39m    executed circuits in ``self._executed_circuits`` and the quantum\u001b[39;00m\n\u001b[1;32m    285\u001b[0m \u001b[39m    results in ``self._quantum_results``.\u001b[39;00m\n\u001b[0;32m   (...)\u001b[0m\n\u001b[1;32m    288\u001b[0m \u001b[39m        to_run: Circuit(s) to run.\u001b[39;00m\n\u001b[1;32m    289\u001b[0m \u001b[39m    \"\"\"\u001b[39;00m\n\u001b[0;32m--> 290\u001b[0m     result \u001b[39m=\u001b[39m \u001b[39mself\u001b[39;49m\u001b[39m.\u001b[39;49m_executor(to_run, \u001b[39m*\u001b[39;49m\u001b[39m*\u001b[39;49mkwargs)\n\u001b[1;32m    291\u001b[0m     \u001b[39mself\u001b[39m\u001b[39m.\u001b[39m_calls_to_executor \u001b[39m+\u001b[39m\u001b[39m=\u001b[39m \u001b[39m1\u001b[39m\n\u001b[1;32m    293\u001b[0m     \u001b[39mif\u001b[39;00m \u001b[39mself\u001b[39m\u001b[39m.\u001b[39mcan_batch:\n",
      "File \u001b[0;32m~/Downloads/Algorithm-Research/Student-Hub/Indy-Ng/.venv/lib/python3.11/site-packages/pennylane/qnode.py:970\u001b[0m, in \u001b[0;36mQNode.__call__\u001b[0;34m(self, *args, **kwargs)\u001b[0m\n\u001b[1;32m    967\u001b[0m         kwargs[\u001b[39m\"\u001b[39m\u001b[39mshots\u001b[39m\u001b[39m\"\u001b[39m] \u001b[39m=\u001b[39m _get_device_shots(\u001b[39mself\u001b[39m\u001b[39m.\u001b[39m_original_device)\n\u001b[1;32m    969\u001b[0m \u001b[39m# construct the tape\u001b[39;00m\n\u001b[0;32m--> 970\u001b[0m \u001b[39mself\u001b[39;49m\u001b[39m.\u001b[39;49mconstruct(args, kwargs)\n\u001b[1;32m    972\u001b[0m cache \u001b[39m=\u001b[39m \u001b[39mself\u001b[39m\u001b[39m.\u001b[39mexecute_kwargs\u001b[39m.\u001b[39mget(\u001b[39m\"\u001b[39m\u001b[39mcache\u001b[39m\u001b[39m\"\u001b[39m, \u001b[39mFalse\u001b[39;00m)\n\u001b[1;32m    973\u001b[0m using_custom_cache \u001b[39m=\u001b[39m (\n\u001b[1;32m    974\u001b[0m     \u001b[39mhasattr\u001b[39m(cache, \u001b[39m\"\u001b[39m\u001b[39m__getitem__\u001b[39m\u001b[39m\"\u001b[39m)\n\u001b[1;32m    975\u001b[0m     \u001b[39mand\u001b[39;00m \u001b[39mhasattr\u001b[39m(cache, \u001b[39m\"\u001b[39m\u001b[39m__setitem__\u001b[39m\u001b[39m\"\u001b[39m)\n\u001b[1;32m    976\u001b[0m     \u001b[39mand\u001b[39;00m \u001b[39mhasattr\u001b[39m(cache, \u001b[39m\"\u001b[39m\u001b[39m__delitem__\u001b[39m\u001b[39m\"\u001b[39m)\n\u001b[1;32m    977\u001b[0m )\n",
      "File \u001b[0;32m~/Downloads/Algorithm-Research/Student-Hub/Indy-Ng/.venv/lib/python3.11/site-packages/pennylane/qnode.py:856\u001b[0m, in \u001b[0;36mQNode.construct\u001b[0;34m(self, args, kwargs)\u001b[0m\n\u001b[1;32m    853\u001b[0m     \u001b[39mself\u001b[39m\u001b[39m.\u001b[39minterface \u001b[39m=\u001b[39m qml\u001b[39m.\u001b[39mmath\u001b[39m.\u001b[39mget_interface(\u001b[39m*\u001b[39margs, \u001b[39m*\u001b[39m\u001b[39mlist\u001b[39m(kwargs\u001b[39m.\u001b[39mvalues()))\n\u001b[1;32m    855\u001b[0m \u001b[39mwith\u001b[39;00m qml\u001b[39m.\u001b[39mqueuing\u001b[39m.\u001b[39mAnnotatedQueue() \u001b[39mas\u001b[39;00m q:\n\u001b[0;32m--> 856\u001b[0m     \u001b[39mself\u001b[39m\u001b[39m.\u001b[39m_qfunc_output \u001b[39m=\u001b[39m \u001b[39mself\u001b[39;49m\u001b[39m.\u001b[39;49mfunc(\u001b[39m*\u001b[39;49margs, \u001b[39m*\u001b[39;49m\u001b[39m*\u001b[39;49mkwargs)\n\u001b[1;32m    858\u001b[0m \u001b[39mself\u001b[39m\u001b[39m.\u001b[39m_tape \u001b[39m=\u001b[39m QuantumScript\u001b[39m.\u001b[39mfrom_queue(q, shots)\n\u001b[1;32m    860\u001b[0m params \u001b[39m=\u001b[39m \u001b[39mself\u001b[39m\u001b[39m.\u001b[39mtape\u001b[39m.\u001b[39mget_parameters(trainable_only\u001b[39m=\u001b[39m\u001b[39mFalse\u001b[39;00m)\n",
      "\u001b[0;31mTypeError\u001b[0m: circuit() missing 1 required positional argument: 'w2'"
     ]
    }
   ],
   "source": [
    "from mitiq import pec\n",
    "\n",
    "pec_value = pec.execute_with_pec(circuit, executable, representations=reps)\n",
    "\n",
    "print(f\"Error without PEC: {abs(ideal_value - noisy_value) :.5f}\")\n",
    "print(f\"Error with PEC:    {abs(ideal_value - pec_value) :.5f}\")"
   ]
  },
  {
   "cell_type": "code",
   "execution_count": null,
   "metadata": {},
   "outputs": [],
   "source": []
  }
 ],
 "metadata": {
  "kernelspec": {
   "display_name": ".venv",
   "language": "python",
   "name": "python3"
  },
  "language_info": {
   "codemirror_mode": {
    "name": "ipython",
    "version": 3
   },
   "file_extension": ".py",
   "mimetype": "text/x-python",
   "name": "python",
   "nbconvert_exporter": "python",
   "pygments_lexer": "ipython3",
   "version": "3.11.6"
  }
 },
 "nbformat": 4,
 "nbformat_minor": 2
}
