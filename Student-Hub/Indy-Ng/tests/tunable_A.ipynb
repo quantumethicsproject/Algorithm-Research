{
 "cells": [
  {
   "cell_type": "code",
   "execution_count": 162,
   "metadata": {},
   "outputs": [],
   "source": [
    "import pennylane as qml"
   ]
  },
  {
   "cell_type": "code",
   "execution_count": 163,
   "metadata": {},
   "outputs": [],
   "source": [
    "n_wires = 3\n",
    "anc1 = n_wires\n",
    "anc2 = n_wires + 1\n",
    "anc3 = n_wires + 2"
   ]
  },
  {
   "cell_type": "code",
   "execution_count": 164,
   "metadata": {},
   "outputs": [],
   "source": [
    "dev_ideal = qml.device('default.mixed', wires=n_wires + 3 + 2)"
   ]
  },
  {
   "cell_type": "code",
   "execution_count": 165,
   "metadata": {},
   "outputs": [],
   "source": [
    "from scipy.optimize import fsolve\n",
    "from pennylane import numpy as np\n",
    "\n",
    "# Define the expression whose roots we want to find\n",
    "\n",
    "phi1 = 0.5\n",
    "k = 2\n",
    "\n",
    "def get_phi2(k, phi1):\n",
    "    func = lambda phi2 : k - (np.cos(2*phi1 + phi2)/np.cos(2*phi1 - phi2)) \n",
    "\n",
    "    phi2_initial_guess = 0.5\n",
    "    solution = fsolve(func, phi2_initial_guess)\n",
    "\n",
    "    return solution\n",
    "\n",
    "phi2 = get_phi2(k, phi1)"
   ]
  },
  {
   "cell_type": "code",
   "execution_count": 166,
   "metadata": {},
   "outputs": [],
   "source": [
    "def U_a(wires):\n",
    "    [qml.Hadamard(wires=i) for i in wires]"
   ]
  },
  {
   "cell_type": "code",
   "execution_count": 167,
   "metadata": {},
   "outputs": [],
   "source": [
    "def c0not(ctrl, target):\n",
    "    # cnot conditioned on 0\n",
    "    qml.PauliX(wires=ctrl)\n",
    "    qml.CNOT(wires=(ctrl, target))\n",
    "    qml.PauliX(wires=ctrl)"
   ]
  },
  {
   "cell_type": "code",
   "execution_count": 168,
   "metadata": {},
   "outputs": [],
   "source": [
    "def tunable_A(phi1, phi2):\n",
    "    qml.Hadamard(wires=anc2)\n",
    "    c0not(anc1, anc2)\n",
    "\n",
    "    # Z rotation by phi1\n",
    "    qml.RZ(phi1, wires=anc2)\n",
    "\n",
    "    c0not(anc1, anc2)\n",
    "    # U_a acts on all wires + first ancilla\n",
    "    U_a(wires=range(anc1+1))\n",
    "    c0not(anc1, anc2)\n",
    "\n",
    "    # Z rotation by phi2\n",
    "    qml.RZ(phi2, wires=anc2)\n",
    "\n",
    "    c0not(anc1, anc2)\n",
    "    U_a(wires=range(anc1+1)) # hadamards are hermititian so conjugate = itself\n",
    "    c0not(anc1, anc2)\n",
    "\n",
    "    # Z rotation by phi2\n",
    "    qml.RZ(phi1, wires=anc2)\n",
    "    \n",
    "    c0not(anc1, anc2)\n",
    "    qml.Hadamard(wires=anc2)\n",
    "\n",
    "    # destroy the ancilla qubits\n",
    "    # qml.measure(wires=anc1, reset=True)\n",
    "    # qml.measure(wires=anc2, reset=True)\n"
   ]
  },
  {
   "cell_type": "code",
   "execution_count": 169,
   "metadata": {},
   "outputs": [],
   "source": [
    "matrix_fn = qml.matrix(tunable_A)"
   ]
  },
  {
   "cell_type": "code",
   "execution_count": 170,
   "metadata": {},
   "outputs": [
    {
     "data": {
      "text/plain": [
       "(32, 32)"
      ]
     },
     "execution_count": 170,
     "metadata": {},
     "output_type": "execute_result"
    }
   ],
   "source": [
    "matrix_fn(phi1, phi2).shape"
   ]
  },
  {
   "cell_type": "code",
   "execution_count": 171,
   "metadata": {},
   "outputs": [],
   "source": [
    "@qml.qnode(dev_ideal)\n",
    "def circuit(phi):\n",
    "    qml.RY(phi, wires = 0)\n",
    "    qml.ControlledQubitUnitary(matrix_fn(np.pi/4, np.pi/4), control_wires=anc3, wires=range(anc2+1))\n",
    "    # reset the ancilla qubits\n",
    "    qml.measure(anc1, reset=True)\n",
    "    qml.measure(anc2, reset=True)\n",
    "\n",
    "    return qml.expval(qml.PauliZ(0))"
   ]
  },
  {
   "cell_type": "code",
   "execution_count": 172,
   "metadata": {},
   "outputs": [
    {
     "name": "stdout",
     "output_type": "stream",
     "text": [
      "0: ──RY(0.00)─╭U(M0)─────────────┤  <Z>\n",
      "1: ───────────├U(M0)─────────────┤     \n",
      "2: ───────────├U(M0)─────────────┤     \n",
      "3: ───────────├U(M0)─╭●─╭X───────┤     \n",
      "4: ───────────├U(M0)─│──│──╭●─╭X─┤     \n",
      "5: ───────────╰●─────│──│──│──│──┤     \n",
      "6: ──────────────────╰X─╰●─│──│──┤     \n",
      "7: ────────────────────────╰X─╰●─┤     \n",
      "M0 = \n",
      "[[ 6.53281482e-01-1.11259613e-17j  2.64361880e-18+4.07355913e-34j\n",
      "  -1.10600424e-17-5.73584186e-20j ...  1.47404296e-34-7.56735282e-35j\n",
      "   1.87765116e-18+4.53305090e-18j  6.10568587e-35+1.47404296e-34j]\n",
      " [ 2.64361880e-18+4.07355913e-34j  6.53281482e-01-1.11259613e-17j\n",
      "  -2.08563115e-35+4.75237382e-37j ... -1.87765116e-18-1.01021999e-17j\n",
      "   6.10568587e-35+1.47404296e-34j  1.87765116e-18+4.53305090e-18j]\n",
      " [-1.10600424e-17-5.73584186e-20j -2.08563115e-35+4.75237382e-37j\n",
      "   6.53281482e-01-1.11259613e-17j ...  6.10568587e-35+1.47404296e-34j\n",
      "  -1.87765116e-18-1.01021999e-17j  1.47404296e-34-7.56735282e-35j]\n",
      " ...\n",
      " [-3.40674538e-37-4.30716518e-34j  2.37586349e-20-5.62650738e-18j\n",
      "   6.68040188e-37-1.61279168e-36j ...  6.53281482e-01+1.11259613e-17j\n",
      "   7.54247973e-36-6.90359843e-35j -5.72548430e-18-1.28214041e-17j]\n",
      " [-2.37586349e-20+5.73584186e-20j  6.68040188e-37-1.61279168e-36j\n",
      "   2.37586349e-20-5.62650738e-18j ...  7.54247973e-36-6.90359843e-35j\n",
      "   6.53281482e-01+5.03782728e-17j  1.08812165e-18+3.75530232e-18j]\n",
      " [ 6.68040188e-37-1.61279168e-36j -2.37586349e-20+5.73584186e-20j\n",
      "  -3.40674538e-37-4.30716518e-34j ... -5.72548430e-18-1.28214041e-17j\n",
      "   1.08812165e-18+3.75530232e-18j  6.53281482e-01+5.03782728e-17j]]\n"
     ]
    }
   ],
   "source": [
    "print(qml.draw(circuit, expansion_strategy=\"device\")(0))"
   ]
  },
  {
   "cell_type": "code",
   "execution_count": 173,
   "metadata": {},
   "outputs": [
    {
     "name": "stdout",
     "output_type": "stream",
     "text": [
      "Step  99       Cost_L = -0.9995123 \t error =       inf\n",
      "Training time: 26.33497905731201s\n"
     ]
    }
   ],
   "source": [
    "from IPython.display import clear_output\n",
    "import time\n",
    "\n",
    "opt = qml.GradientDescentOptimizer(0.1)\n",
    "w = 0.01 * np.random.randn(1)\n",
    "cost_history = []\n",
    "\n",
    "err = float(\"inf\")\n",
    "it = 1\n",
    "\n",
    "# training loop\n",
    "\n",
    "start = time.time()\n",
    "for it in range(100):\n",
    "    w, cost = opt.step_and_cost(circuit, w)\n",
    "    \n",
    "    clear_output(wait=True)\n",
    "\n",
    "    print(\"Step {:3d}       Cost_L = {:9.7f} \\t error = {:9.7f}\".format(it, cost, err), flush=True)\n",
    "    cost_history.append(cost)\n",
    "\n",
    "    prev_w = w\n",
    "\n",
    "    it += 1\n",
    "\n",
    "TTS = time.time() - start\n",
    "\n",
    "print(f\"Training time: {TTS}s\")"
   ]
  },
  {
   "cell_type": "code",
   "execution_count": null,
   "metadata": {},
   "outputs": [],
   "source": []
  }
 ],
 "metadata": {
  "kernelspec": {
   "display_name": ".venv",
   "language": "python",
   "name": "python3"
  },
  "language_info": {
   "codemirror_mode": {
    "name": "ipython",
    "version": 3
   },
   "file_extension": ".py",
   "mimetype": "text/x-python",
   "name": "python",
   "nbconvert_exporter": "python",
   "pygments_lexer": "ipython3",
   "version": "3.11.6+"
  }
 },
 "nbformat": 4,
 "nbformat_minor": 2
}
