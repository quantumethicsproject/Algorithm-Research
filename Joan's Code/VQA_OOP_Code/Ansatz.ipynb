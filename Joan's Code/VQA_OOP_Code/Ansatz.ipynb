{
 "cells": [
  {
   "cell_type": "code",
   "execution_count": 1,
   "metadata": {},
   "outputs": [
    {
     "ename": "NameError",
     "evalue": "name 'np' is not defined",
     "output_type": "error",
     "traceback": [
      "\u001b[1;31m---------------------------------------------------------------------------\u001b[0m",
      "\u001b[1;31mNameError\u001b[0m                                 Traceback (most recent call last)",
      "Cell \u001b[1;32mIn[1], line 13\u001b[0m\n\u001b[0;32m     10\u001b[0m     qml\u001b[38;5;241m.\u001b[39mSimplifiedTwoDesign(initial_layer_weights\u001b[38;5;241m=\u001b[39minit_weights, weights\u001b[38;5;241m=\u001b[39mweights, wires\u001b[38;5;241m=\u001b[39m\u001b[38;5;28mrange\u001b[39m(n_wires))\n\u001b[0;32m     11\u001b[0m     \u001b[38;5;28;01mreturn\u001b[39;00m [qml\u001b[38;5;241m.\u001b[39mexpval(qml\u001b[38;5;241m.\u001b[39mPauliZ(i)) \u001b[38;5;28;01mfor\u001b[39;00m i \u001b[38;5;129;01min\u001b[39;00m \u001b[38;5;28mrange\u001b[39m(n_wires)]\n\u001b[1;32m---> 13\u001b[0m init_weights \u001b[38;5;241m=\u001b[39m [np\u001b[38;5;241m.\u001b[39mpi, np\u001b[38;5;241m.\u001b[39mpi, np\u001b[38;5;241m.\u001b[39mpi]\n\u001b[0;32m     14\u001b[0m weights_layer1 \u001b[38;5;241m=\u001b[39m [[\u001b[38;5;241m0.\u001b[39m, np\u001b[38;5;241m.\u001b[39mpi],\n\u001b[0;32m     15\u001b[0m                   [\u001b[38;5;241m0.\u001b[39m, np\u001b[38;5;241m.\u001b[39mpi]]\n\u001b[0;32m     16\u001b[0m weights_layer2 \u001b[38;5;241m=\u001b[39m [[np\u001b[38;5;241m.\u001b[39mpi, \u001b[38;5;241m0.\u001b[39m],\n\u001b[0;32m     17\u001b[0m                   [np\u001b[38;5;241m.\u001b[39mpi, \u001b[38;5;241m0.\u001b[39m]]\n",
      "\u001b[1;31mNameError\u001b[0m: name 'np' is not defined"
     ]
    }
   ],
   "source": [
    "import pennylane as qml\n",
    "from math import pi\n",
    "\n",
    "n_wires = 3\n",
    "dev = qml.device('default.qubit', wires=n_wires)\n",
    "\n",
    "@qml.qnode(dev)\n",
    "\n",
    "def circuit(init_weights, weights):\n",
    "    qml.SimplifiedTwoDesign(initial_layer_weights=init_weights, weights=weights, wires=range(n_wires))\n",
    "    return [qml.expval(qml.PauliZ(i)) for i in range(n_wires)]\n",
    "\n",
    "init_weights = [np.pi, np.pi, np.pi]\n",
    "weights_layer1 = [[0., np.pi],\n",
    "                  [0., np.pi]]\n",
    "weights_layer2 = [[np.pi, 0.],\n",
    "                  [np.pi, 0.]]\n",
    "weights = [weights_layer1, weights_layer2]\n",
    "\n",
    "drawer = qml.draw(circuit)\n",
    "print(drawer(init_weights, weights))"
   ]
  },
  {
   "cell_type": "code",
   "execution_count": null,
   "metadata": {},
   "outputs": [],
   "source": [
    "        def rot(theta, i):\n",
    "            qml.RZ(theta, wires = i)\n",
    "            qml.RX(np.pi/2, wires = i)\n",
    "\n",
    "        def rot_ent(theta1, theta2, i):\n",
    "            rot(theta1, wires = i)\n",
    "            rot(theta2, wires = i+1)\n",
    "            qml.CNOT(wires = [i, i+1])\n",
    "\n",
    "        \n",
    "\n",
    "        def ansatz(param):    \n",
    "            if len(param) == 1:\n",
    "                 rot(param[0], wires = 0)\n",
    "                 rot(param[0], wires = 1)\n",
    "\n",
    "            elif len(param) % 2 == 0:\n",
    "                for i in range(len(param)):\n",
    "                    rot_ent\n",
    "                \n",
    "            #    qml.RZ(param[i], wires = i)\n",
    "            #    qml.RZ(param[i], wires = i+len(param))\n",
    "            #    qml.RX(np.pi/2, wires = i)\n",
    "            #    qml.RX(np.pi/2, wires = i+len(param))"
   ]
  },
  {
   "cell_type": "code",
   "execution_count": null,
   "metadata": {},
   "outputs": [],
   "source": [
    "param = []\n",
    "d = 1\n",
    "n_wires = 4\n",
    "half = n_wires/2\n",
    "L = n_wires + 2*(n_wires - 1)*d\n",
    "for i in range(L):\n",
    "    param.append(i)\n",
    "\n",
    "def rot(theta, i):\n",
    "    qml.RZ(theta, wires = i)\n",
    "    qml.RX(np.pi/2, wires = i)\n",
    "\n",
    "def initial_layer(param):\n",
    "    for i in range(n_wires):\n",
    "        rot(param[0], i)\n",
    "\n",
    "\n",
    "def rot_ent(param, i, j):\n",
    "    qml.CNOT(wires = [i, i+1])\n",
    "    rot(param[j], i)\n",
    "    rot(param[j+1], i+1)\n",
    "\n",
    "def rot_block(param):\n",
    "    for i in range(n_wires-1):\n",
    "        rot_ent(param, 2*i, n_wires + 2*i)\n",
    "        rot_ent(param, 2*i+1, n_wires + 2*i)\n",
    "\n",
    "dev = qml.device('default.qubit', wires=n_wires)\n",
    "@qml.qnode(dev)\n",
    "def circuit(param):\n",
    "    for i in range(n_wires):\n",
    "        rot(param[i], i)\n",
    "    rot_block(param)\n",
    "    #rot_ent(param, 0, n_wires)\n",
    "    #rot_ent(param, 2, n_wires+2)\n",
    "    #rot_ent(param, 1, n_wires+4)\n",
    "    return qml.probs()\n",
    "\n",
    "\n",
    "\n",
    "drawer = qml.draw(circuit)\n",
    "print(drawer((param)))"
   ]
  }
 ],
 "metadata": {
  "kernelspec": {
   "display_name": "base",
   "language": "python",
   "name": "python3"
  },
  "language_info": {
   "codemirror_mode": {
    "name": "ipython",
    "version": 3
   },
   "file_extension": ".py",
   "mimetype": "text/x-python",
   "name": "python",
   "nbconvert_exporter": "python",
   "pygments_lexer": "ipython3",
   "version": "3.11.5"
  }
 },
 "nbformat": 4,
 "nbformat_minor": 2
}
