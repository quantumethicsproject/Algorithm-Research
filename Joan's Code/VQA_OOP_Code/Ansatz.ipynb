{
 "cells": [
  {
   "cell_type": "code",
   "execution_count": null,
   "metadata": {},
   "outputs": [],
   "source": [
    "#Homemade Ansatz - needs depth feature added\n",
    "\n",
    "        def rot(theta, i):\n",
    "            qml.RZ(theta, wires = i)\n",
    "            qml.RX(np.pi/2, wires = i)\n",
    "\n",
    "        def initial_layer(param, q):\n",
    "            for i in range(self.qubits):\n",
    "                rot(param[i], i+q)\n",
    "\n",
    "        def rot_ent(param, i, j):\n",
    "            qml.CNOT(wires = [i, i+1])\n",
    "            rot(param[j], i)\n",
    "            rot(param[j+1], i+1)\n",
    "\n",
    "        def rot_block(param, q):\n",
    "            e = []\n",
    "            o = []\n",
    "            for i in range(self.qubits - 1):\n",
    "                if i % 2 == 0:\n",
    "                    e.append(i)\n",
    "                    rot_ent(param, i + q, self.qubits + i)\n",
    "                else:\n",
    "                    o.append(i)\n",
    "                \n",
    "            for k in range(len(o)):\n",
    "                rot_ent(param, o[k] + q, self.qubits + e[-1] + 2*(k+1))\n",
    "\n",
    "        def Ansatz_block(param, q):\n",
    "            initial_layer(param, q)\n",
    "            rot_block(param, q)\n",
    "\n",
    "        def Ansatz(param):\n",
    "            Ansatz_block(param, 0)\n",
    "            Ansatz_block(param, self.qubits)\n"
   ]
  }
 ],
 "metadata": {
  "kernelspec": {
   "display_name": "base",
   "language": "python",
   "name": "python3"
  },
  "language_info": {
   "codemirror_mode": {
    "name": "ipython",
    "version": 3
   },
   "file_extension": ".py",
   "mimetype": "text/x-python",
   "name": "python",
   "nbconvert_exporter": "python",
   "pygments_lexer": "ipython3",
   "version": "3.11.5"
  }
 },
 "nbformat": 4,
 "nbformat_minor": 2
}
