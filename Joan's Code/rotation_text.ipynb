{
 "cells": [
  {
   "cell_type": "code",
   "execution_count": 1,
   "metadata": {},
   "outputs": [],
   "source": [
    "import pennylane as qml \n",
    "from pennylane import numpy as np\n",
    "import matplotlib.pyplot as plt"
   ]
  },
  {
   "cell_type": "code",
   "execution_count": 9,
   "metadata": {},
   "outputs": [
    {
     "name": "stdout",
     "output_type": "stream",
     "text": [
      "0: ──RX(3.14)───────────┤ ╭Probs\n",
      "1: ──X─────────RX(3.14)─┤ ╰Probs\n"
     ]
    }
   ],
   "source": [
    "s = 1000\n",
    "dev = qml.device(\"default.qubit\", wires = 2, shots = s)\n",
    "@qml.qnode(dev, interface = \"autograd\")\n",
    "def rotation():\n",
    "    qml.RX(np.pi, 0)\n",
    "    qml.PauliX(1)\n",
    "    qml.RX(np.pi, 1)\n",
    "    return qml.probs(wires = [0,1])\n",
    "drawer = qml.draw(rotation)\n",
    "print(drawer())"
   ]
  },
  {
   "cell_type": "code",
   "execution_count": 10,
   "metadata": {},
   "outputs": [
    {
     "data": {
      "text/plain": [
       "array([0., 0., 1., 0.])"
      ]
     },
     "execution_count": 10,
     "metadata": {},
     "output_type": "execute_result"
    }
   ],
   "source": [
    "rotation()"
   ]
  },
  {
   "cell_type": "code",
   "execution_count": 13,
   "metadata": {},
   "outputs": [
    {
     "name": "stdout",
     "output_type": "stream",
     "text": [
      "0: ──X─┤ ╭Probs\n",
      "1: ────┤ ╰Probs\n"
     ]
    }
   ],
   "source": [
    "s = 1000\n",
    "dev = qml.device(\"default.qubit\", wires = 2, shots = s)\n",
    "@qml.qnode(dev, interface = \"autograd\")\n",
    "def Pauli():\n",
    "    qml.PauliX(0)\n",
    "    return qml.probs(wires = [0,1])\n",
    "drawer = qml.draw(Pauli)\n",
    "print(drawer())"
   ]
  },
  {
   "cell_type": "code",
   "execution_count": 14,
   "metadata": {},
   "outputs": [
    {
     "data": {
      "text/plain": [
       "tensor([0., 0., 1., 0.], requires_grad=True)"
      ]
     },
     "execution_count": 14,
     "metadata": {},
     "output_type": "execute_result"
    }
   ],
   "source": [
    "Pauli()"
   ]
  },
  {
   "cell_type": "code",
   "execution_count": null,
   "metadata": {},
   "outputs": [],
   "source": []
  }
 ],
 "metadata": {
  "kernelspec": {
   "display_name": "base",
   "language": "python",
   "name": "python3"
  },
  "language_info": {
   "codemirror_mode": {
    "name": "ipython",
    "version": 3
   },
   "file_extension": ".py",
   "mimetype": "text/x-python",
   "name": "python",
   "nbconvert_exporter": "python",
   "pygments_lexer": "ipython3",
   "version": "3.10.9"
  }
 },
 "nbformat": 4,
 "nbformat_minor": 2
}
